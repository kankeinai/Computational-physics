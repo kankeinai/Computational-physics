{
  "nbformat": 4,
  "nbformat_minor": 0,
  "metadata": {
    "colab": {
      "name": "a09.ipynb",
      "provenance": [],
      "collapsed_sections": [],
      "toc_visible": true,
      "include_colab_link": true
    },
    "kernelspec": {
      "display_name": "Python 3",
      "name": "python3"
    }
  },
  "cells": [
    {
      "cell_type": "markdown",
      "metadata": {
        "id": "view-in-github",
        "colab_type": "text"
      },
      "source": [
        "<a href=\"https://colab.research.google.com/github/kankeinai/Computational_physics/blob/main/a09.ipynb\" target=\"_parent\"><img src=\"https://colab.research.google.com/assets/colab-badge.svg\" alt=\"Open In Colab\"/></a>"
      ]
    },
    {
      "cell_type": "markdown",
      "metadata": {
        "id": "BBUizSne5YE8"
      },
      "source": [
        "#PHY270 Assignment 9: Numerical integration\r\n",
        "\r\n",
        "Student name: Begantsova Milana"
      ]
    },
    {
      "cell_type": "markdown",
      "metadata": {
        "id": "B5Z7HqelXKcy"
      },
      "source": [
        "##Abstract"
      ]
    },
    {
      "cell_type": "markdown",
      "metadata": {
        "id": "2zI9V4KCXM2_"
      },
      "source": [
        "In this programming assignment we are going to study different methods of numerical integration, namely, Trapezoidal rule, Romberg Integration and Gauss Quadrature. We will use analytical equation for integral of a function and call it ideal one. All integration methods's results will be assesed by absolute and their running time. I will decide which numerical methods is the most convinient one by constructing a matrix that will describe computational cost and accuracy rate. According to the results of this experiment the best method for our function is Gauss Quadrature. To eliminate possibility that \"poor\" implementation of a solution affected the running time, I will also test python library's implementation of those methods. "
      ]
    },
    {
      "cell_type": "markdown",
      "metadata": {
        "id": "yiAjYaz5Y1T5"
      },
      "source": [
        "##Introduction"
      ]
    },
    {
      "cell_type": "markdown",
      "metadata": {
        "id": "SucWrqdzY3jQ"
      },
      "source": [
        "In mathematics, physics and other sciences, it is pretty common to describe an event through an integral of some function. In mathematics, we usually calculate surface area, volume, area under the graphs and other things. But it is not always possible to derive an analytical solution for an integral. So, people have come up with methods that desribe the complicated versions of a Reiman Series. The aim of this assignmnet is to study some of them and choose the most convinient one. \n",
        "\n",
        "From, Calculus classes, we know that the integral of a function, geometrically, is an area under curve:\n",
        "<center>\n",
        "<img src=\"https://calcworkshop.com/wp-content/uploads/riemann-sums-area-distances.png\", height=\"300\">\n",
        "<p>Figure 1 – Reiman Series</p>\n",
        "</center>\n",
        "\n",
        "By increasing the number of rectangles we can achief such moment that the width of a rectangle will be approaching zero and we get the perfect solution.\n",
        "\n",
        "Part 1:\\\n",
        "The first method is Trapesoidal rule. This is the easiest method that is not applicable in real life situtations as it gives perfect solution only for straight line (in the description part you will see how it fits area of a function). But if we apply it multiple times and do it like with Reiman Series, it will achief almost ideal solution faster than Reiman Series, because we will use trapezoids instead of rectangles (look carefully at Figure 1). This solution will be slow and can be used as lower bound (I will explain later on in the Methods section).\n",
        "\n",
        "Part 2:\\\n",
        "Romberg integration is based on the Multiple trapezoidal rule, but improves it by using the Richardson extrapolations. So, now we don't increase the number of tropezoids to achief ideal result, but we combine different solution to the same problem to minimize approximation error and converge to better result much faster.\n",
        "\n",
        "Part 3:\\\n",
        "If Romberg integration is an impoved version of a Trapezoidal rule, the Gauss Quadrature is something much different. We assume that we can identify such points $x$ and coefficient that if we sum everything up we will get a solution. Usually the accuracy is increasing with the number of points. It is quite comples alghorythm with solving of linear systems, so I will use a python library to compute those $t$ values and coefficient.\n",
        "\n",
        "In those three parts I will make my implementation of those methods and compare their accuracy and running time. I will also test how python libary's result is different from my own. \n",
        "\n",
        "My hypothesis is that the Gauss Quadrature method will be the most convinient one since other methods rely too tightly on number of subintervals. If the number of subintervals or the interval itself is too big then it will take much time to calculate even if we optimize it by Richardson extrapolation. Gauss Quadrature instead relies on calculation of coefficients and points which can be optimized and applied to any function. Of course complex functions may require the use of many data points but even with two or three points we can get pretty accuarate result."
      ]
    },
    {
      "cell_type": "markdown",
      "metadata": {
        "id": "ImYfQRoqjzb5"
      },
      "source": [
        "##Methods"
      ]
    },
    {
      "cell_type": "markdown",
      "metadata": {
        "id": "2pFx-aGHj2V0"
      },
      "source": [
        "In this experiment we will use three methods to calculate an integral of a function $v(t)$:\n",
        "$$v(t)=\\frac{gm}{c}(1-e^{\\frac{-ct}{m}})$$\n",
        "where $t\\in[3,9]$.\n",
        "\n",
        "We will use Trapesoidal rule, Romberg Integration and Gauss Quadrature methods to estimate the value of an integral. We will calculate an absolute error of each approximation. The theoretical values for the integral of $v(t)$, I will calculate using analytical formula [1]:  \n",
        "$$\\int_3^9 v(t) \\ dt=\\frac{gm}{c}\\int_3^9 1-e^{-\\frac{c}{m}t}dt=\\frac{gm}{c}(t+\\frac{m}{c}e^{-\\frac{c}{m}t}) \\ \\bigg|_3^9$$\n",
        "I will use formula of absolute error since we are interested in getting approximation that is as much close to the real one as possible. The formula for absolute error:\n",
        "$$\\varepsilon = |theory-measured|$$\n",
        "The first method that I will use is a Trapesoidal rule:\n",
        "$$I=\\frac{f(a)+f(b)}{2}(b-a)+E$$\n",
        "By trapezoidal rule we can calculate the area under curve as the area under the straight line that goes through our boundary values on interval $[a,b]$. It happens though that the are under the straight line is a trapesoid. From algebra classes we know the formula for the area of a trapesoid.\n",
        "\n",
        "The down side of this method that it gives accurate solution only for linear functions and usually down estimates the values of an integral. The advantage of this method is that it is fast and can be calculated directly through this formula (note: we can apply it only if we know values of a function at boundary points). Usually if we devide our interval to subintervals of length $h$:\n",
        "$$h=\\frac{b-a}{n}$$\n",
        "where $n$ is number of subintervals. And try to apply trapesoidal rule at each interval it will give much closer result though it will still down estime the value of an integral. The accuracy of this solution will depend on number of subintervals as with Reiman series. The time-complexity will also depend on number of intervals since we will apply Trapesoidal rule $n$ times. If we want to get a perfect solution it can be too slow, as the error decreases as $O(h^2) on average$.\n",
        "\n",
        "The next method is a Romberg integration. This method combines two ideas: multiple trapezoidal rule and Richardson extrapolation. The Richardson extrapolation uses two different $h$ and finds two approximation of an integral. We know that each approximation has some error $E$, but as it turned out we can try to approximate this error and have final formula for $I$ as [2]:\n",
        "$$I = I_2 + \\frac{I_2-I_1}{\\frac{h_1}{h_2}-1}$$\n",
        "The Richardson extrapolation error decreases as $O(h^4)$. But we can do even faster.\n",
        "\n",
        "The Romberg integration differs since it uses not two approximations, but four or eight or even sixteen if it makes sense. For example, we have four approximations. We at first combine first two toogether, then combine second two together. And do this procedure until we end up with one final result. The formula for Romberg Integration:\n",
        "$$I_{j,k}=\\frac{4^{k-1}I_{j+1,k-1}-I_{j,k-1}}{4^{k-1}-1}$$\n",
        "\n",
        "The upside of this method is that it converges to better accuracy much faster than simple multiple trapezoidal rule. The error of approximation decreases as $O(h^6)$ (we can do even better if we increse the number of $I_{j}$). Though this method is much abstract and non-obvious.\n",
        "\n",
        "Gauss-Quadtrature method relies on idea that we can find such coefficients $\\omega$ and points $t$ that we can approximate the value of any integral as [2]:\n",
        "$$\\int_a^b f(x)dx =\\frac{b-a}{2}\\sum_{i=1}^n \\omega_i f\\left(\\frac{b-a}{2}t_i+\\frac{b+a}{2}\\right)$$  \n",
        "For this method, the only problem is the efficient algorithm that will be able to approximate those coefficients and points. For this purpose, I will use a libary `scipy.special`, a function `roots_lagrange(n)`, where n is degree/number of points. Usually the running time will depend on $n$, but it is not that big value as number of subintervals. The $n$ less than $10$ will be enough for good approximation. \n",
        "\n",
        "I will use built-in magic function %timeit to measure the running time of each alghoritm. It fits fine our goals since it choses optimum number of loops to to measure running time and also allows to store the result.\n",
        "\n",
        "To compare which method is better in terms of computational cost and precision, I will normalize values of absolute errors and running time by formula:\n",
        "$$value_n=\\frac{value - mean(value)}{std(value)}$$\n",
        "Then I will find the \"distance\", in terms of time rate and error rate, from the analytical solution by formula:\n",
        "$$D=\\sqrt{(err-err_{th})^2+(time-time_{th})^2}$$\n",
        "where values with sup \"th\" will be rates for analytical solution. The result of this formula I will call the optimal solution coefficient. The ideal solution will have zero coefficient (which will be analyrical solution itself). I use normalized values for time and error since I don't want one of this features to impact the result more. We are interested in getting solution which will balance between precision and compuattational cost. \n"
      ]
    },
    {
      "cell_type": "markdown",
      "metadata": {
        "id": "7Wj6kvPTu7Oj"
      },
      "source": [
        "##Description"
      ]
    },
    {
      "cell_type": "code",
      "metadata": {
        "id": "XMwPYUBH5qMj"
      },
      "source": [
        "#import all needed libraries\n",
        "import numpy as np\n",
        "import matplotlib.pyplot as plt\n"
      ],
      "execution_count": 1,
      "outputs": []
    },
    {
      "cell_type": "markdown",
      "metadata": {
        "id": "Fy_UXlwZvDCo"
      },
      "source": [
        "By problem definition we are given a function $v(t)$:\n",
        "$$v(t)=\\frac{gm}{c}(1-e^{\\frac{-ct}{m}})$$\n",
        "which has next coefficient: $g=9.8 \\ kg \\ ms^{-2}$, $m=60$, $c=12$\n"
      ]
    },
    {
      "cell_type": "code",
      "metadata": {
        "id": "V37vFyb-51Bk"
      },
      "source": [
        "#the values of coefficient\n",
        "g = np.float128(9.8)\n",
        "c = np.float128(12.)\n",
        "m = np.float128(60.)\n",
        "\n",
        "#the limits of integration\n",
        "t_1 = 3\n",
        "t_2 = 9\n",
        "\n",
        "#the function to compute velosity in any t\n",
        "velosity = lambda t: g*m/c*(1-np.exp(-(c/m)*t))"
      ],
      "execution_count": 2,
      "outputs": []
    },
    {
      "cell_type": "markdown",
      "metadata": {
        "id": "bX9xVCHrHB2P"
      },
      "source": [
        "In this programming assignment we need to calculate the value of integral $v(t)$. We can calculate an analytical solution through:\n",
        "$$\\int_3^9 v(t) \\ dt=\\frac{gm}{c}\\int_3^9 1-e^{-\\frac{c}{m}t}dt=\\frac{gm}{c}(t+\\frac{m}{c}e^{-\\frac{c}{m}t}) \\ \\bigg|_3^9$$"
      ]
    },
    {
      "cell_type": "code",
      "metadata": {
        "colab": {
          "base_uri": "https://localhost:8080/"
        },
        "id": "3d9tbmvyIw3H",
        "outputId": "79f92ecd-9d90-4c9e-c6a3-1b6380e04d21"
      },
      "source": [
        "#analytical formula for integral v(t)\n",
        "vel_int = lambda t: g*m/c*(t+m/c*np.exp(-c/m*t)) \n",
        "int_theory = vel_int(t_2)-vel_int(t_1) \n",
        "\n",
        "print(\"Theoretical value of integral is \", int_theory)"
      ],
      "execution_count": 3,
      "outputs": [
        {
          "output_type": "stream",
          "text": [
            "Theoretical value of integral is  200.03937677125224037\n"
          ],
          "name": "stdout"
        }
      ]
    },
    {
      "cell_type": "markdown",
      "metadata": {
        "id": "GzJTmigNv1I6"
      },
      "source": [
        "This result is not perfect though since np.float128 does not have infinite number of significant figures."
      ]
    },
    {
      "cell_type": "code",
      "metadata": {
        "colab": {
          "base_uri": "https://localhost:8080/"
        },
        "id": "FIXmXq2awDyp",
        "outputId": "a1f37bc9-30ea-4f61-f4e8-3ac3af7250d2"
      },
      "source": [
        "np.finfo(np.float128).precision"
      ],
      "execution_count": 4,
      "outputs": [
        {
          "output_type": "execute_result",
          "data": {
            "text/plain": [
              "18"
            ]
          },
          "metadata": {
            "tags": []
          },
          "execution_count": 4
        }
      ]
    },
    {
      "cell_type": "markdown",
      "metadata": {
        "id": "QNdH3C1BwaS-"
      },
      "source": [
        "So, np.float128 stores our values up until 18 significant figures, so we can say that the error of theoretical solution is:"
      ]
    },
    {
      "cell_type": "code",
      "metadata": {
        "id": "PPYFf2FJwZjP"
      },
      "source": [
        "err_theory=1e-18/2"
      ],
      "execution_count": 5,
      "outputs": []
    },
    {
      "cell_type": "markdown",
      "metadata": {
        "id": "9iSgRoB5w2DX"
      },
      "source": [
        "But for simplicity of our calculations, we will assume that our analytical solution is perfect."
      ]
    },
    {
      "cell_type": "code",
      "metadata": {
        "colab": {
          "base_uri": "https://localhost:8080/"
        },
        "id": "TqLHEoaQZ4uL",
        "outputId": "21ec2d06-c894-47bc-b90f-5e7851e507e8"
      },
      "source": [
        "time_theory = %timeit -o vel_int(t_2)-vel_int(t_1) "
      ],
      "execution_count": 6,
      "outputs": [
        {
          "output_type": "stream",
          "text": [
            "The slowest run took 10.21 times longer than the fastest. This could mean that an intermediate result is being cached.\n",
            "100000 loops, best of 5: 6.96 µs per loop\n"
          ],
          "name": "stdout"
        }
      ]
    },
    {
      "cell_type": "markdown",
      "metadata": {
        "id": "0T8YnxqDxpF2"
      },
      "source": [
        "Function to calculate absolute error:"
      ]
    },
    {
      "cell_type": "code",
      "metadata": {
        "id": "EdrieLPRKIdx"
      },
      "source": [
        "def absolute_error(measured, theory):\n",
        "  return np.abs(theory-measured)"
      ],
      "execution_count": 7,
      "outputs": []
    },
    {
      "cell_type": "markdown",
      "metadata": {
        "id": "wO8hG4ZPKkxM"
      },
      "source": [
        "###Trapezoidal rule"
      ]
    },
    {
      "cell_type": "markdown",
      "metadata": {
        "id": "YjeKvaHj2roK"
      },
      "source": [
        "####Implementation"
      ]
    },
    {
      "cell_type": "markdown",
      "metadata": {
        "id": "wxtHJdJhFSkW"
      },
      "source": [
        "With trapezoidal rule, we draw a straight line through points $(a, f(a))$ and $(b, f(b))$ and then calculate the area of a resulting trapezoid. From math classes we know that the equation of a straight line through two points is:\n",
        "$$f(x)=f(a)+\\frac{f(b)-f(a)}{b-a}(x-a)$$"
      ]
    },
    {
      "cell_type": "code",
      "metadata": {
        "id": "fQtDhYl3T18v"
      },
      "source": [
        "#approx_v is just a function to compute f(x)\n",
        "approx_v = lambda t, a, b: (velosity(b)-velosity(a))/(b-a)*(t-a)+velosity(a)\n",
        "#values to plot the graph\n",
        "t = np.linspace(t_1, t_2, 300)"
      ],
      "execution_count": 8,
      "outputs": []
    },
    {
      "cell_type": "markdown",
      "metadata": {
        "id": "FzmBJg8Rx-B0"
      },
      "source": [
        "I would like to show graphically how the trapezoidal rule approximates the area under the curve:"
      ]
    },
    {
      "cell_type": "code",
      "metadata": {
        "colab": {
          "base_uri": "https://localhost:8080/",
          "height": 415
        },
        "id": "2MevvOPQBIyi",
        "outputId": "7fba2fec-b1de-4931-fe5d-add76f5eb8c8"
      },
      "source": [
        "fig, axs = plt.subplots(1,2,figsize=(18,6))\n",
        "fig.suptitle(\"Velosity versus time graph\", fontsize=20)\n",
        "labels = [\"The area under v(t)\", \"The area under v(t) and approximated v(t)\"]\n",
        "for label, ax in zip(labels, axs):\n",
        "  ax.set_title(label)\n",
        "  ax.fill_between(t, velosity(t), linestyle = '--',  alpha=0.5, color = 'r', label = \"Area under v(t)\")\n",
        "  ax.set_xlim(0,10)\n",
        "  ax.set_ylim(0,50)\n",
        "  ax.grid()\n",
        "  ax.set_xlabel(\"t, s\")\n",
        "  ax.set_ylabel(\"v(t), m/s\")\n",
        "\n",
        "axs[1].fill_between(t, approx_v(t, t_1, t_2), linestyle = '--',  alpha=0.5, color = 'b', label = \"Trapezoidal rule area\")\n",
        "axs[0].legend()\n",
        "axs[1].legend()\n",
        "plt.show()\n",
        "#Figure 1"
      ],
      "execution_count": 9,
      "outputs": [
        {
          "output_type": "display_data",
          "data": {
            "image/png": "[encoded data removed]",
            "text/plain": [
              "<Figure size 1296x432 with 2 Axes>"
            ]
          },
          "metadata": {
            "tags": [],
            "needs_background": "light"
          }
        }
      ]
    },
    {
      "cell_type": "markdown",
      "metadata": {
        "id": "klSjnjdy6goh"
      },
      "source": [
        "From Figure 1.2 we see that the red area indicates the error of Trapezoidal rule. For our function $v(t)$ trapezoidal rule will give not that bad solution. It can be considered as lower bound solution.\n",
        "\n",
        "Suppose we need to find and integral on any partion of $P=\\{x_1, x_2...x_n\\}$ of $a \\leqslant x_1...x_n\\leqslant b$\n",
        "$$I=\\int_a^b f(x)dx =\\sum_{j=1}^nf(c_j)(x_j-x_{j-1}), \\ x_{j-1} \\leqslant c_j\\leqslant x_j$$\n",
        "If $f(x)$ is a polinomial of first order then it can be proved that the integral approximately equal to:\n",
        "$$I\\approx \\frac{f(a)+f(b)}{2}\\sum_{j=1}^n(x_j-x_{j-1})=\\frac{f(a)+f(b)}{2}(b-a)$$\n",
        "which is the same as formula for area of a trapezoid. Lets implement it as a function:"
      ]
    },
    {
      "cell_type": "code",
      "metadata": {
        "id": "h2YhpS8x-HNN"
      },
      "source": [
        "def trapezoidal_rule(f,a, b):\n",
        "  return (f(a)+f(b))/2*(b-a)"
      ],
      "execution_count": 10,
      "outputs": []
    },
    {
      "cell_type": "code",
      "metadata": {
        "colab": {
          "base_uri": "https://localhost:8080/"
        },
        "id": "FKzf5Wpb6cea",
        "outputId": "7df20e83-84cd-435e-f595-0fcd61be9324"
      },
      "source": [
        "int_trapezoid = trapezoidal_rule(velosity, t_1, t_2)\n",
        "print(\"Value of integral with trapezoidal rule is \", int_trapezoid)"
      ],
      "execution_count": 11,
      "outputs": [
        {
          "output_type": "stream",
          "text": [
            "Value of integral with trapezoidal rule is  189.02575292560490698\n"
          ],
          "name": "stdout"
        }
      ]
    },
    {
      "cell_type": "code",
      "metadata": {
        "colab": {
          "base_uri": "https://localhost:8080/"
        },
        "id": "gMMUjc0TKUFD",
        "outputId": "99b1061e-70c3-4fcf-a0c2-1820e5a91aab"
      },
      "source": [
        "err_trapezoid = absolute_error(int_trapezoid, int_theory)\n",
        "print(\"Absolute error with trapezoidal rule is \", err_trapezoid)"
      ],
      "execution_count": 12,
      "outputs": [
        {
          "output_type": "stream",
          "text": [
            "Absolute error with trapezoidal rule is  11.013623845647333391\n"
          ],
          "name": "stdout"
        }
      ]
    },
    {
      "cell_type": "code",
      "metadata": {
        "colab": {
          "base_uri": "https://localhost:8080/"
        },
        "id": "TcHM1kPIZ5YM",
        "outputId": "340f1c2a-4bcf-45f4-b9df-3ca540744a7a"
      },
      "source": [
        "time_trapezoid = %timeit -o trapezoidal_rule(velosity, t_1, t_2)"
      ],
      "execution_count": 13,
      "outputs": [
        {
          "output_type": "stream",
          "text": [
            "The slowest run took 7.65 times longer than the fastest. This could mean that an intermediate result is being cached.\n",
            "100000 loops, best of 5: 7 µs per loop\n"
          ],
          "name": "stdout"
        }
      ]
    },
    {
      "cell_type": "markdown",
      "metadata": {
        "id": "QbzOGbFlRP1n"
      },
      "source": [
        "We can improve our solution if we apply trapezoidal rule mupltiple times. We can devide our interval $[a,b]$ into $n$ sub-intervals, where each sub interval will be calculated according to formula:\n",
        "$$h=\\frac{b-a}{n}$$\n",
        "$$x_0 = a, \\ x_i = a+ih$$\n",
        "\n",
        "And we can apply trapezoidal rule for each subinterval of $[a,b]$ to end up with more accurate solution. To show graphically how multiple Trapezoidal rule differs from single one, I will devide the interval into 5:"
      ]
    },
    {
      "cell_type": "code",
      "metadata": {
        "id": "5pVKaHA2eWQJ"
      },
      "source": [
        "n = 5"
      ],
      "execution_count": 14,
      "outputs": []
    },
    {
      "cell_type": "code",
      "metadata": {
        "colab": {
          "base_uri": "https://localhost:8080/",
          "height": 417
        },
        "id": "qdQDfkjmRZo7",
        "outputId": "f08856b0-20e3-4cad-bda5-1424cb2ec699"
      },
      "source": [
        "fig, axs = plt.subplots(1,2, figsize=(18,6))\n",
        "fig.suptitle(\"Velosity versus time graph\", fontsize=20)\n",
        "\n",
        "for ax in axs: \n",
        "  ax.set_title(label) \n",
        "  ax.fill_between(t, velosity(t), linestyle = '--',  alpha=0.5, color = 'r', label = \"Area under v(t)\")\n",
        "  ax.grid()\n",
        "  ax.set_xlim(0,10)\n",
        "  ax.set_ylim(0,50)\n",
        "  ax.set_xlabel(\"t, s\",fontsize=15)\n",
        "  ax.set_ylabel(\"v(t), m/s\",fontsize=15)\n",
        "\n",
        "h = (t_2 - t_1)/n\n",
        "t_old = t_1\n",
        "for i in range(n):\n",
        "  sub_t = np.linspace(t_old, t_old + h, n)\n",
        "  axs[1].fill_between(sub_t, approx_v(sub_t, t_old, t_old + h), linestyle = '--',  alpha=0.5, label = f\"Area {t_old:.2f}<=t<={t_old+h:.2f}\")\n",
        "  t_old+=h\n",
        "\n",
        "axs[0].legend()\n",
        "axs[1].legend()\n",
        "plt.show()\n",
        "#Figure 2"
      ],
      "execution_count": 15,
      "outputs": [
        {
          "output_type": "display_data",
          "data": {
            "image/png": "[encoded data removed]",
            "text/plain": [
              "<Figure size 1296x432 with 2 Axes>"
            ]
          },
          "metadata": {
            "tags": [],
            "needs_background": "light"
          }
        }
      ]
    },
    {
      "cell_type": "markdown",
      "metadata": {
        "id": "s6VsVAzVWh_k"
      },
      "source": [
        "Now it is quite difficult to distinguish the red area that indicates the error of approximation. We just need to repeat trapezoidal rule $n$ times:"
      ]
    },
    {
      "cell_type": "code",
      "metadata": {
        "id": "KJhXfeyUW-ik"
      },
      "source": [
        "def multiple_trapezoid(f, a, b, n):\n",
        "  h = (b - a)/n\n",
        "  area = sum([trapezoidal_rule(f, a+h*(i-1), a+h*i) for i in range(1, n+1)])\n",
        "  return area"
      ],
      "execution_count": 16,
      "outputs": []
    },
    {
      "cell_type": "markdown",
      "metadata": {
        "id": "9lX1TOMKzhJk"
      },
      "source": [
        "The relative error of a multiple Trapezoidal rule, strictly depends on number of subintervals. We should draw a graph of absolute error versus number of subintervals:"
      ]
    },
    {
      "cell_type": "code",
      "metadata": {
        "id": "bVMMCWULX1hZ"
      },
      "source": [
        "err = []\n",
        "x =[1]+[i*5 for i in range(1,81)]\n",
        "for N in x:\n",
        "  mult = multiple_trapezoid(velosity, t_1, t_2, N)\n",
        "  err.append(absolute_error(mult, int_theory))"
      ],
      "execution_count": 17,
      "outputs": []
    },
    {
      "cell_type": "markdown",
      "metadata": {
        "id": "WQANDFwfzwTq"
      },
      "source": [
        "We will use similar graphs multiple times, so I wrote a function:"
      ]
    },
    {
      "cell_type": "code",
      "metadata": {
        "id": "10aGr1D7YRm1"
      },
      "source": [
        "def show_error_graph(data):  \n",
        "  fig, ax = plt.subplots(figsize=(15,10))\n",
        "  ax.set_title(data['title'],fontsize=20)\n",
        "  ax.plot(data['x'], data['err'], label=data['legend'], c='r')\n",
        "  ax.set_xlabel(data['x_axis'],fontsize=15)\n",
        "  ax.set_ylabel(data['y_axis'],fontsize=15)\n",
        "  ax.set_xscale('log')\n",
        "  ax.set_yscale('log')\n",
        "  plt.legend()\n",
        "  plt.grid()\n",
        "  plt.show()"
      ],
      "execution_count": 18,
      "outputs": []
    },
    {
      "cell_type": "code",
      "metadata": {
        "colab": {
          "base_uri": "https://localhost:8080/",
          "height": 635
        },
        "id": "V0p4xvkdJelq",
        "outputId": "da982eb4-25c6-4ef1-83ab-656f987a53b6"
      },
      "source": [
        "#settings for graph\n",
        "data = {'x': x, 'err':err, \n",
        "        'title': \"The error of multiple trapezoidal rule vs N\", \n",
        "        'legend':\"Absolute error of multy Trapezoidal rule\",\n",
        "        'x_axis':\"N, subintervals\", 'y_axis':\"Error\"}\n",
        "show_error_graph(data)\n",
        "#Figure 3"
      ],
      "execution_count": 19,
      "outputs": [
        {
          "output_type": "display_data",
          "data": {
            "image/png": "[encoded data removed]",
            "text/plain": [
              "<Figure size 1080x720 with 1 Axes>"
            ]
          },
          "metadata": {
            "tags": [],
            "needs_background": "light"
          }
        }
      ]
    },
    {
      "cell_type": "code",
      "metadata": {
        "colab": {
          "base_uri": "https://localhost:8080/"
        },
        "id": "mOXncgKaeBWD",
        "outputId": "c929acbb-519a-4cb8-e986-86b24af202fa"
      },
      "source": [
        "n=400\n",
        "int_trapezoid_mult = multiple_trapezoid(velosity, t_1, t_2, n)\n",
        "print(\"Value of integral with multiple trapezoidal rule is \", int_trapezoid_mult)"
      ],
      "execution_count": 20,
      "outputs": [
        {
          "output_type": "stream",
          "text": [
            "Value of integral with multiple trapezoidal rule is  200.03930630079538934\n"
          ],
          "name": "stdout"
        }
      ]
    },
    {
      "cell_type": "code",
      "metadata": {
        "colab": {
          "base_uri": "https://localhost:8080/"
        },
        "id": "2z1I9QSoaPg_",
        "outputId": "1eb98998-145b-452e-e076-08b3e334b187"
      },
      "source": [
        "err_trapezoid_mult = absolute_error(int_trapezoid_mult, int_theory)\n",
        "print(f\"Absolute error with {n} subintervals\", err_trapezoid_mult)"
      ],
      "execution_count": 21,
      "outputs": [
        {
          "output_type": "stream",
          "text": [
            "Absolute error with 400 subintervals 7.0470456851032259316e-05\n"
          ],
          "name": "stdout"
        }
      ]
    },
    {
      "cell_type": "code",
      "metadata": {
        "colab": {
          "base_uri": "https://localhost:8080/"
        },
        "id": "Vu7iz_t9ZhyF",
        "outputId": "0c80dcff-a7c5-4006-ecc4-3fe0b94daeaf"
      },
      "source": [
        "time_trapezoid_mult = %timeit -o multiple_trapezoid(velosity, t_1, t_2, n)"
      ],
      "execution_count": 22,
      "outputs": [
        {
          "output_type": "stream",
          "text": [
            "100 loops, best of 5: 2.93 ms per loop\n"
          ],
          "name": "stdout"
        }
      ]
    },
    {
      "cell_type": "code",
      "metadata": {
        "colab": {
          "base_uri": "https://localhost:8080/"
        },
        "id": "_jrE2zJlb6dv",
        "outputId": "45872197-1c75-468c-b2c5-268c4517421a"
      },
      "source": [
        "print(f\"With {n} subintervals it took {time_trapezoid_mult.best/time_trapezoid.best:.2f} times longer than Trapezoidal rule\\nto get accuracy {err_trapezoid/err_trapezoid_mult:.0f} times highier\")"
      ],
      "execution_count": 23,
      "outputs": [
        {
          "output_type": "stream",
          "text": [
            "With 400 subintervals it took 418.74 times longer than Trapezoidal rule\n",
            "to get accuracy 156287 times highier\n"
          ],
          "name": "stdout"
        }
      ]
    },
    {
      "cell_type": "markdown",
      "metadata": {
        "id": "xopxdNWlepZa"
      },
      "source": [
        "If we continue increasing the number of intervals we can achief the limits of accuracy of a `numpy.float128` datatype. But the error of approximation will decrease as $O\\left(h^2\\right)$ (where $N$ is the number of intervals) which is quite slow."
      ]
    },
    {
      "cell_type": "markdown",
      "metadata": {
        "id": "ikmXZfbPLrUb"
      },
      "source": [
        "###Romberg integration"
      ]
    },
    {
      "cell_type": "markdown",
      "metadata": {
        "id": "YsWnemuF2dyk"
      },
      "source": [
        "####Implementation"
      ]
    },
    {
      "cell_type": "markdown",
      "metadata": {
        "id": "dnDzw-09LUkY"
      },
      "source": [
        "Romberg integration uses ideas of Richard extrapolation and Multy Trapezoidal rule to increase better accuracy. By Richard extrapolation we can get result with highier precision if we calculate two approximations and then combine their result:\n",
        "$$I = I_2 + \\frac{I_2-I_1}{\\frac{h_1}{h_2}-1}$$\n",
        "where $I_1$ and $I_2$ are calculated with Multy-Trapezoidal rule with different $h_i$ such that $h_2 < h_1$.\n",
        "\n",
        "Romberg Integration goes even further and assumes that we have even more $I_i$. Suppose we have $I_1(h), I_2(\\frac{h}{2}), I_3(\\frac{h}{4})$ and $I_4(\\frac{h}{8})$. We can combine those solutions pairvise until we reach our final solution. The formula for Romberg integration:\n",
        "$$I_{j,k}=\\frac{4^{k-1}I_{j+1,k-1}-I_{j,k-1}}{4^{k-1}-1}$$\n",
        "\n",
        "If we have our solution uses only one $I(h)$ then it is just simple Multi-trapezoidal rule – $O(h^2)$. If we use richard extrapolation, then our error decreases as $O(h^4)$. With Romberg integration since it combines innitially four values of $I$, its error decreases as $O(h^6)$."
      ]
    },
    {
      "cell_type": "code",
      "metadata": {
        "id": "yUGeiCRH-Nvm"
      },
      "source": [
        "def extrapolation(I, k):\n",
        "  for i in range(0, len(I)-1):\n",
        "      I[i]=(4**(k+1)*I[i+1]-I[i])/(4**(k+1)-1)\n",
        "  I.pop()\n",
        "  return I"
      ],
      "execution_count": 24,
      "outputs": []
    },
    {
      "cell_type": "code",
      "metadata": {
        "id": "B4jgr8gEzYhE"
      },
      "source": [
        "def romberg_integration(f, a, b, n, k = 4):\n",
        "  #generate approximate values of I\n",
        "  I = [multiple_trapezoid(f, a, b, n*2**i) for i in range(0, k)]\n",
        "  #combine them until we reach one solution\n",
        "  while len(I)>1:\n",
        "    I = extrapolation(I, k-len(I))\n",
        "  return I.pop()"
      ],
      "execution_count": 25,
      "outputs": []
    },
    {
      "cell_type": "markdown",
      "metadata": {
        "id": "j7WY6E220zkK"
      },
      "source": [
        "Romberg integration also depends on number of subintervals:"
      ]
    },
    {
      "cell_type": "code",
      "metadata": {
        "id": "gt-CAZOqGDl6"
      },
      "source": [
        "err_romberg = []\n",
        "x_romberg = np.arange(1, 30)\n",
        "for N in x_romberg:\n",
        "  romberg = romberg_integration(velosity, t_1, t_2, N)\n",
        "  err_romberg.append(absolute_error(romberg, int_theory))"
      ],
      "execution_count": 26,
      "outputs": []
    },
    {
      "cell_type": "code",
      "metadata": {
        "colab": {
          "base_uri": "https://localhost:8080/",
          "height": 635
        },
        "id": "KwCx86BfGNVB",
        "outputId": "ae3291f5-312e-41c4-fb18-a618547845e3"
      },
      "source": [
        "#graph settings\n",
        "data_romberg = {'x': x_romberg, 'err': err_romberg, \n",
        "        'title': f\"The error of Romberg Integration with min n\", \n",
        "        'legend':\"Absolute error of Romberg Integration\",\n",
        "        'x_axis':\"n\", 'y_axis':\"Error\"}\n",
        "show_error_graph(data_romberg)\n",
        "#Figure 4"
      ],
      "execution_count": 27,
      "outputs": [
        {
          "output_type": "display_data",
          "data": {
            "image/png": "[encoded data removed]",
            "text/plain": [
              "<Figure size 1080x720 with 1 Axes>"
            ]
          },
          "metadata": {
            "tags": [],
            "needs_background": "light"
          }
        }
      ]
    },
    {
      "cell_type": "code",
      "metadata": {
        "colab": {
          "base_uri": "https://localhost:8080/"
        },
        "id": "my1gMaQZz961",
        "outputId": "e91a5db2-9f85-42f2-95cf-91630bc6bfb3"
      },
      "source": [
        "n = 15\n",
        "int_romberg = romberg_integration(velosity, t_1, t_2, n)\n",
        "print(\"Value of integral with Romberg integration rule is \", int_romberg)"
      ],
      "execution_count": 28,
      "outputs": [
        {
          "output_type": "stream",
          "text": [
            "Value of integral with Romberg integration rule is  200.03937677125224041\n"
          ],
          "name": "stdout"
        }
      ]
    },
    {
      "cell_type": "code",
      "metadata": {
        "colab": {
          "base_uri": "https://localhost:8080/"
        },
        "id": "s8rADH4J0W5a",
        "outputId": "fd19867b-911a-4613-911a-683dd341b839"
      },
      "source": [
        "err_romberg = absolute_error(int_romberg, int_theory)\n",
        "print(f\"Absolute error of Romberg Integration k=3 is \", err_romberg)"
      ],
      "execution_count": 29,
      "outputs": [
        {
          "output_type": "stream",
          "text": [
            "Absolute error of Romberg Integration k=3 is  4.1633363423443370266e-17\n"
          ],
          "name": "stdout"
        }
      ]
    },
    {
      "cell_type": "code",
      "metadata": {
        "colab": {
          "base_uri": "https://localhost:8080/"
        },
        "id": "n6QOKDlQ0hTb",
        "outputId": "5029e3f5-e666-4913-c541-d492b90fa4c5"
      },
      "source": [
        "time_romberg = %timeit -o romberg_integration(velosity, t_1, t_2, n)"
      ],
      "execution_count": 30,
      "outputs": [
        {
          "output_type": "stream",
          "text": [
            "1000 loops, best of 5: 1.65 ms per loop\n"
          ],
          "name": "stdout"
        }
      ]
    },
    {
      "cell_type": "code",
      "metadata": {
        "colab": {
          "base_uri": "https://localhost:8080/"
        },
        "id": "8rsIKPX50yM_",
        "outputId": "d481eb88-b746-4998-d38e-daf2c7728f04"
      },
      "source": [
        "print(f\"Romberg integration took {time_romberg.best/time_trapezoid.best:.2f} times longer than Trapezoidal rule\\nto get accuracy {err_trapezoid/err_romberg:.0f} times higher\")"
      ],
      "execution_count": 31,
      "outputs": [
        {
          "output_type": "stream",
          "text": [
            "Romberg integration took 235.70 times longer than Trapezoidal rule\n",
            "to get accuracy 264538411985366080 times higher\n"
          ],
          "name": "stdout"
        }
      ]
    },
    {
      "cell_type": "markdown",
      "metadata": {
        "id": "hcLNpgdeQIMs"
      },
      "source": [
        "We can increase number of levels even further and get $O(h^8)$ if we innitialy generate 8 different values of $I$"
      ]
    },
    {
      "cell_type": "code",
      "metadata": {
        "id": "a0RMIUqWDejR"
      },
      "source": [
        "err_romberg_new = []\n",
        "x_romberg = np.arange(1, 10)\n",
        "for N in x_romberg:\n",
        "  romberg = romberg_integration(velosity, t_1, t_2, N, 8)\n",
        "  err_romberg_new.append(absolute_error(romberg, int_theory))"
      ],
      "execution_count": 32,
      "outputs": []
    },
    {
      "cell_type": "code",
      "metadata": {
        "colab": {
          "base_uri": "https://localhost:8080/",
          "height": 635
        },
        "id": "nRbyVeshDqYX",
        "outputId": "3daf36aa-23d6-470c-a71f-0fa6cb95934b"
      },
      "source": [
        "data_romberg_new = {'x': x_romberg, 'err': err_romberg_new, \n",
        "        'title': f\"The error of Romberg Integration with min n\", \n",
        "        'legend':\"Absolute error of Romberg Integration\",\n",
        "        'x_axis':\"n\", 'y_axis':\"Error\"}\n",
        "show_error_graph(data_romberg_new)\n",
        "#Figure 4"
      ],
      "execution_count": 33,
      "outputs": [
        {
          "output_type": "display_data",
          "data": {
            "image/png": "[encoded data removed]",
            "text/plain": [
              "<Figure size 1080x720 with 1 Axes>"
            ]
          },
          "metadata": {
            "tags": [],
            "needs_background": "light"
          }
        }
      ]
    },
    {
      "cell_type": "code",
      "metadata": {
        "colab": {
          "base_uri": "https://localhost:8080/"
        },
        "id": "Xl49JY2HQYlo",
        "outputId": "aff7b398-3c3d-49b9-821c-ff53f49ae464"
      },
      "source": [
        "n = 1\n",
        "int_romberg_new = romberg_integration(velosity, t_1, t_2, n, 8)\n",
        "print(\"Value of integral with Romberg integration k=4 rule is \", int_romberg_new)"
      ],
      "execution_count": 34,
      "outputs": [
        {
          "output_type": "stream",
          "text": [
            "Value of integral with Romberg integration k=4 rule is  200.03937677125224036\n"
          ],
          "name": "stdout"
        }
      ]
    },
    {
      "cell_type": "code",
      "metadata": {
        "colab": {
          "base_uri": "https://localhost:8080/"
        },
        "id": "Hj1V4UT2QgI-",
        "outputId": "fc69a96b-19cc-44b2-fe0a-baf18bb3b9be"
      },
      "source": [
        "err_romberg_new = absolute_error(int_romberg_new, int_theory)\n",
        "print(f\"Absolute error of Romberg Integration k=4 is \", err_romberg_new)"
      ],
      "execution_count": 35,
      "outputs": [
        {
          "output_type": "stream",
          "text": [
            "Absolute error of Romberg Integration k=4 is  1.3877787807814456755e-17\n"
          ],
          "name": "stdout"
        }
      ]
    },
    {
      "cell_type": "code",
      "metadata": {
        "colab": {
          "base_uri": "https://localhost:8080/"
        },
        "id": "50E1LM0mQj17",
        "outputId": "5f56ec8b-4bb3-427b-9ab8-e82ad61f192d"
      },
      "source": [
        "time_romberg_new = %timeit -o romberg_integration(velosity, t_1, t_2, n, 8)"
      ],
      "execution_count": 36,
      "outputs": [
        {
          "output_type": "stream",
          "text": [
            "1000 loops, best of 5: 1.92 ms per loop\n"
          ],
          "name": "stdout"
        }
      ]
    },
    {
      "cell_type": "code",
      "metadata": {
        "colab": {
          "base_uri": "https://localhost:8080/"
        },
        "id": "L-2wdphVQm-q",
        "outputId": "cb1e19c6-a361-4f8c-f78e-42b7017fe296"
      },
      "source": [
        "print(f\"Romberg integration took {time_romberg_new.best/time_trapezoid.best:.2f} times longer than Trapezoidal rule\\nto get accuracy {err_trapezoid/err_romberg_new:.0f} times highier\")"
      ],
      "execution_count": 37,
      "outputs": [
        {
          "output_type": "stream",
          "text": [
            "Romberg integration took 274.23 times longer than Trapezoidal rule\n",
            "to get accuracy 793615235956098176 times highier\n"
          ],
          "name": "stdout"
        }
      ]
    },
    {
      "cell_type": "markdown",
      "metadata": {
        "id": "XcDOBqzQ1_jN"
      },
      "source": [
        "With different levels of Romberg integration, I achieved maximum precision of $\\approx 1.4\\cdot 10^{-17}$. Romberg integration with level=4 achieved this accuracy slightly faster. At the moment this is the best accuracy that I could achieved in $2ms$."
      ]
    },
    {
      "cell_type": "markdown",
      "metadata": {
        "id": "hTqv4Z_Vk7Z4"
      },
      "source": [
        "####Python library"
      ]
    },
    {
      "cell_type": "markdown",
      "metadata": {
        "id": "wuP2YmaR2hIi"
      },
      "source": [
        "The `scipy.integrate` library has Romberg alghoritm, lets compare perfomcances of implementations:"
      ]
    },
    {
      "cell_type": "code",
      "metadata": {
        "colab": {
          "base_uri": "https://localhost:8080/"
        },
        "id": "J5vUJ8vMlBwc",
        "outputId": "79ae01a6-3622-4874-d6e2-2222e6175f71"
      },
      "source": [
        "from scipy.integrate import romberg\n",
        "int_scipy_romberg = romberg(velosity, t_1, t_2, show=True)"
      ],
      "execution_count": 38,
      "outputs": [
        {
          "output_type": "stream",
          "text": [
            "Romberg integration of <function vectorize1.<locals>.vfunc at 0x7ffb2f3f60e0> from [3, 9]\n",
            "\n",
            " Steps  StepSize   Results\n",
            "     1  6.000000 189.025753 \n",
            "     2  3.000000 197.237327 199.974519 \n",
            "     4  1.500000 199.335727 200.035193 200.039238 \n",
            "     8  0.750000 199.863267 200.039113 200.039375 200.039377 \n",
            "    16  0.375000 199.995337 200.039360 200.039377 200.039377 200.039377 \n",
            "\n",
            "The final result is 200.03937677124119864 after 17 function evaluations.\n"
          ],
          "name": "stdout"
        }
      ]
    },
    {
      "cell_type": "code",
      "metadata": {
        "colab": {
          "base_uri": "https://localhost:8080/"
        },
        "id": "mVI-QBqolYws",
        "outputId": "26aa135d-8c8e-4ef9-9879-a133d650a1a8"
      },
      "source": [
        "err_scipy_romberg = absolute_error(int_scipy_romberg , int_theory)\n",
        "print(f\"Absolute error of Scipy Romberg Integration is \", err_scipy_romberg)"
      ],
      "execution_count": 39,
      "outputs": [
        {
          "output_type": "stream",
          "text": [
            "Absolute error of Scipy Romberg Integration is  1.1041736969197302187e-11\n"
          ],
          "name": "stdout"
        }
      ]
    },
    {
      "cell_type": "code",
      "metadata": {
        "colab": {
          "base_uri": "https://localhost:8080/"
        },
        "id": "U3GGWFFClrrH",
        "outputId": "a4dc51fd-e2d5-471d-e5e7-07ff154c1f5c"
      },
      "source": [
        "time_scipy_romberg = %timeit -o romberg(velosity, t_1, t_2)"
      ],
      "execution_count": 40,
      "outputs": [
        {
          "output_type": "stream",
          "text": [
            "1000 loops, best of 5: 151 µs per loop\n"
          ],
          "name": "stdout"
        }
      ]
    },
    {
      "cell_type": "code",
      "metadata": {
        "colab": {
          "base_uri": "https://localhost:8080/"
        },
        "id": "YzmluqJ9l71r",
        "outputId": "24d9bcd4-8fa6-4f08-a2a5-4dc67296ab7e"
      },
      "source": [
        "print(f\"Romberg integration took {time_scipy_romberg.best/time_trapezoid.best:.2f} times longer than Trapezoidal rule\\nto get accuracy {err_trapezoid/err_scipy_romberg:.0f} times highier\")"
      ],
      "execution_count": 41,
      "outputs": [
        {
          "output_type": "stream",
          "text": [
            "Romberg integration took 21.56 times longer than Trapezoidal rule\n",
            "to get accuracy 997453922003 times highier\n"
          ],
          "name": "stdout"
        }
      ]
    },
    {
      "cell_type": "markdown",
      "metadata": {
        "id": "4WgsgtJK3X5d"
      },
      "source": [
        "The result of `scipy.integrate` is much lower in precision, but faster than mine implementation. I suppose that they use $n=1$ to achiev such precision and number of solutions is 5."
      ]
    },
    {
      "cell_type": "code",
      "metadata": {
        "colab": {
          "base_uri": "https://localhost:8080/"
        },
        "id": "uyHWKL7H3zsb",
        "outputId": "a0942fed-c354-49fd-e1c6-63d7861c5ea3"
      },
      "source": [
        "n = 1\n",
        "int_romberg_check = romberg_integration(velosity, t_1, t_2, n, 5)\n",
        "print(\"Value of integral with Romberg integration k=4 rule is \", int_romberg_new)\n",
        "err_romberg_check = absolute_error(int_romberg_check , int_theory)\n",
        "print(f\"Absolute error of Scipy Romberg Integration is \", err_romberg_check)"
      ],
      "execution_count": 42,
      "outputs": [
        {
          "output_type": "stream",
          "text": [
            "Value of integral with Romberg integration k=4 rule is  200.03937677125224036\n",
            "Absolute error of Scipy Romberg Integration is  1.1041764724772917816e-11\n"
          ],
          "name": "stdout"
        }
      ]
    },
    {
      "cell_type": "code",
      "metadata": {
        "colab": {
          "base_uri": "https://localhost:8080/"
        },
        "id": "MPSfDz4f4FqH",
        "outputId": "81071e36-ec91-4819-a942-079ab3bd15d1"
      },
      "source": [
        "time_romberg_check = %timeit -o romberg_integration(velosity, t_1, t_2, n, 5)"
      ],
      "execution_count": 43,
      "outputs": [
        {
          "output_type": "stream",
          "text": [
            "1000 loops, best of 5: 249 µs per loop\n"
          ],
          "name": "stdout"
        }
      ]
    },
    {
      "cell_type": "markdown",
      "metadata": {
        "id": "4KzQjf4N5CFh"
      },
      "source": [
        "So, I can conlcude that my solution and python's are almost the same, but my implementation allows to set to greater precision through additional computation cost."
      ]
    },
    {
      "cell_type": "markdown",
      "metadata": {
        "id": "u44B7egbIt3i"
      },
      "source": [
        "###Gauss Quadrature"
      ]
    },
    {
      "cell_type": "markdown",
      "metadata": {
        "id": "DDt212A_2jnO"
      },
      "source": [
        "####Implementation"
      ]
    },
    {
      "cell_type": "markdown",
      "metadata": {
        "id": "j-4lzzMj5TgZ"
      },
      "source": [
        "According to Gauss method we can calculate integral of any function if we choose right coefficients and values for $t$:\n",
        "$$\\int_a^b f(x)dx = \\frac{b-a}{2}\\int_{-1}^{1}f\\left(\\frac{b-a}{2}t+\\frac{b+a}{2}\\right)dt=\\frac{b-a}{2}\\sum_{i=1}^n \\omega_i f\\left(\\frac{b-a}{2}t_i+\\frac{b+a}{2}\\right)=\\frac{b-a}{2}\\omega \\cdot f\\left(\\frac{b-a}{2}t+\\frac{b+a}{2}\\right)$$\n",
        "\n",
        "We can approximate these roots and coefficient using python library called `scipy.special` [2]:"
      ]
    },
    {
      "cell_type": "code",
      "metadata": {
        "id": "_aV-IxgFFqh9"
      },
      "source": [
        "from scipy.special import roots_legendre"
      ],
      "execution_count": 44,
      "outputs": []
    },
    {
      "cell_type": "code",
      "metadata": {
        "id": "il6jSn8EtxCf"
      },
      "source": [
        "#the formula for gauss quadrature\n",
        "def gauss_quadrature(a,b, n=10):\n",
        "  x_gauss, w_gauss = roots_legendre(n)\n",
        "  return np.dot(w_gauss,velosity(((b-a)*x_gauss+b+a)/2))*(b-a)/2"
      ],
      "execution_count": 45,
      "outputs": []
    },
    {
      "cell_type": "markdown",
      "metadata": {
        "id": "a3ZspiaF6Ggo"
      },
      "source": [
        "The precision of Gauss Quadrature depends on number of roots, so I need to look at the graph of absolute error versus $n$:"
      ]
    },
    {
      "cell_type": "code",
      "metadata": {
        "id": "T6zngHy2F3xl"
      },
      "source": [
        "err_gauss_quad = []\n",
        "x_gauss_quad = np.arange(1, 51)\n",
        "for N in x_gauss_quad:\n",
        "  gauss_quad = gauss_quadrature(t_1, t_2, N)\n",
        "  err_gauss_quad.append(absolute_error(gauss_quad, int_theory))"
      ],
      "execution_count": 46,
      "outputs": []
    },
    {
      "cell_type": "code",
      "metadata": {
        "colab": {
          "base_uri": "https://localhost:8080/",
          "height": 635
        },
        "id": "m0Qpr_ywGGPb",
        "outputId": "a19ea384-d7e2-46f1-e36c-4282bc5cd458"
      },
      "source": [
        "#settings for graph\n",
        "data_gauss_quad = {'x': x_gauss_quad, 'err': err_gauss_quad, \n",
        "        'title': f\"The error of Gauss Quadrature versus degree\", \n",
        "        'legend':\"Absolute error of Gauss Quadrature\",\n",
        "        'x_axis':\"n, degree\", 'y_axis':\"Absolute error\"}\n",
        "show_error_graph(data_gauss_quad)\n",
        "#Figure 4"
      ],
      "execution_count": 47,
      "outputs": [
        {
          "output_type": "display_data",
          "data": {
            "image/png": "[encoded data removed]",
            "text/plain": [
              "<Figure size 1080x720 with 1 Axes>"
            ]
          },
          "metadata": {
            "tags": [],
            "needs_background": "light"
          }
        }
      ]
    },
    {
      "cell_type": "markdown",
      "metadata": {
        "id": "IjjzYZO66YLt"
      },
      "source": [
        "Solution seems to converge to global minimum at $n=9$:"
      ]
    },
    {
      "cell_type": "code",
      "metadata": {
        "colab": {
          "base_uri": "https://localhost:8080/"
        },
        "id": "qwAEc-8DvENu",
        "outputId": "bf2b783d-215f-4c8c-b14d-23488d208dd8"
      },
      "source": [
        "int_gauss_quad = gauss_quadrature(t_1, t_2, 9)\n",
        "print(\"Value of integral with Gauss Quadrature n=9 is \", int_gauss_quad)"
      ],
      "execution_count": 48,
      "outputs": [
        {
          "output_type": "stream",
          "text": [
            "Value of integral with Gauss Quadrature n=9 is  200.03937677125225\n"
          ],
          "name": "stdout"
        }
      ]
    },
    {
      "cell_type": "code",
      "metadata": {
        "colab": {
          "base_uri": "https://localhost:8080/"
        },
        "id": "25_jAWfHxYEV",
        "outputId": "f99b9f56-0dd1-4e73-86f3-a67ece8cb6a8"
      },
      "source": [
        "err_gauss_quad = absolute_error(int_gauss_quad , int_theory)\n",
        "print(f\"Absolute error of Gauss Quadrature n=9 is \", err_gauss_quad)"
      ],
      "execution_count": 60,
      "outputs": [
        {
          "output_type": "stream",
          "text": [
            "Absolute error of Gauss Quadrature n=9 is  9.992007221626408864e-15\n"
          ],
          "name": "stdout"
        }
      ]
    },
    {
      "cell_type": "code",
      "metadata": {
        "colab": {
          "base_uri": "https://localhost:8080/"
        },
        "id": "jVc2Oubsxr4a",
        "outputId": "4db6849a-f278-4810-d5fd-4c3f970e372a"
      },
      "source": [
        "time_gauss_quad = %timeit -o gauss_quadrature(t_1, t_2, 9)"
      ],
      "execution_count": 50,
      "outputs": [
        {
          "output_type": "stream",
          "text": [
            "The slowest run took 5.94 times longer than the fastest. This could mean that an intermediate result is being cached.\n",
            "10000 loops, best of 5: 102 µs per loop\n"
          ],
          "name": "stdout"
        }
      ]
    },
    {
      "cell_type": "code",
      "metadata": {
        "colab": {
          "base_uri": "https://localhost:8080/"
        },
        "id": "LOj3bFOcx3Z8",
        "outputId": "29f747a5-d317-4b24-a4dd-7fe887d2624b"
      },
      "source": [
        "print(f\"Romberg integration took {time_gauss_quad.best/time_trapezoid.best:.2f} times longer than Trapezoidal rule\\nto get accuracy {err_trapezoid/err_gauss_quad:.0f} times highier\")"
      ],
      "execution_count": 51,
      "outputs": [
        {
          "output_type": "stream",
          "text": [
            "Romberg integration took 14.64 times longer than Trapezoidal rule\n",
            "to get accuracy 1102243383272359 times highier\n"
          ],
          "name": "stdout"
        }
      ]
    },
    {
      "cell_type": "markdown",
      "metadata": {
        "id": "QrysYR1Bm9nZ"
      },
      "source": [
        "####Python library"
      ]
    },
    {
      "cell_type": "code",
      "metadata": {
        "colab": {
          "base_uri": "https://localhost:8080/"
        },
        "id": "v5jIxIFmjJii",
        "outputId": "badf5514-9eaf-4165-928c-f4598806c638"
      },
      "source": [
        "from scipy.integrate import quad\n",
        "int_scipy_quad = quad(velosity, t_1, t_2)[0]\n",
        "print(\"Value of integral with Scipy Gauss Quadrature is \", int_scipy_quad)"
      ],
      "execution_count": 52,
      "outputs": [
        {
          "output_type": "stream",
          "text": [
            "Value of integral with Scipy Gauss Quadrature is  200.03937677125225\n"
          ],
          "name": "stdout"
        }
      ]
    },
    {
      "cell_type": "code",
      "metadata": {
        "colab": {
          "base_uri": "https://localhost:8080/"
        },
        "id": "dWu8Swf4kbc-",
        "outputId": "8bffd578-e2c1-473b-ce4d-df18b573bdd3"
      },
      "source": [
        "err_scipy_quad = absolute_error(int_scipy_quad, int_theory)\n",
        "print(f\"Absolute error of Scipy Gauss Quadrature is \", err_scipy_quad)"
      ],
      "execution_count": 53,
      "outputs": [
        {
          "output_type": "stream",
          "text": [
            "Absolute error of Scipy Gauss Quadrature is  9.992007221626408864e-15\n"
          ],
          "name": "stdout"
        }
      ]
    },
    {
      "cell_type": "code",
      "metadata": {
        "colab": {
          "base_uri": "https://localhost:8080/"
        },
        "id": "ANNCgHPXkCVx",
        "outputId": "98f3875b-b223-4d8d-e0d0-7f77fbb10751"
      },
      "source": [
        "time_scipy_quad = %timeit -o quad(velosity, t_1, t_2)[0]"
      ],
      "execution_count": 54,
      "outputs": [
        {
          "output_type": "stream",
          "text": [
            "10000 loops, best of 5: 68 µs per loop\n"
          ],
          "name": "stdout"
        }
      ]
    },
    {
      "cell_type": "code",
      "metadata": {
        "colab": {
          "base_uri": "https://localhost:8080/"
        },
        "id": "K-Ppu6XkkJul",
        "outputId": "03d65ed5-cbb0-47bf-865f-adf3bbd61e4f"
      },
      "source": [
        "print(f\"Scipy Gauss Quadrature took {time_gauss_quad.best/time_scipy_quad.best:.2f} times longer than my implementation\\nto get accuracy {err_gauss_quad/err_scipy_quad:.0f} times highier\")"
      ],
      "execution_count": 55,
      "outputs": [
        {
          "output_type": "stream",
          "text": [
            "Scipy Gauss Quadrature took 1.51 times longer than my implementation\n",
            "to get accuracy 1 times highier\n"
          ],
          "name": "stdout"
        }
      ]
    },
    {
      "cell_type": "code",
      "metadata": {
        "id": "HZimxKVG27Pb"
      },
      "source": [
        "#generate the table with results of experiment\n",
        "import pandas as pd\n",
        "time = np.array([time_theory.best, time_trapezoid.best, time_trapezoid_mult.best, time_romberg.best, time_romberg_new.best, \n",
        "        time_scipy_romberg.best, time_gauss_quad.best, time_scipy_quad.best])\n",
        "error = np.array([err_theory, err_trapezoid, err_trapezoid_mult, err_romberg, err_romberg_new, \n",
        "         err_scipy_romberg, err_gauss_quad, err_scipy_quad])\n",
        "label = [\"Analytical\",\"Trapezoidal rule\", \"Multy-trapezoidal rule\", \n",
        "          \"Romberg Integration k=3\", \"Romberg Integration k=4\",\n",
        "          \"Romberg Integration Python\", \"Gauss Quadrature n=9\", \"Gauss Quadrature Python\"]\n",
        "\n",
        "conclusion = pd.DataFrame({\"Method\": label,\n",
        "              \"Value\":[f\"{int_theory:.17f}\",f\"{int_trapezoid:.17f}\", f\"{int_trapezoid_mult:.17f}\", \n",
        "                       f\"{int_romberg:.17f}\", f\"{int_romberg_new:.17f}\", f\"{int_scipy_romberg:.17f}\", \n",
        "                       f\"{int_gauss_quad:.17f}\", f\"{int_scipy_quad:.17f}\"],\n",
        "              \"Time\":  time, \"Absolute error\": error})"
      ],
      "execution_count": 56,
      "outputs": []
    },
    {
      "cell_type": "markdown",
      "metadata": {
        "id": "FPwJebK97LLl"
      },
      "source": [
        "Normalize data and calculate coeficient of optimality as described in the methods section:"
      ]
    },
    {
      "cell_type": "code",
      "metadata": {
        "id": "9pGNy2iQZFPI"
      },
      "source": [
        "def normalize(data):\n",
        "  return (data-np.mean(data))/np.std(data)\n",
        "def optimum(error, time):\n",
        "  error = normalize(error)\n",
        "  time = normalize(time)\n",
        "  return np.sqrt((error-error[0])**2+(time-time[0])**2)\n",
        "\n",
        "coef = optimum(error, time)\n",
        "conclusion['Optimal solution coefficient'] = coef\n"
      ],
      "execution_count": 57,
      "outputs": []
    },
    {
      "cell_type": "markdown",
      "metadata": {
        "id": "Kltk98fH33kS"
      },
      "source": [
        "##Conclusion"
      ]
    },
    {
      "cell_type": "markdown",
      "metadata": {
        "id": "YaiiAYUsVCoP"
      },
      "source": [
        "In the table below you can see the results of our experiment. According to this table, we achieved the maximum accuracy with mine implrmrntation of Romberg Integration. But this solution is not the most optimal in terms of compuattaional cost and precision. So, to identify the most optimal solution I introduced optimal solution coefficient. "
      ]
    },
    {
      "cell_type": "code",
      "metadata": {
        "colab": {
          "base_uri": "https://localhost:8080/",
          "height": 297
        },
        "id": "hQwMDZR4ZBhj",
        "outputId": "b414c1a7-31ec-4dff-fc1c-843b104e84c7"
      },
      "source": [
        " conclusion"
      ],
      "execution_count": 58,
      "outputs": [
        {
          "output_type": "execute_result",
          "data": {
            "text/html": [
              "<div>\n",
              "<style scoped>\n",
              "    .dataframe tbody tr th:only-of-type {\n",
              "        vertical-align: middle;\n",
              "    }\n",
              "\n",
              "    .dataframe tbody tr th {\n",
              "        vertical-align: top;\n",
              "    }\n",
              "\n",
              "    .dataframe thead th {\n",
              "        text-align: right;\n",
              "    }\n",
              "</style>\n",
              "<table border=\"1\" class=\"dataframe\">\n",
              "  <thead>\n",
              "    <tr style=\"text-align: right;\">\n",
              "      <th></th>\n",
              "      <th>Method</th>\n",
              "      <th>Value</th>\n",
              "      <th>Time</th>\n",
              "      <th>Absolute error</th>\n",
              "      <th>Optimal solution coefficient</th>\n",
              "    </tr>\n",
              "  </thead>\n",
              "  <tbody>\n",
              "    <tr>\n",
              "      <th>0</th>\n",
              "      <td>Analytical</td>\n",
              "      <td>200.03937677125225036</td>\n",
              "      <td>0.000007</td>\n",
              "      <td>5.000000e-19</td>\n",
              "      <td>0.000000</td>\n",
              "    </tr>\n",
              "    <tr>\n",
              "      <th>1</th>\n",
              "      <td>Trapezoidal rule</td>\n",
              "      <td>189.02575292560490539</td>\n",
              "      <td>0.000007</td>\n",
              "      <td>1.101362e+01</td>\n",
              "      <td>3.023719</td>\n",
              "    </tr>\n",
              "    <tr>\n",
              "      <th>2</th>\n",
              "      <td>Multy-trapezoidal rule</td>\n",
              "      <td>200.03930630079540265</td>\n",
              "      <td>0.002929</td>\n",
              "      <td>7.047046e-05</td>\n",
              "      <td>2.727514</td>\n",
              "    </tr>\n",
              "    <tr>\n",
              "      <th>3</th>\n",
              "      <td>Romberg Integration k=3</td>\n",
              "      <td>200.03937677125225036</td>\n",
              "      <td>0.001649</td>\n",
              "      <td>4.163336e-17</td>\n",
              "      <td>1.532433</td>\n",
              "    </tr>\n",
              "    <tr>\n",
              "      <th>4</th>\n",
              "      <td>Romberg Integration k=4</td>\n",
              "      <td>200.03937677125225036</td>\n",
              "      <td>0.001918</td>\n",
              "      <td>1.387779e-17</td>\n",
              "      <td>1.783996</td>\n",
              "    </tr>\n",
              "    <tr>\n",
              "      <th>5</th>\n",
              "      <td>Romberg Integration Python</td>\n",
              "      <td>200.03937677124119432</td>\n",
              "      <td>0.000151</td>\n",
              "      <td>1.104174e-11</td>\n",
              "      <td>0.134260</td>\n",
              "    </tr>\n",
              "    <tr>\n",
              "      <th>6</th>\n",
              "      <td>Gauss Quadrature n=9</td>\n",
              "      <td>200.03937677125225036</td>\n",
              "      <td>0.000102</td>\n",
              "      <td>9.992007e-15</td>\n",
              "      <td>0.089089</td>\n",
              "    </tr>\n",
              "    <tr>\n",
              "      <th>7</th>\n",
              "      <td>Gauss Quadrature Python</td>\n",
              "      <td>200.03937677125225036</td>\n",
              "      <td>0.000068</td>\n",
              "      <td>9.992007e-15</td>\n",
              "      <td>0.056932</td>\n",
              "    </tr>\n",
              "  </tbody>\n",
              "</table>\n",
              "</div>"
            ],
            "text/plain": [
              "                       Method  ... Optimal solution coefficient\n",
              "0                  Analytical  ...                     0.000000\n",
              "1            Trapezoidal rule  ...                     3.023719\n",
              "2      Multy-trapezoidal rule  ...                     2.727514\n",
              "3     Romberg Integration k=3  ...                     1.532433\n",
              "4     Romberg Integration k=4  ...                     1.783996\n",
              "5  Romberg Integration Python  ...                     0.134260\n",
              "6        Gauss Quadrature n=9  ...                     0.089089\n",
              "7     Gauss Quadrature Python  ...                     0.056932\n",
              "\n",
              "[8 rows x 5 columns]"
            ]
          },
          "metadata": {
            "tags": []
          },
          "execution_count": 58
        }
      ]
    },
    {
      "cell_type": "markdown",
      "metadata": {
        "id": "s8QiOUuyWSn8"
      },
      "source": [
        "According to this coefficient all methods can be arranged in the next order: \n",
        "0. Analytical solution\n",
        "The most efficient ones:\n",
        "1. Gauss Quadrature Python\n",
        "2. Gauss Quadrature n=9\n",
        "3. Romberg Integration Python\n",
        "\n",
        "The places for those solutions depends on settings (may vary):\n",
        "4. Romberg Integration k=4 (high precision, time consuming)\n",
        "5. Romberg Integration k=3 (high precision, time consuming)\n",
        "\n",
        "The least efficient ones:\n",
        "6. Multy-trapezoidal rule (time consuming)\n",
        "7. Trapezoidal rule (low precision)\n",
        "\n",
        "I can graphically plot the corelation between computational cost and precision:"
      ]
    },
    {
      "cell_type": "code",
      "metadata": {
        "colab": {
          "base_uri": "https://localhost:8080/",
          "height": 376
        },
        "id": "R5_tpLaxTu_j",
        "outputId": "b7e136cf-43f0-4054-c141-2e8d71a6342f"
      },
      "source": [
        "fig, axs = plt.subplots(1,2, figsize=(30,10))\n",
        "axs[0].set_title(\"The absolute error versus time matrix\", fontsize=20)\n",
        "axs[1].set_title(\"The fallacy & computational cost matrix\", fontsize=20)\n",
        "\n",
        "for x, y, l in zip(normalize(time), normalize(error), label):\n",
        "  axs[1].scatter(x, y, label = l)\n",
        "for x, y, l in zip(time, error, label):\n",
        "  axs[0].scatter(x, y, label = l)\n",
        "\n",
        "axs[0].set_ylabel(\"Absolute error\", fontsize=15)\n",
        "axs[0].set_xlabel(\"Time, s\", fontsize=15)\n",
        "axs[0].set_xscale('log')\n",
        "axs[0].set_yscale('log')\n",
        "\n",
        "axs[1].set_xlim(-2,2)\n",
        "axs[1].set_ylim(-3,3)\n",
        "axs[1].spines['left'].set_position('center')\n",
        "axs[1].spines['bottom'].set_position('center')\n",
        "\n",
        "x=np.linspace(-2,0,5)\n",
        "y=np.ones(5)*(-3)\n",
        "axs[1].fill_between(x,y,color=\"g\",alpha=0.2)\n",
        "axs[1].fill_between(-x,-y, color=\"r\", alpha=0.2)\n",
        "\n",
        "for ax in axs:\n",
        "  ax.legend()\n",
        "  ax.grid()\n",
        "\n",
        "plt.show()"
      ],
      "execution_count": 59,
      "outputs": [
        {
          "output_type": "display_data",
          "data": {
            "image/png": "[encoded data removed]",
            "text/plain": [
              "<Figure size 2160x720 with 2 Axes>"
            ]
          },
          "metadata": {
            "tags": [],
            "needs_background": "light"
          }
        }
      ]
    },
    {
      "cell_type": "markdown",
      "metadata": {
        "id": "EZFPYqkqVAiX"
      },
      "source": [
        "Those methods that are placed in the green area on average require less time to get high precision. The read area indicates that the method is time consuming and precision is low (x-axis is time rate, y-axis is precision). For our function we can use any method from the green area: Gauss Quadrature Scipy implementation, Gauss Quadrature (mine), Romberg Integration Scipy. Both mine and scipy implementation have shown that Gauss Quadrature methods is the most optimal one. In the second place there is Romberg Integration. And the multy-trapezoidal rule is the least efficient one for our function. My implementation of Romberg Integration is not that bad that Scipy's, we just tried to achief the maximum precision.\n",
        "\n",
        "In this experiment we studied different methods of numerical integration and identified the most optimal method in terms of computational cost and precision. We understood the importance of research the corellation between compuational cost and precision, as in the future it could be vital issue to find the balance. In future, I would probably choose a different function. If you look at Figure 1 right now, you will understand that the function is pretty close the polinomial of first order. So, it is understandable that we can get pretty good approximation even with Trapezoidal rule. It would be intersting if we approximated sin function on bigger interval. And see how the results would be different from ours. Probaly, it will just require more compuational cost. \n",
        "\n",
        "Overall, this experiment helped me to use on practice different methods of integration which will be useful when finding analytical solution will be complicated. Or at least, if we have too many equations, these methods will be universal."
      ]
    },
    {
      "cell_type": "markdown",
      "metadata": {
        "id": "0WtmFWiuFThZ"
      },
      "source": [
        "##Links\n",
        "[1] Numerical Integration I. Retrieved from: https://www.youtube.com/watch?v=f1KsSaJrY-o&list=PLy0giqEzkJNiUkrNqszvG39J9hHTEWRa5&index=19 \\\n",
        "[2] Romberg Integration and Gauss Quadrature. Retrieved from: https://www.youtube.com/watch?v=eixp1LQWmt4&list=PLy0giqEzkJNiUkrNqszvG39J9hHTEWRa5&index=20 \\\n",
        "[3] Scipy Documentation. Retrieved from: https://docs.scipy.org/doc/scipy/reference/generated/scipy.special.roots_legendre.html"
      ]
    }
  ]
}