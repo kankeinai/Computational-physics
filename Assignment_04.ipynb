{
  "nbformat": 4,
  "nbformat_minor": 0,
  "metadata": {
    "colab": {
      "name": "a04.ipynb",
      "provenance": [],
      "toc_visible": true
    },
    "kernelspec": {
      "name": "python3",
      "display_name": "Python 3"
    }
  },
  "cells": [
    {
      "cell_type": "markdown",
      "metadata": {
        "id": "pBP98DVnVimw"
      },
      "source": [
        "# **Systems of Linear Algebraic Equations**\n",
        "Student name: Begantsova Milana"
      ]
    },
    {
      "cell_type": "markdown",
      "metadata": {
        "id": "euLdn6c0VwAn"
      },
      "source": [
        "---\n",
        "##Abstract\n",
        "In this programming assignment I am going to implement Thomas and Gauss-Seidell alghorithms, that are used to solve systems of linear equations. I will study their perfomance (time-complexity) using defined tridiagonal matrix. Note that time-complexity of Gauss-Seidell method closely depends on precision of the result. So, I have decided to measure time needed for Gauss-Seidel method to achief the relatively the same precision as Thomas alghoritm. In this way, both alghoritms will be in the same conditions and their comparison will make sense.\n",
        "\n",
        "The results of this assignment have shown that Thomas alghorithm perfomance is better than Gauss-Seidell in 6 times in terms of time-coplexity. This outcome cannot claim that on average Thomas alghoritms is faster than Gauss-Seidel (it is only one matrix studied). But asymptotic analysis has shown that Thomas alghoritm is faster."
      ]
    },
    {
      "cell_type": "markdown",
      "metadata": {
        "id": "Lo5I1c3sYMXY"
      },
      "source": [
        "\n",
        "\n",
        "---\n",
        "\n",
        "\n",
        "##Introduction\n",
        "Finding solutions of system of linear equations is usual task for data science and machine learning. So, any specialist should be able to apply different numerical methods to find uknows features.\n",
        "\n",
        "In this programming assignment, we are going to be introduced two methods for finding solutions to such systems: Thomas alghoritm and Gauss-Seidel method. In the Part A, we are going to implement Thomas alghorithm and analyse what time is needed to find solution for defined matrix. In the Part B, we will do the same procedure with Gauss-Seidell method. In each of these parts, we should print our solutions. The solution for Gauss-Seidell should be given to the same precision as of Thomas alghoritms'solution. \n",
        "\n",
        "At the Part C, we should do asymptotic analysis to conclude what is the time complexity of both implementation. And then we will compare our prediction to the real result and conclude what alghoritm is more convinient to use."
      ]
    },
    {
      "cell_type": "markdown",
      "metadata": {
        "id": "rfONbyYDaVAX"
      },
      "source": [
        "---\n",
        "##Methods\n",
        "In this programming assignment, we are going to solve system of linear equation using two methods: Thomas alghorythm and Gauss-Seidell method. \n",
        "\n",
        "Thomas alghoritm is a linear alghoritms – $O(n)$, so it is fast compared with standart Gauss elimination – $O(n^3)$. Thomas alghorythm is used in tridiagonal matrix problems. Next condition ensures that alghorythm is stable:\n",
        "$$|b_i|>|a_i|+|c_i|$$\n",
        "Where, $b$ is main diagonal, $a$ and $c$ are upper and lower diagonal.\n",
        "The incident when this condition is false happens rarely, usually pivoting may be helpful [1].\n",
        "\n",
        "Gauss-Seidel method is an impoval of Gauss iteration method in terms of speed. It converges much faster as it uses previous approximations to compute new ones. This method does not accumulate round-off error, only round-off error of the last iteration matters. The time to converge depends on the precision that we would like to achief. As we try to solve a tridiagonal matrix problem, while solving system of equations I use value only from diagonals. So we do not need to iterate over each element of a row as in standart case, so I increased perfomance.\n",
        "\n",
        "I will need to approximate Gauss-Seidell method to precision of Thomas Alghoritm, and I will do it by calculating absolute error.\n",
        "\n",
        "I will use %timeit magic function to measure time perfomance of two alghoritms. This function is chosen because it does not require inluding any additional libraries, choses optimal number of iterations and we can store its result as timeit object. \n",
        "\n",
        "To ensure that calculations will be fast and more precise I will use numpy arrays and np.float128 datatype to store them. So, that I can decrease round-off error.\n"
      ]
    },
    {
      "cell_type": "markdown",
      "metadata": {
        "id": "K0Zf8XqEak1N"
      },
      "source": [
        "---\n",
        "##Description\n",
        "In this programming assignment, we will investigate algorithms for solving systems of linear equation, which are based on operations with matrices. The only library that we will need is `numpy`. They are faster than lists and have useful bult-in methods such as np.diagonal(), np.copy() that will be required during implementation. Also we will need fincding cross product of two matrices, which we also can do with numpy arrays.\n"
      ]
    },
    {
      "cell_type": "code",
      "metadata": {
        "id": "dKWHogVW92QK"
      },
      "source": [
        "import numpy as np"
      ],
      "execution_count": null,
      "outputs": []
    },
    {
      "cell_type": "markdown",
      "metadata": {
        "id": "SFaw0D4KceI3"
      },
      "source": [
        "The task of this assignment is to find solution to $A\\times x=d$ system of linear equations. The matrix $A$ is written below:\n",
        "\n",
        "$$A=\\begin{bmatrix}\n",
        "2.01475 & -0.020875 & 0 & 0\\\\\n",
        "-0.020875 & 2.01475 & -0.020875 & 0\\\\\n",
        "0 & -0.020875 & 2.01475 & -0.020875 \\\\\n",
        "0 & 0 & -0.020875 & 2.01475\n",
        "\\end{bmatrix} $$\n",
        "\n",
        "I store matrix $A$ as numpy array. The datatype of numpy array was changed to `np.float128`, so that we can store result with increased precision."
      ]
    },
    {
      "cell_type": "code",
      "metadata": {
        "id": "R0bdH5-z95l-"
      },
      "source": [
        "matrix = np.array(\n",
        "    [\n",
        "      [2.01475, -0.020875, 0, 0],\n",
        "      [-0.020875, 2.01475, -0.020875, 0],\n",
        "      [0, -0.020875 , 2.01475 , -0.020875],\n",
        "      [0, 0, -0.020875, 2.01475]\n",
        "    ],\n",
        "    dtype=np.float128)"
      ],
      "execution_count": null,
      "outputs": []
    },
    {
      "cell_type": "markdown",
      "metadata": {
        "id": "DgImyh8GeAAk"
      },
      "source": [
        "As we can see, it is tridiagonal matrix. And it will make sense to work with diagonals only in both methods, as additional zeros will not contribute somehow in finding the solution to system. The diagonals can be extracted using function `np.diagonal(n)`, where n is an integer that indicates the right diagonal (negative n – diagonal is below than main one on abs(n) rows, positive n – diagonal is above). By default `np.diagonal()` returns values from main diagonal."
      ]
    },
    {
      "cell_type": "code",
      "metadata": {
        "id": "5IsnVJR7a03z"
      },
      "source": [
        "a = matrix.diagonal(-1)\n",
        "b = matrix.diagonal()\n",
        "c = matrix.diagonal(1)"
      ],
      "execution_count": null,
      "outputs": []
    },
    {
      "cell_type": "markdown",
      "metadata": {
        "id": "c8NgizyXgCLy"
      },
      "source": [
        "$$ \\begin{bmatrix}\n",
        "2.01475 & -0.020875 & 0 & 0\\\\\n",
        "-0.020875 & 2.01475 & -0.020875 & 0\\\\\n",
        "0 & -0.020875 & 2.01475 & -0.020875 \\\\\n",
        "0 & 0 & -0.020875 & 2.01475\n",
        "\\end{bmatrix} \n",
        "\\begin{Bmatrix}\n",
        "x_1 \\\\\n",
        "x_2 \\\\\n",
        "x_3 \\\\\n",
        "x_4 \n",
        "\\end{Bmatrix}=\n",
        "\\begin{Bmatrix}\n",
        "4.175 \\\\\n",
        "0 \\\\\n",
        "0 \\\\\n",
        "2.0875 \n",
        "\\end{Bmatrix}$$"
      ]
    },
    {
      "cell_type": "code",
      "metadata": {
        "id": "wMZFbPungLKe"
      },
      "source": [
        "d = np.array([4.175, 0, 0, 2.0875], dtype=np.float128)"
      ],
      "execution_count": null,
      "outputs": []
    },
    {
      "cell_type": "markdown",
      "metadata": {
        "id": "VfVZr7wngYVc"
      },
      "source": [
        "Both Thomas and Gauss-Seidell alghoritms should output numpy array $x$ with approximated solution to the system."
      ]
    },
    {
      "cell_type": "markdown",
      "metadata": {
        "id": "WKuWnrqpOdAQ"
      },
      "source": [
        "###Part A – Thomas Alghoritm\n",
        "Thomas alghoritm is gausian elimination method that is adupted for solving tridioganal matrices. The method can be devided into two steps: forward elimination and backward substitution. \n",
        "<center>\n",
        "<img src='https://www.cfd-online.com/W/images/math/5/b/7/5b73418f4d5bd7154e369a6d6f4ae2fd.png'>\n",
        "<p>Figure 1 – Tridiagonal matrix</p>\n",
        "</center>\n",
        "\n",
        "While forward elimination step, we eleminate lower diagonal  and recalculate coefficients. You can see the pseudocode for Thomas alghorythm below [2]:\n",
        "\n",
        "Pseudo code:\n",
        "\n",
        "`For k=2 step 1 until n do:`\n",
        "$$m=\\frac{c_{k-1}}{b_{k-1}}$$\n",
        "$$b_k=b_k-m\\cdot a_{k-1}$$\n",
        "$$d_k=d_k-m\\cdot d_{k-1}$$\n",
        "\n",
        "\n",
        "While backward substitution, we calculate values for $x$ in inverse order. As we have eliminated the lower diagonal, now values of $x$ depend only on upper and main diagonal. The formula for $x$ can be proofed mathematically.\n",
        "\n",
        "Pseudo code:\n",
        "\n",
        "$$x = d/b$$\n",
        "`For k=n-1 step -1 until 1 do:`\n",
        "$$x_k=\\frac{d_k-c_k\\cdot x_{k+1}}{b_k}$$\n",
        "\n"
      ]
    },
    {
      "cell_type": "code",
      "metadata": {
        "id": "BD7Lbave_MHe"
      },
      "source": [
        "def thomas_alghoritm(a, b, c, d):\n",
        "  \n",
        "  num_rows = len(d)\n",
        "  \n",
        "  #forward elimination\n",
        "  for i in range(1, num_rows):\n",
        "    gamma = c[i-1]/b[i-1]\n",
        "    b[i] = b[i] - gamma*a[i-1] \n",
        "    d[i] = d[i] - gamma*d[i-1]\n",
        "  \n",
        "  x = d\n",
        "  x[-1]/=b[-1]\n",
        "\n",
        "  #backward substitution\n",
        "  for i in range(num_rows-2, -1, -1):\n",
        "      x[i] = (d[i]-c[i]*x[i+1])/b[i]\n",
        "\n",
        "  return x\n",
        "      "
      ],
      "execution_count": null,
      "outputs": []
    },
    {
      "cell_type": "markdown",
      "metadata": {
        "id": "0xuUbHmesbmp"
      },
      "source": [
        "The function `thomas_alghorythm()` returns the array $x$, which is our solution. Problem definition requires to print us our solution properly."
      ]
    },
    {
      "cell_type": "code",
      "metadata": {
        "id": "XiPQTJXYNh0M"
      },
      "source": [
        "def print_solution(x):\n",
        "  for i, item in enumerate(x):\n",
        "    print(f\"x_{i+1} = {item}\")"
      ],
      "execution_count": null,
      "outputs": []
    },
    {
      "cell_type": "markdown",
      "metadata": {
        "id": "kzePUNolswUN"
      },
      "source": [
        "At the beginning of the experiment, we have extracted diagonals from the matrix. I will transfer to function the copies of these arrays, as our function changes original values. \n",
        "\n",
        "The time perfomance of alghoritm will be measured using built-in magic function %timeit -o (-o states that function will return timeit object which stores the result). Timeit itself will determine how many iterations are sufficient to check average time perfomance."
      ]
    },
    {
      "cell_type": "code",
      "metadata": {
        "id": "s4gS-8zpGNkU",
        "colab": {
          "base_uri": "https://localhost:8080/"
        },
        "outputId": "4b5fb6bb-9114-42e0-c442-d9eca66fc076"
      },
      "source": [
        "time_thomas = %timeit -o thomas_alghoritm(a.copy(), b.copy(), c.copy(), d.copy())"
      ],
      "execution_count": null,
      "outputs": [
        {
          "output_type": "stream",
          "text": [
            "The slowest run took 60.97 times longer than the fastest. This could mean that an intermediate result is being cached.\n",
            "100000 loops, best of 3: 10.8 µs per loop\n"
          ],
          "name": "stdout"
        }
      ]
    },
    {
      "cell_type": "markdown",
      "metadata": {
        "id": "F8V7Zo2r0Fik"
      },
      "source": [
        "The matrix meets the condiition of stability of Thomas alghorythm, so everything should be fine:"
      ]
    },
    {
      "cell_type": "code",
      "metadata": {
        "colab": {
          "base_uri": "https://localhost:8080/"
        },
        "id": "Q2aoRBTC0CIY",
        "outputId": "70baa7b3-ef3e-4426-ae9c-b653299083cf"
      },
      "source": [
        "matrix"
      ],
      "execution_count": 62,
      "outputs": [
        {
          "output_type": "execute_result",
          "data": {
            "text/plain": [
              "array([[ 2.01475 , -0.020875,  0.      ,  0.      ],\n",
              "       [-0.020875,  2.01475 , -0.020875,  0.      ],\n",
              "       [ 0.      , -0.020875,  2.01475 , -0.020875],\n",
              "       [ 0.      ,  0.      , -0.020875,  2.01475 ]], dtype=float128)"
            ]
          },
          "metadata": {
            "tags": []
          },
          "execution_count": 62
        }
      ]
    },
    {
      "cell_type": "code",
      "metadata": {
        "id": "jJJuNynXPNOG"
      },
      "source": [
        "x_thomas = thomas_alghoritm(a.copy(), b.copy(), c.copy(), d.copy())"
      ],
      "execution_count": null,
      "outputs": []
    },
    {
      "cell_type": "code",
      "metadata": {
        "id": "krWRR6SINyVl",
        "colab": {
          "base_uri": "https://localhost:8080/"
        },
        "outputId": "de0905a8-adcf-42da-bf72-ffa3760541cb"
      },
      "source": [
        "print_solution(x_thomas)"
      ],
      "execution_count": null,
      "outputs": [
        {
          "output_type": "stream",
          "text": [
            "x_1 = 2.072441054231562\n",
            "x_2 = 0.021586300025824064\n",
            "x_3 = 0.010960046464439314\n",
            "x_4 = 1.0362222563444325\n"
          ],
          "name": "stdout"
        }
      ]
    },
    {
      "cell_type": "markdown",
      "metadata": {
        "id": "JMN0-1ZTuU4a"
      },
      "source": [
        "Now, it is time to check how well Thomas alghoritm identified values for $x$. I would like to remind that we solve equation of form $A\\times x=d$. So cross product of matrix $A$ and $x$ should equal approximately $d$."
      ]
    },
    {
      "cell_type": "code",
      "metadata": {
        "id": "RGkJmbb5OCYq"
      },
      "source": [
        "def check(x, matrix, d):\n",
        "  for i, item in enumerate(matrix@x):\n",
        "    print(f\"p_{i+1} = {item}, real = {d[i]}\")\n"
      ],
      "execution_count": null,
      "outputs": []
    },
    {
      "cell_type": "markdown",
      "metadata": {
        "id": "QayZOmXbvI3K"
      },
      "source": [
        "If we compare approximated result with real one, we will see that the solution preciseness is limited only by round-off error and truncation error. The results are almost the same if we consider `np.float128` as precise datatype."
      ]
    },
    {
      "cell_type": "code",
      "metadata": {
        "id": "gg5J_UYSOUmP",
        "colab": {
          "base_uri": "https://localhost:8080/"
        },
        "outputId": "e376655d-c4dc-41c9-ad7d-66da0c5c34e9"
      },
      "source": [
        "check(x_thomas, matrix.copy(), d)"
      ],
      "execution_count": null,
      "outputs": [
        {
          "output_type": "stream",
          "text": [
            "p_1 = 4.175, real = 4.175\n",
            "p_2 = 4.0763460586613204e-21, real = 0.0\n",
            "p_3 = 0.0, real = 0.0\n",
            "p_4 = 2.0875, real = 2.0875\n"
          ],
          "name": "stdout"
        }
      ]
    },
    {
      "cell_type": "markdown",
      "metadata": {
        "id": "8jG9WRZvOmhb"
      },
      "source": [
        "###Part B – Gauss-Seidell\n",
        "The problem definition asks us to calculate solutions with Gauss-Seidell method with the same precision as solution of Thomas alghoritm. "
      ]
    },
    {
      "cell_type": "markdown",
      "metadata": {
        "id": "hu5DU1SUvzCD"
      },
      "source": [
        "If approximated solution of system of linear equations is right, then:\n",
        "$$A\\times x\\approx d$$\n",
        "I will judge the precision as absolute error."
      ]
    },
    {
      "cell_type": "code",
      "metadata": {
        "id": "MrnX-P8TapU2"
      },
      "source": [
        "def check_precision(x_gauss, x_thomas, matrix):\n",
        "  result_1 = matrix@x_gauss\n",
        "  result_2 = matrix@x_thomas\n",
        "  return abs(result_1-result_2)"
      ],
      "execution_count": null,
      "outputs": []
    },
    {
      "cell_type": "markdown",
      "metadata": {
        "id": "SZ2x-mT93PiS"
      },
      "source": [
        "In order to understand the formula, see Figure 1.\n",
        "Gauss-Seidell alghoritm is iterative method [3], where $x$ is calculated as\n",
        "\n",
        "```\n",
        "for i=1 to N step 1 do\n",
        "  for k=1 to n step 1 do\n",
        "```\n",
        "$$x_k = \\frac{d_k - x_{k-1}c_{k-1}-x_{k+1}a_{k}}{b_{k}}$$\n",
        "```\n",
        "  endfor\n",
        "endfor\n",
        "```\n",
        "At first, all values of array $x$ are equal to zero. Then $x$ is mupltiple times recalculated until needed precicion is achieved. $N$ is the number of iterations, $n$ - number of rows."
      ]
    },
    {
      "cell_type": "code",
      "metadata": {
        "id": "oWQJLaAhRui9"
      },
      "source": [
        "def gauss_seidell_alghoritm(a, b, c, d, iter):\n",
        "  \n",
        "  num_rows = len(d)\n",
        "  x=np.zeros(num_rows, dtype=np.float128)\n",
        " \n",
        "  for j in range(iter):\n",
        "    for i in range(num_rows):\n",
        "        \n",
        "        x[i] = d[i]\n",
        "        \n",
        "        if i-1 >= 0: x[i]-= x[i-1]*c[i-1]\n",
        "        if i+1 < num_rows: x[i]-= x[i+1]*a[i]\n",
        "        \n",
        "        x[i]/= b[i]\n",
        "  \n",
        "  return x"
      ],
      "execution_count": null,
      "outputs": []
    },
    {
      "cell_type": "markdown",
      "metadata": {
        "id": "q1AP7yqy57KJ"
      },
      "source": [
        "At first we need to identify how many iterations will allow Gauss-Seidell method to converge to relatively the same precision as of Thomas alghoritm. I assume that Gauss-Seidell method converges fast, so I will check how the error increases/decreases with number of iterations."
      ]
    },
    {
      "cell_type": "code",
      "metadata": {
        "id": "VsB2gT5Kc_h8"
      },
      "source": [
        "def find_iter(a, b, c, d):\n",
        "  for i in range(1,10):\n",
        "    print(f\"Iteration #{i}\")\n",
        "    x = gauss_seidell_alghoritm(a.copy(), b.copy(), c.copy(), d.copy(), i)\n",
        "    print(check_precision(x, x_thomas, matrix))"
      ],
      "execution_count": null,
      "outputs": []
    },
    {
      "cell_type": "code",
      "metadata": {
        "id": "ZjwIJMPWdaDo",
        "colab": {
          "base_uri": "https://localhost:8080/"
        },
        "outputId": "95a33dc6-d33b-46f3-ccf7-bdba8ddbe867"
      },
      "source": [
        "find_iter(a, b, c, d)"
      ],
      "execution_count": null,
      "outputs": [
        {
          "output_type": "stream",
          "text": [
            "Iteration #1\n",
            "[4.48195116e-04 4.64378858e-06 2.16288172e-02 2.16840434e-19]\n",
            "Iteration #2\n",
            "[9.62293948e-08 2.24099053e-04 2.32190978e-06 2.16840434e-19]\n",
            "Iteration #3\n",
            "[2.32192011e-06 4.81151255e-08 4.98525001e-10 2.16840434e-19]\n",
            "Iteration #4\n",
            "[7.47788056e-10 1.29131580e-11 1.33794351e-13 2.16840434e-19]\n",
            "Iteration #5\n",
            "[2.14070948e-13 3.60426830e-15 3.73439886e-17 2.16840434e-19]\n",
            "Iteration #6\n",
            "[6.02816408e-17 1.01614837e-18 8.47032947e-21 2.16840434e-19]\n",
            "Iteration #7\n",
            "[0.00000000e+00 6.76302869e-21 0.00000000e+00 2.16840434e-19]\n",
            "Iteration #8\n",
            "[0.00000000e+00 6.76302869e-21 0.00000000e+00 2.16840434e-19]\n",
            "Iteration #9\n",
            "[0.00000000e+00 6.76302869e-21 0.00000000e+00 2.16840434e-19]\n"
          ],
          "name": "stdout"
        }
      ]
    },
    {
      "cell_type": "markdown",
      "metadata": {
        "id": "MiCi2J-jf8js"
      },
      "source": [
        "It seems that after 7 iterations the absolute error does not change much. I can conclude that 7 iterations is enough."
      ]
    },
    {
      "cell_type": "code",
      "metadata": {
        "id": "wQzjKBCmgCGe"
      },
      "source": [
        "iter = 7"
      ],
      "execution_count": null,
      "outputs": []
    },
    {
      "cell_type": "markdown",
      "metadata": {
        "id": "YzzGh36T6oUs"
      },
      "source": [
        "The aim of this experiment is to compare perfomance of two methods, I claim that Gauss-Seidell will be slower. I will save the result of testing to `time_gauss` variable."
      ]
    },
    {
      "cell_type": "code",
      "metadata": {
        "id": "B5mC5yJmRyv1",
        "colab": {
          "base_uri": "https://localhost:8080/"
        },
        "outputId": "d33596a5-125c-4125-89bf-7b1bf0e39c91"
      },
      "source": [
        "time_gauss = %timeit -o gauss_seidell_alghoritm(a.copy(), b.copy(), c.copy(), d.copy(), iter)"
      ],
      "execution_count": null,
      "outputs": [
        {
          "output_type": "stream",
          "text": [
            "10000 loops, best of 3: 56.1 µs per loop\n"
          ],
          "name": "stdout"
        }
      ]
    },
    {
      "cell_type": "code",
      "metadata": {
        "id": "ZF4_KNrAR7Mn"
      },
      "source": [
        "x_gauss = gauss_seidell_alghoritm(a.copy(), b.copy(), c.copy(), d.copy(), iter)"
      ],
      "execution_count": null,
      "outputs": []
    },
    {
      "cell_type": "markdown",
      "metadata": {
        "id": "0c9HIWel65kE"
      },
      "source": [
        "The final solution of Gauss-Seidel method:"
      ]
    },
    {
      "cell_type": "code",
      "metadata": {
        "id": "M35defywSAKg",
        "colab": {
          "base_uri": "https://localhost:8080/"
        },
        "outputId": "b8edaed1-da83-4080-a59c-be594fd9edc2"
      },
      "source": [
        "print_solution(x_gauss)"
      ],
      "execution_count": null,
      "outputs": [
        {
          "output_type": "stream",
          "text": [
            "x_1 = 2.072441054231562\n",
            "x_2 = 0.021586300025824064\n",
            "x_3 = 0.010960046464439314\n",
            "x_4 = 1.0362222563444325\n"
          ],
          "name": "stdout"
        }
      ]
    },
    {
      "cell_type": "markdown",
      "metadata": {
        "id": "Sno87TWR6_aQ"
      },
      "source": [
        "Now, I will do the same check as in Thomas alghoritm to ensure that $A\\times x\\approx d$"
      ]
    },
    {
      "cell_type": "code",
      "metadata": {
        "id": "8FgyyoxPSB-V",
        "colab": {
          "base_uri": "https://localhost:8080/"
        },
        "outputId": "aa406389-7939-4b70-a5b0-17a6f2d44310"
      },
      "source": [
        "check(x_gauss, matrix, d)"
      ],
      "execution_count": null,
      "outputs": [
        {
          "output_type": "stream",
          "text": [
            "p_1 = 4.175, real = 4.175\n",
            "p_2 = -2.686682629572234e-21, real = 0.0\n",
            "p_3 = 0.0, real = 0.0\n",
            "p_4 = 2.0875, real = 2.0875\n"
          ],
          "name": "stdout"
        }
      ]
    },
    {
      "cell_type": "markdown",
      "metadata": {
        "id": "Mo8SBrzN7Qzd"
      },
      "source": [
        "The result's preciseness is limited by round-off error and number of significant figures. Gauss-Seidell methods's solution is slightly more precise."
      ]
    },
    {
      "cell_type": "markdown",
      "metadata": {
        "id": "-Sp_OSDuSYbd"
      },
      "source": [
        "###Part C – Asymphtotic analysis of two methods and their comparison\n",
        "Before comparing the time of Thomas Alghoritm and Gauss-Seidell method, I would to theoreticalle forecast the time-coplexity of two functions using asymphtotic analysis."
      ]
    },
    {
      "cell_type": "markdown",
      "metadata": {
        "id": "TQOiPGzZ8ZK9"
      },
      "source": [
        "Thomas alghorithm forward elimination step require:\n",
        "1. 2(n-1) substractions\n",
        "2. 2(n-1) multiplications\n",
        "3. n-1 devisions\n",
        "\n",
        "The backward substitution step require:\n",
        "1. n-1 substraction\n",
        "2. n-1 multiplication\n",
        "3. n-1 devision\n",
        "\n",
        "In total time complexity of Thomas alghorith is $T(n)=8n+C$, where $C$ is some constant."
      ]
    },
    {
      "cell_type": "markdown",
      "metadata": {
        "id": "VxFHLn8u-z0q"
      },
      "source": [
        "The inner loop in Gauss-Seidell method require 2(n-1) substractions and mupltiplications, n devisions, 2n comparisons. This inner loop is repeated 7 times (we analysed it in practice).\n",
        "In total time complexity of Gauss-Seidell method  is $T(n)=49n+K$, where $K$ is some constant. This is time comple\n",
        "\n"
      ]
    },
    {
      "cell_type": "markdown",
      "metadata": {
        "id": "mk7dnJAIAeCp"
      },
      "source": [
        "I forecast that Thomas alghoritm should be approximately 6 times faster than Gauss-Seidell method if we ignore constant operations."
      ]
    },
    {
      "cell_type": "code",
      "metadata": {
        "id": "0lAllerbSbmT",
        "colab": {
          "base_uri": "https://localhost:8080/"
        },
        "outputId": "d5017a97-170e-4b01-df5b-b96619bb2e7c"
      },
      "source": [
        "print(f\"The Thomas alghoritm execution time: {time_thomas.best} s\\nGauss-Seidell time: {time_gauss.best} s\")\n",
        "print(f\"The Thomas alghoritm is faster in {time_gauss.best/time_thomas.best} times than of Gauss-Seidell method.\")"
      ],
      "execution_count": null,
      "outputs": [
        {
          "output_type": "stream",
          "text": [
            "The Thomas alghoritm execution time: 1.0754351739997218e-05 s\n",
            "Gauss-Seidell time: 5.6093152900029965e-05 s\n",
            "The Thomas alghoritm is faster in 5.215856265088506 times than of Gauss-Seidell method.\n"
          ],
          "name": "stdout"
        }
      ]
    },
    {
      "cell_type": "markdown",
      "metadata": {
        "id": "Kr8PWadOBbpB"
      },
      "source": [
        "In practice the Thomas alghoritm is faster then Gauss-Seidell method in $\\approx 5.5$ times, which is close to my theoretical prognose. However, I should note that it is valid only for our system with 4 equations. From this experiment, I cannot conclude how many iterations of outer loop are needed for Gauss-Seidel to converge to precision of Thomas alghoritm if we will have greater number of equations (maybe this number increases linearly or quadtratically). "
      ]
    },
    {
      "cell_type": "markdown",
      "metadata": {
        "id": "IP2CPLnEauKx"
      },
      "source": [
        "---\n",
        "##Conclusion\n",
        "In this programming assignment we used two numerical methods to find approximate solutions to the systems of linear equations. We were give a tridigonal matrix problem. Here are solutions provided by Thomas alghorytm and Gauss-Seidell method:\n"
      ]
    },
    {
      "cell_type": "code",
      "metadata": {
        "colab": {
          "base_uri": "https://localhost:8080/"
        },
        "id": "UV5DG4HyFYTX",
        "outputId": "7c9a9aab-c89d-4a55-f49d-c7ecbe93f3f5"
      },
      "source": [
        "print_solution(x_thomas)"
      ],
      "execution_count": null,
      "outputs": [
        {
          "output_type": "stream",
          "text": [
            "x_1 = 2.072441054231562\n",
            "x_2 = 0.021586300025824064\n",
            "x_3 = 0.010960046464439314\n",
            "x_4 = 1.0362222563444325\n"
          ],
          "name": "stdout"
        }
      ]
    },
    {
      "cell_type": "code",
      "metadata": {
        "colab": {
          "base_uri": "https://localhost:8080/"
        },
        "id": "S6qci97PFcg3",
        "outputId": "2b61b1a8-810a-4a3a-cc67-5caeff015374"
      },
      "source": [
        "print_solution(x_gauss)"
      ],
      "execution_count": null,
      "outputs": [
        {
          "output_type": "stream",
          "text": [
            "x_1 = 2.072441054231562\n",
            "x_2 = 0.021586300025824064\n",
            "x_3 = 0.010960046464439314\n",
            "x_4 = 1.0362222563444325\n"
          ],
          "name": "stdout"
        }
      ]
    },
    {
      "cell_type": "code",
      "metadata": {
        "colab": {
          "base_uri": "https://localhost:8080/"
        },
        "id": "Gse1iFSMw87k",
        "outputId": "f8c16f8f-aff8-472b-8585-1e5da4cfb341"
      },
      "source": [
        "print(f\"In our case, Thomas alghorithm was {(time_gauss.best/time_thomas.best):.2f} times faster than Gauss-Seidell, which confirms our theoretical assumption.\") "
      ],
      "execution_count": 61,
      "outputs": [
        {
          "output_type": "stream",
          "text": [
            "In our case, Thomas alghorithm was 5.22 times faster than Gauss-Seidell, which confirms our theoretical assumption.\n"
          ],
          "name": "stdout"
        }
      ]
    },
    {
      "cell_type": "markdown",
      "metadata": {
        "id": "UWQ1nRZnwuQF"
      },
      "source": [
        "The result showed that, for tridiagonal matrix problem, Thomas alghorytm is faster and more convinient. In the beginning I have mentioned that in Gauss-Seidell method I do not iterate over elements of each row, I use only values from diagonal instead. Even with this adapatation to tridiagonal matrix problem, the speed of Gauss-Seidell method is still lower."
      ]
    },
    {
      "cell_type": "markdown",
      "metadata": {
        "id": "dhq_sRYBy_AK"
      },
      "source": [
        "In the future, to study those alghorythms I propose to randomly generate tridiagonal matrixes of different sizes. This matrixes will be used to make more reliable conclusion about convergence rate of Gauss-Seidell method."
      ]
    },
    {
      "cell_type": "markdown",
      "metadata": {
        "id": "SVAXQwW98_wq"
      },
      "source": [
        "##Links\n",
        "[1] http://www.industrial-maths.com/ms6021_thomas.pdf\n",
        "\n",
        "[2] https://en.wikipedia.org/wiki/Tridiagonal_matrix_algorithm\n",
        "\n",
        "[3] https://math.berkeley.edu/~wilken/228A.F07/chr_lecture.pdf"
      ]
    }
  ]
}
