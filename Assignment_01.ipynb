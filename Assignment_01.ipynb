{
  "nbformat": 4,
  "nbformat_minor": 0,
  "metadata": {
    "colab": {
      "name": "Assignment_01.ipynb",
      "provenance": [],
      "toc_visible": true,
      "include_colab_link": true
    },
    "kernelspec": {
      "name": "python3",
      "display_name": "Python 3"
    }
  },
  "cells": [
    {
      "cell_type": "markdown",
      "metadata": {
        "id": "view-in-github",
        "colab_type": "text"
      },
      "source": [
        "<a href=\"https://colab.research.google.com/github/kankeinai/physics_classes/blob/main/Assignment_01.ipynb\" target=\"_parent\"><img src=\"https://colab.research.google.com/assets/colab-badge.svg\" alt=\"Open In Colab\"/></a>"
      ]
    },
    {
      "cell_type": "markdown",
      "metadata": {
        "id": "ysA45nwH37Y0"
      },
      "source": [
        "# **PHYS270 Assigmment 1: Lists and Numpy Arrays**\n",
        "Student Name: Begantsova Milana"
      ]
    },
    {
      "cell_type": "markdown",
      "metadata": {
        "id": "vlc-BZnFrKKA"
      },
      "source": [
        "\n",
        "\n",
        "---\n",
        "\n",
        "\n",
        "## Abstract\n"
      ]
    },
    {
      "cell_type": "markdown",
      "metadata": {
        "id": "_vCYm3aPsA-i"
      },
      "source": [
        "\n",
        "\n",
        "---\n",
        "\n",
        "\n",
        "##Introduction"
      ]
    },
    {
      "cell_type": "markdown",
      "metadata": {
        "id": "fahCUttEsEJ6"
      },
      "source": [
        "\n",
        "\n",
        "---\n",
        "\n",
        "\n",
        "##Method"
      ]
    },
    {
      "cell_type": "markdown",
      "metadata": {
        "id": "OE0-vVMfsfoW"
      },
      "source": [
        "\n",
        "\n",
        "---\n",
        "\n",
        "\n",
        "##Experiment\n",
        "At first we should import all neccessary libraries needed while the experiment."
      ]
    },
    {
      "cell_type": "code",
      "metadata": {
        "id": "8_m53hydwivG"
      },
      "source": [
        "import numpy as np\n",
        "from random import random\n",
        "from math import sqrt"
      ],
      "execution_count": null,
      "outputs": []
    },
    {
      "cell_type": "markdown",
      "metadata": {
        "id": "1afVw_uf74QS"
      },
      "source": [
        "The experiment consists of three parts. Shortly, in the Part (a) we will generate two lists with different 1000 random float numbers. These two lists will be generated using function random( ). Then in Part (b), we should measure time needed to generate a different list elements of which will be calculated according to defined formula using elements from list a and b. In the last Part (c), we will do the same but instead of lists, numpy arrays will be used. "
      ]
    },
    {
      "cell_type": "markdown",
      "metadata": {
        "id": "p7i8GEwzsT4W"
      },
      "source": [
        "###Part (a)\n",
        "In the first part, we should randomly create two python lists. Lets call them a and b. They should be of the $size=1000$."
      ]
    },
    {
      "cell_type": "code",
      "metadata": {
        "id": "zJWqZ85qyc9l"
      },
      "source": [
        "size = 1000"
      ],
      "execution_count": null,
      "outputs": []
    },
    {
      "cell_type": "markdown",
      "metadata": {
        "id": "zbVdo1di7E0P"
      },
      "source": [
        ""
      ]
    },
    {
      "cell_type": "markdown",
      "metadata": {
        "id": "OA8jNcDZu7lR"
      },
      "source": [
        "All of the elements will be generated with function random(  ). To generate those two lists, I will use python shorthand."
      ]
    },
    {
      "cell_type": "code",
      "metadata": {
        "id": "aQe087UIyNtW"
      },
      "source": [
        "list_a = [random() for i in range(size)]\n",
        "list_b = [random() for i in range(size)]"
      ],
      "execution_count": null,
      "outputs": []
    },
    {
      "cell_type": "markdown",
      "metadata": {
        "id": "ZFx2OE_vsXdp"
      },
      "source": [
        "###Part (b)\n",
        "In this part, we should generate **list c**. The elements of this list should be calculated according to the next formula:\n",
        "$$c[i]=\\sqrt{a[i]^2+b[i]^2}$$\n",
        "So, we should elementwise square elements of **a** and **b**, then sum then one by one, and end up calculating their square root.\n",
        "\n",
        "As it has already been discussed in the method section, I will use jupiter notebook built-in function **%%timeit** to measure time needed to generate **list c**. \n",
        "\n",
        "To generate list c, I will again use python shorthand for creating lists, but this time we work with elements of both lists. Python bult-in lists does not support adding two lists elementwise, so I will use function **zip( )** to create list of tuples (pairs) of elements **a** and **b**. Then in the same manner as in Part (a), I use needed formula to calculate elements of **list c**."
      ]
    },
    {
      "cell_type": "code",
      "metadata": {
        "colab": {
          "base_uri": "https://localhost:8080/"
        },
        "id": "gds9YmVcyr2l",
        "outputId": "5356a811-0856-430a-daa5-b831db3b008e"
      },
      "source": [
        "%%timeit \n",
        "list_c = [sqrt(item_a**2 + item_b**2) for item_a, item_b in zip(list_a, list_b)]"
      ],
      "execution_count": null,
      "outputs": [
        {
          "output_type": "stream",
          "text": [
            "1000 loops, best of 3: 216 µs per loop\n"
          ],
          "name": "stdout"
        }
      ]
    },
    {
      "cell_type": "markdown",
      "metadata": {
        "id": "ItPSqdAayFSS"
      },
      "source": [
        "As you can see, it took $216 \\mu s$ to generate list of 1000 elements according to formula (1). It is not bad. But \n",
        "in data science, experts work with billions of recording with many features (in this experiment we have only two features: element from list **a** and element from list **b**), so this is quite frustrating result. We generate this list using for-loop, so the time needed to acomplish the task will be linearly proportional to number of elements in a list. In addition, (про то как хранятся данные в питоне)."
      ]
    },
    {
      "cell_type": "markdown",
      "metadata": {
        "id": "v57Vs-yJscP-"
      },
      "source": [
        "###Part (c)\n",
        "In this section we will do the same task as in Part (a) and (b), but instead of using lists, we will use numpy arrays.\n",
        "\n",
        "In data science, we usually work with numbers. So there is no need in such generic data structers as lists. They not only have long time of accessing elements, but also don't have efficient implementation of all functions that we need, such as element-wise additon, power, substraction and etc. \n",
        "\n",
        "So, there is an alternative: numpy arrays. \n",
        "\n",
        "They are created in a such way to be able to make all kind of operations that we can do with matrices. Numpy arrays are based on C-style arrays, which are more low level and fast.\n",
        "\n",
        "Our goal, in this experiment, is to conclude whatever they are more efficient then python lists.\n",
        "\n",
        "I will not generate elements for the second time, as numpy library has built-in function of translating lists to arrays. If we compare how two data structures work with **the same elements**, the accuracy of the experiment should be highier."
      ]
    },
    {
      "cell_type": "code",
      "metadata": {
        "id": "2dxcTminy3B6"
      },
      "source": [
        "array_a = np.array(list_a)\n",
        "array_b = np.array(list_b)"
      ],
      "execution_count": null,
      "outputs": []
    },
    {
      "cell_type": "markdown",
      "metadata": {
        "id": "yaSRrQ4F3dl9"
      },
      "source": [
        "As I have already said, when we work with numpy arrays there are ready-to-use functions for finding power, addition and square root extraction. So, there is no need to use a for loop to access elements one by one. We work with matrices instead. To function work properly, arrays should be of the same size."
      ]
    },
    {
      "cell_type": "code",
      "metadata": {
        "colab": {
          "base_uri": "https://localhost:8080/"
        },
        "id": "VBDNzVgr1F-M",
        "outputId": "f2bc1ad4-89a5-4db6-943c-6d00dd0b0b3d"
      },
      "source": [
        "%%timeit\n",
        "array_c = np.sqrt(np.add(np.power(array_a, 2),np.power(array_b, 2)))"
      ],
      "execution_count": null,
      "outputs": [
        {
          "output_type": "stream",
          "text": [
            "The slowest run took 19.11 times longer than the fastest. This could mean that an intermediate result is being cached.\n",
            "10000 loops, best of 3: 25.5 µs per loop\n"
          ],
          "name": "stdout"
        }
      ]
    },
    {
      "cell_type": "markdown",
      "metadata": {
        "id": "eOz-qSb14IiT"
      },
      "source": [
        "As you can see, it took $25.5 \\mu s$ to generate an **array c**, which is almost 9 times faster then with lists.\n",
        "\n",
        "To end this experiment, let me construct a summative table to look at the results and make sure that elements of **list c** and **array c** are the same. To construct a summative table, I will use pandas library."
      ]
    },
    {
      "cell_type": "code",
      "metadata": {
        "colab": {
          "base_uri": "https://localhost:8080/",
          "height": 419
        },
        "id": "jS2yNU3V5bxK",
        "outputId": "2be82974-57bf-4459-95ac-0db2bd439407"
      },
      "source": [
        "import pandas as pd\n",
        "\n",
        "df=pd.DataFrame({'list a':list_a, 'list b': list_b, 'list c': list_c, 'array c':array_c})\n",
        "df"
      ],
      "execution_count": null,
      "outputs": [
        {
          "output_type": "execute_result",
          "data": {
            "text/html": [
              "<div>\n",
              "<style scoped>\n",
              "    .dataframe tbody tr th:only-of-type {\n",
              "        vertical-align: middle;\n",
              "    }\n",
              "\n",
              "    .dataframe tbody tr th {\n",
              "        vertical-align: top;\n",
              "    }\n",
              "\n",
              "    .dataframe thead th {\n",
              "        text-align: right;\n",
              "    }\n",
              "</style>\n",
              "<table border=\"1\" class=\"dataframe\">\n",
              "  <thead>\n",
              "    <tr style=\"text-align: right;\">\n",
              "      <th></th>\n",
              "      <th>list a</th>\n",
              "      <th>list b</th>\n",
              "      <th>list c</th>\n",
              "      <th>array c</th>\n",
              "    </tr>\n",
              "  </thead>\n",
              "  <tbody>\n",
              "    <tr>\n",
              "      <th>0</th>\n",
              "      <td>0.715413</td>\n",
              "      <td>0.445999</td>\n",
              "      <td>0.807233</td>\n",
              "      <td>0.807233</td>\n",
              "    </tr>\n",
              "    <tr>\n",
              "      <th>1</th>\n",
              "      <td>0.280579</td>\n",
              "      <td>0.280654</td>\n",
              "      <td>0.790237</td>\n",
              "      <td>0.790237</td>\n",
              "    </tr>\n",
              "    <tr>\n",
              "      <th>2</th>\n",
              "      <td>0.943882</td>\n",
              "      <td>0.371968</td>\n",
              "      <td>0.991286</td>\n",
              "      <td>0.991286</td>\n",
              "    </tr>\n",
              "    <tr>\n",
              "      <th>3</th>\n",
              "      <td>0.564539</td>\n",
              "      <td>0.726863</td>\n",
              "      <td>1.174707</td>\n",
              "      <td>1.174707</td>\n",
              "    </tr>\n",
              "    <tr>\n",
              "      <th>4</th>\n",
              "      <td>0.335098</td>\n",
              "      <td>0.046797</td>\n",
              "      <td>1.272573</td>\n",
              "      <td>1.272573</td>\n",
              "    </tr>\n",
              "    <tr>\n",
              "      <th>...</th>\n",
              "      <td>...</td>\n",
              "      <td>...</td>\n",
              "      <td>...</td>\n",
              "      <td>...</td>\n",
              "    </tr>\n",
              "    <tr>\n",
              "      <th>995</th>\n",
              "      <td>0.488877</td>\n",
              "      <td>0.152869</td>\n",
              "      <td>1.025443</td>\n",
              "      <td>1.025443</td>\n",
              "    </tr>\n",
              "    <tr>\n",
              "      <th>996</th>\n",
              "      <td>0.803706</td>\n",
              "      <td>0.966243</td>\n",
              "      <td>1.223005</td>\n",
              "      <td>1.223005</td>\n",
              "    </tr>\n",
              "    <tr>\n",
              "      <th>997</th>\n",
              "      <td>0.380691</td>\n",
              "      <td>0.440158</td>\n",
              "      <td>0.203872</td>\n",
              "      <td>0.203872</td>\n",
              "    </tr>\n",
              "    <tr>\n",
              "      <th>998</th>\n",
              "      <td>0.677767</td>\n",
              "      <td>0.596759</td>\n",
              "      <td>0.657871</td>\n",
              "      <td>0.657871</td>\n",
              "    </tr>\n",
              "    <tr>\n",
              "      <th>999</th>\n",
              "      <td>0.704230</td>\n",
              "      <td>0.946341</td>\n",
              "      <td>0.478978</td>\n",
              "      <td>0.478978</td>\n",
              "    </tr>\n",
              "  </tbody>\n",
              "</table>\n",
              "<p>1000 rows × 4 columns</p>\n",
              "</div>"
            ],
            "text/plain": [
              "       list a    list b    list c   array c\n",
              "0    0.715413  0.445999  0.807233  0.807233\n",
              "1    0.280579  0.280654  0.790237  0.790237\n",
              "2    0.943882  0.371968  0.991286  0.991286\n",
              "3    0.564539  0.726863  1.174707  1.174707\n",
              "4    0.335098  0.046797  1.272573  1.272573\n",
              "..        ...       ...       ...       ...\n",
              "995  0.488877  0.152869  1.025443  1.025443\n",
              "996  0.803706  0.966243  1.223005  1.223005\n",
              "997  0.380691  0.440158  0.203872  0.203872\n",
              "998  0.677767  0.596759  0.657871  0.657871\n",
              "999  0.704230  0.946341  0.478978  0.478978\n",
              "\n",
              "[1000 rows x 4 columns]"
            ]
          },
          "metadata": {
            "tags": []
          },
          "execution_count": 33
        }
      ]
    },
    {
      "cell_type": "markdown",
      "metadata": {
        "id": "n3z8sB_Z7SKR"
      },
      "source": [
        "It seems that everything works corectly for both lists and numpy arrays."
      ]
    },
    {
      "cell_type": "markdown",
      "metadata": {
        "id": "j9vk1Z9xstnh"
      },
      "source": [
        "\n",
        "\n",
        "---\n",
        "\n",
        "\n",
        "##Conclusion"
      ]
    }
  ]
}
