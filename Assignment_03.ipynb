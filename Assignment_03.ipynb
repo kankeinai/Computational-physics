{
  "nbformat": 4,
  "nbformat_minor": 0,
  "metadata": {
    "colab": {
      "name": "a03.ipynb",
      "provenance": [],
      "collapsed_sections": [],
      "toc_visible": true,
      "include_colab_link": true
    },
    "kernelspec": {
      "name": "python3",
      "display_name": "Python 3"
    }
  },
  "cells": [
    {
      "cell_type": "markdown",
      "metadata": {
        "id": "view-in-github",
        "colab_type": "text"
      },
      "source": [
        "<a href=\"https://colab.research.google.com/github/kankeinai/Computational_physics/blob/main/Assignment_03.ipynb\" target=\"_parent\"><img src=\"https://colab.research.google.com/assets/colab-badge.svg\" alt=\"Open In Colab\"/></a>"
      ]
    },
    {
      "cell_type": "markdown",
      "metadata": {
        "id": "BBUizSne5YE8"
      },
      "source": [
        "## PHY270 Assignment 3: Numerical root finding\r\n",
        "Student name: Milana Begantsova\r\n"
      ]
    },
    {
      "cell_type": "markdown",
      "metadata": {
        "id": "cdom5Ovk7u4x"
      },
      "source": [
        "\n",
        "\n",
        "---\n",
        "\n",
        "##Abstract\n",
        "In this experiment, I introduce differents methods used to estimate the roots of the equation, particularly I discuss False-position, Newton-Raphson, and Secant methods. While discussion, I compare their convergence rates, precisio and overall perfomance for one particular equation. The outcomes of this experiment are the plots of relative error versus number of iterations for each method. According to the results of the experiment, the most suitable method for our equation is Newton-Raphson method. Its convergence rate is the lowest one and precision is the highiest one. Secant method has shown relatively the same precision, but converged lower. The worst result was shown by False-position method."
      ]
    },
    {
      "cell_type": "markdown",
      "metadata": {
        "id": "wrhopNKO7xVe"
      },
      "source": [
        "\n",
        "\n",
        "---\n",
        "\n",
        "\n",
        "##Introduction\n",
        "Our world behaves according to particular laws and equations. And it is not always possible to determine unknown parameters numerically with traditional methods. For example, we can use discriminant to calculate roots for simple quadratic equations or Vietta theorem for polinimial equations of other powers. We can calculate roots of more complex functions using computational power.\n",
        "\n",
        "There are different compuational methods to estimate the roots of functions, but they are usually devided into two groups: bracketing and open methods. When we use bracketing methods, we, at first, determine the interval at which we have solution. Then we try to narrow this interval until we reach convergence. The example of bracketing method is False-position (the formula and principle will be discussed later). Usually bracketing methods are more relible and stable, as if there is a root at the defined interval, it will converge to it. But of course narrowing the interval may took much time, so usually such methods are slow. \n",
        "\n",
        "The second group of methods is open. In this method we does not work with the interval, we start from the initial guess. In this experiment we will discuss two open methods: Newton-Raphson and Secant. Open methods are usually very fast compare with bracketing ones, but they sometimes fail to converge. Their convergence depends on the initial guess and function that we try to estimate.\n",
        "\n",
        "In this experiment, I am going to estimate roots for the equation: $$\\\\v=\\frac{gm}{c}(1-e^{−(c/m)t})$$\n",
        "where $m$ is unknown parameter. I should note that all methods of determining roots work if:\n",
        "1. We have one root\n",
        "2. Root is real\n",
        "3. \n",
        "\n",
        "I will employ the three methods: False-position, Newton-Raphson and Secant methods; and I will estimate $m$ to the level of $\\varepsilon_s = 10^{-12}$, where $\\varepsilon_s$ is:\n",
        "$$\\varepsilon_s=\\left|\\frac{x_{i+1}-x_{i}}{x_{i+1}}\\right|$$\n",
        "\n",
        "For all of the methods I will provide the graphs of relative error of solution versus iterations and discuss what method is the best for our equation in terms of speed (of convergence), preciseness. "
      ]
    },
    {
      "cell_type": "markdown",
      "metadata": {
        "id": "nreQF9bo7zOl"
      },
      "source": [
        "\n",
        "---\n",
        "##Methods\n",
        "We have an equation of velocity of parachoutist and should try to estimate his mass if we now all other parameters. Before applying any computational methods, I will use graphical method to analyse how function behaves and what is a possible range of values of mass. I will plot a function of mass with `matplotlib`. With graphical method, I will be able to determine what are the possible initial gueses for other three methods. The accuracy of results will assessed with relative error formula:\n",
        "$$\\varepsilon=\\left|\\frac{true-measured}{true}\\right|$$\n",
        "Graphical method's advantage is that it does not require us to calculate anything. It is easy to plot. But the result will be very approximated since we determine it visually.\n",
        "Once I determine the range of possible values, I will computational methods to estimate the roots.\n"
      ]
    },
    {
      "cell_type": "markdown",
      "metadata": {
        "id": "5mYER4XJIKuq"
      },
      "source": [
        "###False-position method\n",
        "The False-position method requires two innitial guesses between which the root is situated. In this experiment those to guesses will be defined as $m_l$ (left-most border) and $m_u$ (right-most border). The method works according to this alghoritm:\n",
        "1. We \"draw a line\" through $f(m_l)$ and $f(m_u)$ (derivative) and see at which point this line crosses x-axis. This is called $m_r$ (root). Numerically root will be calculated by formula:\n",
        "$$m_r = m_u - \\frac{f(m_u)(m_l-m_u)}{f(m_l)-f(m_u)}$$\n",
        "2. Then we calculate $\\varepsilon_s$ and in case it is less than $\\varepsilon_s=10^{−12}$, we stop. The root is found. \n",
        "> Note: To calculate $\\varepsilon_s$ we need previous value of the root.\n",
        "$$\\varepsilon_s=\\left| \\frac{m_r-m_{r-old}}{m_r} \\right|$$\n",
        "3. If the root is not found, we should shrink the interval, so either $m_l$ or $m_u$ now will be equal to $m_r$. To determine what border should be moved to $m_r$, we conduct a test: multiply value of $f(m_l)$ to $f(m_r)$. If the value is positive, then $f(m_l)=f(m_r)$. Or, if it is negative,  then $f(m_u)=f(m_r)$. If it is 0, then root is found.\n",
        "4. Repeat these steps until convergence or the root is found.\n",
        "<center><img src=\"https://4.bp.blogspot.com/-oWFvW8wIJlE/WRvkBhPxGQI/AAAAAAAAAIM/G8hpSmjbKp4eKRuieJFA31ZzsSFElnT5QCLcB/s400/Bisection%2BMethod.png\" height=300>\n",
        "<p>Figure 1 – False-position method</p></center>\n",
        "\n",
        "The False-position method is very reliable and stable. If there is root in the defined interval, then it will converge to this root. But due to working with changing borders, it may converge too slow."
      ]
    },
    {
      "cell_type": "markdown",
      "metadata": {
        "id": "H0T4YNeOJdeS"
      },
      "source": [
        "###Newton-Raphson method\n",
        "The Newton-Raphson method is an open one which means that we do not work with changing borders. But we still should have an innitial guess. It has next alghoritm:\n",
        "1. Derive analytical formula for derivative of a function \n",
        "2. Choose initial guess $m_0$ and calculate derivative, function value. Substutute them to formula:\n",
        "$$m_1 = m_0 - \\frac{f(m_0)}{f'(m_0)}$$\n",
        "Graphically it is similar to False-position method (see Figure 2). We draw through $f(m_0)$ a line with $slope = f'(m_0)$. This line crosses x-axis at point $m_1$.\n",
        "3. Then we calculate $\\varepsilon_s$ as in False-position:\n",
        "> $$\\varepsilon_s=\\left| \\frac{m_1-m_0}{m_1} \\right|$$\n",
        "4. Update $m_0$, set $m_0=m_1$\n",
        "5. If $\\varepsilon_s<10^{-12}$, then return value of $m_0$.\n",
        "6. Repeat until convergence.\n",
        "\n",
        "\n",
        "<center><img src=\"https://www.researchgate.net/profile/Daniel_Marcsa2/publication/266091369/figure/fig5/AS:476476194725892@1490612185738/The-geometrical-construction-of-Newton-Raphson-method.png\" height = 300>\n",
        "<p>Figure 2 – Newton-Raphson method</p>\n",
        "</center>\n",
        "\n",
        "The use of this method guarantees either fast convergence or divergence. Sometimes it could be difficult to derive analutical formula for derivative or its calculation could be costly. If our innitial guess is too far from the root it may diverge. It also may diverge if __________"
      ]
    },
    {
      "cell_type": "markdown",
      "metadata": {
        "id": "iRGzR9VzOBIf"
      },
      "source": [
        "###Secant method\n",
        "It seems to me that this method is the combination of Newton-Raphson and False-position method. It is an open method, so it follows the same alghoritm as Newton-Raphson method, except the way derivative is calculated. In Secant method the derivative is calculated based on previous two iterations:\n",
        "$$m_{i+1} = m_i - \\frac{f(m_i) (m_{i-1} - m_{i})}{f(m_{i-1})-f(m_{i})}$$\n",
        "$$\\varepsilon_s=\\left|\\frac{x_{i+1}-x_{i}}{x_{i+1}}\\right|$$\n",
        "So, at first we should provide two initial gueses as in False-position method. The formula for $m_{i+1}$ is also pretty similar to False-position method, but there we do not work with borders or intervals. \n",
        "Compare with False-position method, it should converge faster. Compare with Newton-Raphson method, it will be much easier to calculate. It is still may diverge if the initial guesses are chosen wrongly."
      ]
    },
    {
      "cell_type": "markdown",
      "metadata": {
        "id": "FIMlhQXnQszP"
      },
      "source": [
        "###Additional comments\n",
        "After each method I will provide a graphs of how relative error of velocity with estimated mass changes as methods converge. Then using those graphs, I will make a conclusion about preciison, convergence rate and speed of each method. \n",
        "\n",
        "To increase accuracy of the experiment, I will calculate everything in `numpy.float128()` datatype."
      ]
    },
    {
      "cell_type": "markdown",
      "metadata": {
        "id": "3YXtVgyI70rU"
      },
      "source": [
        "##Main part"
      ]
    },
    {
      "cell_type": "markdown",
      "metadata": {
        "id": "Cxpj4MNO1Bhp"
      },
      "source": [
        "To decrease round-off error, I have decided to compute approximated values in np.float128 datatype as it has highier precision. To plot my graphs I will use matplotlib. Pandas will be used to generate summative results of the experiment."
      ]
    },
    {
      "cell_type": "code",
      "metadata": {
        "id": "NEd-SJMuw5nB"
      },
      "source": [
        "import numpy as np\n",
        "import matplotlib.pyplot as plt\n",
        "import pandas as pd"
      ],
      "execution_count": 1,
      "outputs": []
    },
    {
      "cell_type": "markdown",
      "metadata": {
        "id": "MnPBfONB262e"
      },
      "source": [
        "Before starting the experiment, we should implement a function that will calculate us a value of equation:\n",
        "$$\\\\v(m)=\\frac{gm}{c}(1-e^{−(c/m)t})=35$$\n",
        "We should try to estimate value of $m$ provided that\n",
        "1. $g=9.8 \\ m/s^2$ \n",
        "2. $c=15 \\ kg/s$ \n",
        "3. $v=35 \\ m/s$, \n",
        "4.$t=9 \\ s$"
      ]
    },
    {
      "cell_type": "code",
      "metadata": {
        "id": "s7FjPFnIxJXZ"
      },
      "source": [
        "g = 9.8\n",
        "c = 15\n",
        "v_0 = 35\n",
        "t = 9"
      ],
      "execution_count": 2,
      "outputs": []
    },
    {
      "cell_type": "markdown",
      "metadata": {
        "id": "CBpvn9j371w1"
      },
      "source": [
        "Methods that are used to estimate roots usually try to come up with such value of $x$, such that $f(x)=0$. As you can see the $v(m)\\neq0$, so I will approximate $f(m) = v(m) - 35$."
      ]
    },
    {
      "cell_type": "markdown",
      "metadata": {
        "id": "dn4wqJkj4Shz"
      },
      "source": [
        "Later on we will derive $f'(m)$ analytically, so it will be easier for us if we redifine constants of original equation (and will not  need to recalculate them all the time). Let $C_1 = \\frac{g}{c}$, $C_2 = - ct$"
      ]
    },
    {
      "cell_type": "code",
      "metadata": {
        "id": "3x1svxEpwJIi"
      },
      "source": [
        "C_1 = g/c\n",
        "C_2 = -c*t"
      ],
      "execution_count": 3,
      "outputs": []
    },
    {
      "cell_type": "markdown",
      "metadata": {
        "id": "YV0kfTnN8J6f"
      },
      "source": [
        "This is the final formula that we will approximate\n",
        "$$v(m) = C_1m(1-e^{\\frac{C_2}{m}})$$\n",
        "$$f(m) = v(m)-35$$\n"
      ]
    },
    {
      "cell_type": "code",
      "metadata": {
        "id": "voAbsYHwvlXP"
      },
      "source": [
        "def velocity(m):\n",
        "  return C_1*m*(1-np.exp(C_2/m))\n"
      ],
      "execution_count": 4,
      "outputs": []
    },
    {
      "cell_type": "code",
      "metadata": {
        "id": "zZ6Za-nq4GMf"
      },
      "source": [
        "def function(m):\n",
        "  return velocity(m)-35"
      ],
      "execution_count": 5,
      "outputs": []
    },
    {
      "cell_type": "markdown",
      "metadata": {
        "id": "gjFTNHvtycwa"
      },
      "source": [
        "###Graphical method"
      ]
    },
    {
      "cell_type": "markdown",
      "metadata": {
        "id": "AzkSfODV9XTx"
      },
      "source": [
        "Before applying any computational method, we should clearly understand how our function behave and see what is approximate value of our root. In this experiment, we try to approximate the mass of parachoutist. My initial guess is that the mass will be somewhere between 30 and 100 kg. I will plot the graph of $f(m)$ versus $m$ to see where $f(m)=0$."
      ]
    },
    {
      "cell_type": "code",
      "metadata": {
        "colab": {
          "base_uri": "https://localhost:8080/",
          "height": 383
        },
        "id": "6_xOaphPw8ZP",
        "outputId": "087f5168-2fd2-43ea-9923-9cbc84ac26fa"
      },
      "source": [
        "# generate values for graph\n",
        "m = np.arange(30, 101)\n",
        "f = function(m)\n",
        "\n",
        "# set up parameters for our plot\n",
        "fig, ax = plt.subplots(figsize=(15, 6))\n",
        "plt.rcParams.update({'font.size': 14})\n",
        "labels = [\"f(m)\"] \n",
        "ax.set_ylim(-20, 20)\n",
        "ax.spines['bottom'].set_position('center')\n",
        "ax.xaxis.set_ticks_position('bottom')\n",
        "ax.plot(m, f)\n",
        "ax.legend(labels)\n",
        "ax.set(title='Velocity versus mass')\n",
        "plt.xlabel('m, kg',fontsize=14, horizontalalignment='right')\n",
        "plt.ylabel('f(m), m/s',fontsize=14)\n",
        "plt.grid()\n",
        "plt.show()"
      ],
      "execution_count": 6,
      "outputs": [
        {
          "output_type": "display_data",
          "data": {
            "image/png": "[encoded data removed]",
            "text/plain": [
              "<Figure size 1080x432 with 1 Axes>"
            ]
          },
          "metadata": {
            "tags": [],
            "needs_background": "light"
          }
        }
      ]
    },
    {
      "cell_type": "markdown",
      "metadata": {
        "id": "DOpF2ItW-3sV"
      },
      "source": [
        "From this graph, we can clearly see that function $f(m)$ crosses x-axis at $m\\approx60 \\ kg$. Our root is somewhere between $50$ and $70 \\ kg$. To see how close $m=60 \\ kg$ to the real result, I will calculate relative error."
      ]
    },
    {
      "cell_type": "code",
      "metadata": {
        "id": "b_eVJ2zt_3BA"
      },
      "source": [
        "def relative_error(true, measured):\n",
        "  return abs(true-measured)/true"
      ],
      "execution_count": 7,
      "outputs": []
    },
    {
      "cell_type": "markdown",
      "metadata": {
        "id": "x67nhT5pAHvn"
      },
      "source": [
        "I will calculate relative error of velocity, as we do not know what is the true value of mass. We try to estimate such $m$ that $v(m)=35 \\ m/s$, so true velocity is $35 \\ m/s$ and measured is $v(60)$."
      ]
    },
    {
      "cell_type": "code",
      "metadata": {
        "colab": {
          "base_uri": "https://localhost:8080/",
          "height": 0
        },
        "id": "4nBqcYs26Wbz",
        "outputId": "0fa2a2a8-2961-4c34-9876-5a76a178dd98"
      },
      "source": [
        "print(\"Relative error:\", relative_error(v_0, velocity(60)))"
      ],
      "execution_count": 8,
      "outputs": [
        {
          "output_type": "stream",
          "text": [
            "Relative error: 0.0019528684907119294\n"
          ],
          "name": "stdout"
        }
      ]
    },
    {
      "cell_type": "markdown",
      "metadata": {
        "id": "oaKDew9tBMZk"
      },
      "source": [
        "From this relative error we can say that $m$ is pretty close to value of $60 \\ kg$. But in this experiment we try to estimate the most accurate value."
      ]
    },
    {
      "cell_type": "markdown",
      "metadata": {
        "id": "URuK8dKq26Qk"
      },
      "source": [
        "###False-position method\n",
        "This is a bracketing method, from \"Methods\" section we know that it requires two innitial guesses. By graphical method we determined that our root is somewhere between $50$ and $70 \\ kg$."
      ]
    },
    {
      "cell_type": "code",
      "metadata": {
        "id": "bkWFQ-w-Sfqk"
      },
      "source": [
        "m_l = np.float128(50)\n",
        "m_u = np.float128(70)"
      ],
      "execution_count": 9,
      "outputs": []
    },
    {
      "cell_type": "markdown",
      "metadata": {
        "id": "4veiVthqSmFn"
      },
      "source": [
        "If there is no root at defined region, the function may not converge. So we should set reasonable number of iterations of the loop. The level of $\\varepsilon_s$ is set to $10^{-12}$."
      ]
    },
    {
      "cell_type": "code",
      "metadata": {
        "id": "e6h3yy4mpNTp"
      },
      "source": [
        "max_i = 100 # the alghoritm will iterate max_i times maximum in case it does not converge\n",
        "epsilon = 10e-12 # we will approximate our result to this level"
      ],
      "execution_count": 10,
      "outputs": []
    },
    {
      "cell_type": "markdown",
      "metadata": {
        "id": "8ZKHwfDrS_NB"
      },
      "source": [
        "Now, I emplement all formulas as functions. Function `step(m_0, m_1)` calculates $\\varepsilon_s$, where $m_0$ is value of previous iteration and $m_1$ is value of current iteration. The function `step()` will be used in all other methods too."
      ]
    },
    {
      "cell_type": "code",
      "metadata": {
        "id": "9iBqzTGY4mZV"
      },
      "source": [
        "# function to calculate epsilon_s\n",
        "def step(m_0, m_1):\n",
        "  return abs((m_1-m_0)/m_1)"
      ],
      "execution_count": 11,
      "outputs": []
    },
    {
      "cell_type": "markdown",
      "metadata": {
        "id": "ZzIRNT43T7SW"
      },
      "source": [
        "Function `derivative(m_0, m_1)` returns slope between two points (it will be used later on in Secant method)."
      ]
    },
    {
      "cell_type": "code",
      "metadata": {
        "id": "eSwdPukvfMPp"
      },
      "source": [
        "# approximated derivative of function f(m)\n",
        "def derivative(m_0, m_1):\n",
        "  return (function(m_0) - function(m_1))/(m_0-m_1)"
      ],
      "execution_count": 12,
      "outputs": []
    },
    {
      "cell_type": "markdown",
      "metadata": {
        "id": "fwNRbW8PT9s4"
      },
      "source": [
        "Function `false_position(m_l, m_u)` takes our initial guesses for mass and acts according to alghoritm described in \"Methods\". At the end it returns the list of relative errors for each iteration and approximated mass."
      ]
    },
    {
      "cell_type": "code",
      "metadata": {
        "id": "TfhAwOLGfCHP"
      },
      "source": [
        "def false_position(m_l, m_u):\n",
        "  err = []\n",
        "  m_r = m_u\n",
        "  for i in range(1, max_i):\n",
        "    # we will need old root to calcukate epsilon_s\n",
        "    m_r_old = m_r\n",
        "    \n",
        "    # the formula for the root\n",
        "    m_r = m_u - function(m_u)/derivative(m_l, m_u)\n",
        "    \n",
        "    # we need values for relative error in each iteration to plot the graph\n",
        "    err.append(relative_error(velocity(m_r), v_0))\n",
        "    \n",
        "    epsilon_s = step(m_r_old, m_r)\n",
        "    print(f\"Iteration #{i}, m = {m_r}, epsilon_s = {epsilon_s}, v = {velocity(m_r)}, relative error = {err[-1]}\")\n",
        "    \n",
        "    # we approximate our mass to the level of epsilon_s\n",
        "    if epsilon_s < epsilon: \n",
        "      break\n",
        "      \n",
        "    # test of changing the borders of the interval\n",
        "    test = function(m_l)*function(m_r)\n",
        "    if test > 0: \n",
        "      m_l = m_r\n",
        "    elif test == 0:\n",
        "      break\n",
        "    else: \n",
        "      m_u = m_r\n",
        "  \n",
        "  return m_r, err    "
      ],
      "execution_count": 13,
      "outputs": []
    },
    {
      "cell_type": "markdown",
      "metadata": {
        "id": "bZ8kLrvlVZI8"
      },
      "source": [
        "The result of function is stored to `mass_FP, err_1`, where FP states for False-position. I will name all variables for mass results in this style. "
      ]
    },
    {
      "cell_type": "code",
      "metadata": {
        "id": "EMc-frhNkTZN",
        "colab": {
          "base_uri": "https://localhost:8080/",
          "height": 0
        },
        "outputId": "2d1cf84b-47c5-410b-db17-31b9c6c4d51d"
      },
      "source": [
        "mass_FP, err_1 = false_position(m_l, m_u)"
      ],
      "execution_count": 14,
      "outputs": [
        {
          "output_type": "stream",
          "text": [
            "Iteration #1, m = 60.51423018797448, epsilon_s = 0.1567527139081172, v = 35.28846404926169, relative error = 0.008174457490102259\n",
            "Iteration #2, m = 59.88461306536265, epsilon_s = 0.010513838035901233, v = 35.01874889855094, relative error = 0.0005353960132971488\n",
            "Iteration #3, m = 59.84385943295144, epsilon_s = 0.0006809994007299647, v = 35.001211586566654, relative error = 3.461556076871096e-05\n",
            "Iteration #4, m = 59.841226566436916, epsilon_s = 4.399753590609792e-05, v = 35.000078265510936, relative error = 2.2361524549330157e-06\n",
            "Iteration #5, m = 59.84105649267782, epsilon_s = 2.842091518153992e-06, v = 35.000005055637025, relative error = 1.444467512375195e-07\n",
            "Iteration #6, m = 59.84104550660972, epsilon_s = 1.835875027099371e-07, v = 35.00000032657329, relative error = 9.330665466033314e-09\n",
            "Iteration #7, m = 59.841044796955096, epsilon_s = 1.1858994558116542e-08, v = 35.00000002109528, relative error = 6.027224392531324e-10\n",
            "Iteration #8, m = 59.84104475111434, epsilon_s = 7.660420430694507e-10, v = 35.00000000136267, relative error = 3.893337884077796e-11\n",
            "Iteration #9, m = 59.841044748153216, epsilon_s = 4.9483150317727126e-11, v = 35.00000000008802, relative error = 2.514935283829261e-12\n",
            "Iteration #10, m = 59.84104474796194, epsilon_s = 3.1964068962264238e-12, v = 35.000000000005684, relative error = 1.624544744758631e-13\n"
          ],
          "name": "stdout"
        }
      ]
    },
    {
      "cell_type": "markdown",
      "metadata": {
        "id": "qqVjy0RqVv88"
      },
      "source": [
        "We will have to plot relative error versus number of iteration graphs for each method, so I write a function `plot_graph(err)` that takes a list of relative errors."
      ]
    },
    {
      "cell_type": "code",
      "metadata": {
        "id": "BuZPXSfX4qFK"
      },
      "source": [
        "def plot_graph(err):\n",
        "  # generate data for plot\n",
        "  iteration=np.arange(1,len(err)+1)\n",
        "  # set parameters for the graph\n",
        "  fig, ax = plt.subplots(figsize=(15, 6))\n",
        "  plt.rcParams.update({'font.size': 14})\n",
        "  labels = [\"Relative error\"] \n",
        "  ax.plot(iteration, err)\n",
        "  ax.legend(labels)\n",
        "  ax.set(title='Relative error vs n iterations')\n",
        "  ax.set_xlim(0, )\n",
        "  plt.yscale('log')\n",
        "  plt.xlabel('n',fontsize=14)\n",
        "  plt.ylabel('Relative error',fontsize=14)\n",
        "  plt.grid()\n",
        "  plt.show()"
      ],
      "execution_count": 15,
      "outputs": []
    },
    {
      "cell_type": "code",
      "metadata": {
        "colab": {
          "base_uri": "https://localhost:8080/",
          "height": 416
        },
        "id": "xu0BMpZzk6k_",
        "outputId": "a1999f82-ccdb-444f-cd89-0b5466d52f0b"
      },
      "source": [
        "plot_graph(err_1)"
      ],
      "execution_count": 16,
      "outputs": [
        {
          "output_type": "display_data",
          "data": {
            "image/png": "[encoded data removed]",
            "text/plain": [
              "<Figure size 1080x432 with 1 Axes>"
            ]
          },
          "metadata": {
            "tags": [],
            "needs_background": "light"
          }
        }
      ]
    },
    {
      "cell_type": "markdown",
      "metadata": {
        "id": "Wdrw4uGq7akF"
      },
      "source": [
        "From the graph we see that convergence rate for False position method equals to 10."
      ]
    },
    {
      "cell_type": "code",
      "metadata": {
        "colab": {
          "base_uri": "https://localhost:8080/",
          "height": 0
        },
        "id": "BZIdgQO9WZkS",
        "outputId": "5f34a3b9-76fb-4d28-db95-2af48d2b2f46"
      },
      "source": [
        "velocity(mass_FP) #velocity of parachoutist with estimated mass, true value is 35"
      ],
      "execution_count": 17,
      "outputs": [
        {
          "output_type": "execute_result",
          "data": {
            "text/plain": [
              "35.000000000005685907"
            ]
          },
          "metadata": {
            "tags": []
          },
          "execution_count": 17
        }
      ]
    },
    {
      "cell_type": "code",
      "metadata": {
        "colab": {
          "base_uri": "https://localhost:8080/",
          "height": 0
        },
        "id": "ltdtqs0rWgfj",
        "outputId": "dfac45f2-48fe-4948-affc-262a2de4707c"
      },
      "source": [
        "err_1[-1] #relative error of velocity"
      ],
      "execution_count": 18,
      "outputs": [
        {
          "output_type": "execute_result",
          "data": {
            "text/plain": [
              "1.6245447447586311046e-13"
            ]
          },
          "metadata": {
            "tags": []
          },
          "execution_count": 18
        }
      ]
    },
    {
      "cell_type": "markdown",
      "metadata": {
        "id": "U8B0KJryWeJF"
      },
      "source": [
        "In comparison with graphical method, we obtained much more precise result (almost 10 times more accurate). But it took to many iterations to converge for such small innitial interval."
      ]
    },
    {
      "cell_type": "markdown",
      "metadata": {
        "id": "IzzzvzvQLxdt"
      },
      "source": [
        "###Newton-Raphson method\n",
        "For Newton-Raphson method, we at first should derive analytical formula for deroivative. After some simplifications, I have come up with:"
      ]
    },
    {
      "cell_type": "markdown",
      "metadata": {
        "id": "0N5j2Fs6VIHE"
      },
      "source": [
        "$$f'(m) = C_1 + C_1e^{\\frac{C_2}{m}}(\\frac{C_2}{m}-1)$$\n"
      ]
    },
    {
      "cell_type": "code",
      "metadata": {
        "id": "FJHl_2yLVkYs"
      },
      "source": [
        "def derivative_new(m):\n",
        "  return C_1+C_1*np.exp(C_2/m)*(C_2/m-1)"
      ],
      "execution_count": 19,
      "outputs": []
    },
    {
      "cell_type": "markdown",
      "metadata": {
        "id": "_rb2FBhdXjY3"
      },
      "source": [
        "Newton-Raphson method requires only one initial guess, I have decided to set $m_0$ to $50 \\ kg$."
      ]
    },
    {
      "cell_type": "code",
      "metadata": {
        "id": "TPPzWkqsXhI3"
      },
      "source": [
        "m_0 = np.float128(50)"
      ],
      "execution_count": 20,
      "outputs": []
    },
    {
      "cell_type": "markdown",
      "metadata": {
        "id": "jQNdu5qEXzV6"
      },
      "source": [
        "The function `newton_raphson(m_0)` takes only innitial guess, computes next \"root\" according to formula explained in \"Methods\" and stops if reaches defined level of $\\varepsilon_s$."
      ]
    },
    {
      "cell_type": "code",
      "metadata": {
        "id": "U5qK21nnanq_"
      },
      "source": [
        "def newton_raphson(m_0):\n",
        "  err = []\n",
        "  for i in range(0, max_i):\n",
        "    # m_1 will temporarly store approximated root to compute epsilon_s\n",
        "    m_1 = m_0 - function(m_0)/derivative_new(m_0)\n",
        "    \n",
        "    # compute epsilon_s\n",
        "    epsilon_s = step(m_0, m_1)\n",
        "    \n",
        "    # update current approximated root\n",
        "    m_0 = m_1\n",
        "    \n",
        "    # we will need values of relative error at each iteration to plot the graph\n",
        "    err.append(relative_error(velocity(m_0), v_0))\n",
        "    \n",
        "    print(f\"Iteration #{i+1}, m = {m_1}, epsilon_s  = {epsilon_s}, v = {velocity(m_1)}, relative error = {err[-1]}\")\n",
        "    \n",
        "    # we approximate the root to defined level of epsilon_s\n",
        "    if epsilon_s < epsilon: \n",
        "      return m_0, err\n",
        "    "
      ],
      "execution_count": 21,
      "outputs": []
    },
    {
      "cell_type": "markdown",
      "metadata": {
        "id": "YQDRxY8dYIXL"
      },
      "source": [
        "At the end of the execution, it returns approximated mass and relative errors for each iteration."
      ]
    },
    {
      "cell_type": "code",
      "metadata": {
        "colab": {
          "base_uri": "https://localhost:8080/",
          "height": 0
        },
        "id": "pQ9Y9irYadR_",
        "outputId": "fd2d9e79-e3f0-4c94-df01-e28df0c827a7"
      },
      "source": [
        "mass_NR, err_2 = newton_raphson(m_0)"
      ],
      "execution_count": 22,
      "outputs": [
        {
          "output_type": "stream",
          "text": [
            "Iteration #1, m = 59.22579374493676, epsilon_s  = 0.1557732393535963, v = 34.73405433599018, relative error = 0.0076566260142645216\n",
            "Iteration #2, m = 59.83849337530053, epsilon_s  = 0.010239222209706805, v = 34.99890171689062, relative error = 3.1380502115748415e-05\n",
            "Iteration #3, m = 59.841044703931196, epsilon_s  = 4.2635095080406657e-05, v = 34.999999981052206, relative error = 5.413655166966632e-10\n",
            "Iteration #4, m = 59.84104474794873, epsilon_s  = 7.355743037957537e-10, v = 35.0, relative error = 1.9825411154020652e-19\n",
            "Iteration #5, m = 59.84104474794873, epsilon_s  = 2.8988856783558596e-19, v = 35.0, relative error = 9.912705577010326e-20\n"
          ],
          "name": "stdout"
        }
      ]
    },
    {
      "cell_type": "code",
      "metadata": {
        "colab": {
          "base_uri": "https://localhost:8080/",
          "height": 416
        },
        "id": "4zCXNyDeu_zn",
        "outputId": "64089d34-2ecd-40d7-bfc8-a3bf33e008d5"
      },
      "source": [
        "plot_graph(err_2)"
      ],
      "execution_count": 23,
      "outputs": [
        {
          "output_type": "display_data",
          "data": {
            "image/png": "[encoded data removed]",
            "text/plain": [
              "<Figure size 1080x432 with 1 Axes>"
            ]
          },
          "metadata": {
            "tags": [],
            "needs_background": "light"
          }
        }
      ]
    },
    {
      "cell_type": "markdown",
      "metadata": {
        "id": "uSTH6_9LYeo9"
      },
      "source": [
        "As we have set level of $\\varepsilon_s$ to $10^{-12}$, the Newton-Raphson method seem to make one unnecessary iteration. After 4 iterations the relative error converged. So the convergence rate = 4."
      ]
    },
    {
      "cell_type": "code",
      "metadata": {
        "colab": {
          "base_uri": "https://localhost:8080/",
          "height": 0
        },
        "id": "aDg2GGBjY-jv",
        "outputId": "f357adec-c01c-4c37-9882-24ba6ccc903e"
      },
      "source": [
        "velocity(mass_NR) #velocity of parachoutist with estimated mass, true value is 35"
      ],
      "execution_count": 24,
      "outputs": [
        {
          "output_type": "execute_result",
          "data": {
            "text/plain": [
              "35.000000000000000003"
            ]
          },
          "metadata": {
            "tags": []
          },
          "execution_count": 24
        }
      ]
    },
    {
      "cell_type": "code",
      "metadata": {
        "colab": {
          "base_uri": "https://localhost:8080/",
          "height": 0
        },
        "id": "OkWIrAlBZE75",
        "outputId": "5e034d9f-978f-41b7-d168-fafaeff8562c"
      },
      "source": [
        "err_2[-1] #relative error of velocity"
      ],
      "execution_count": 25,
      "outputs": [
        {
          "output_type": "execute_result",
          "data": {
            "text/plain": [
              "9.912705577010326253e-20"
            ]
          },
          "metadata": {
            "tags": []
          },
          "execution_count": 25
        }
      ]
    },
    {
      "cell_type": "markdown",
      "metadata": {
        "id": "NqanLH10ZCX_"
      },
      "source": [
        "In comparison with False-position method, we obtained much more precise result (almost 7 times more accurate). And it took only 4 iterations until convergence of relative error, which is 2.5 times less. But it required the derivation of analytical formula for derivative, which is compuationaly very expensive. "
      ]
    },
    {
      "cell_type": "markdown",
      "metadata": {
        "id": "f6qO0qsXxPP6"
      },
      "source": [
        "###Secant method\n",
        "\n",
        "As Secant method calculates derivatives based on vlaues of previous iterations, we should provide two initial guesses for mass:\n"
      ]
    },
    {
      "cell_type": "code",
      "metadata": {
        "id": "XcIv8gcHaZ3M"
      },
      "source": [
        "mass_1 = np.float128(50) \n",
        "mass_2 = np.float128(70)"
      ],
      "execution_count": 26,
      "outputs": []
    },
    {
      "cell_type": "markdown",
      "metadata": {
        "id": "wbgnf4hbcT_C"
      },
      "source": [
        "The function `secant_method(mass)` takes a list with two initial guesses and while execution appends approximated values for mass. The alghoritm uses the last two element of the list `mass` to approximate the root."
      ]
    },
    {
      "cell_type": "code",
      "metadata": {
        "id": "k4V9XJEd9ymZ"
      },
      "source": [
        "def secant_method(mass_1, mass_2):\n",
        "  err = []\n",
        "  for i in range(1, max_i):\n",
        "\n",
        "    temp = mass_2\n",
        "    # calculate mass[i+1] value\n",
        "    mass_2 = mass_2 - function(mass_2)/derivative(mass_1, mass_2) \n",
        "    # update mass[i] value\n",
        "    mass_1 = temp\n",
        "    \n",
        "    # we will need values of relative error at each iteration to plot the graph\n",
        "    err.append(relative_error(velocity(mass_2), v_0)) \n",
        "\n",
        "    # compute epsilon_s\n",
        "    epsilon_s=step(mass_1, mass_2) \n",
        "    print(f\"Iteration #{i}, m = {mass_2}, epsilon_s = {epsilon_s}, v = {velocity(mass_2)}, relative error = {err[-1]}\")\n",
        "    \n",
        "    # we approximate mass to value of epsilon_s\n",
        "    if epsilon_s < epsilon: \n",
        "      return mass_2, err\n"
      ],
      "execution_count": 27,
      "outputs": []
    },
    {
      "cell_type": "markdown",
      "metadata": {
        "id": "illCWPtCctZ5"
      },
      "source": [
        "At the end, function `secant_method(mass)` returns the same variables as in previous two methods."
      ]
    },
    {
      "cell_type": "code",
      "metadata": {
        "colab": {
          "base_uri": "https://localhost:8080/",
          "height": 0
        },
        "id": "mSeDFfcPx6K-",
        "outputId": "3823e3cf-d470-49ce-aed8-7567b8f0a49f"
      },
      "source": [
        "mass_SM, err_3 = secant_method(mass_1, mass_2)"
      ],
      "execution_count": 28,
      "outputs": [
        {
          "output_type": "stream",
          "text": [
            "Iteration #1, m = 60.51423018797448, epsilon_s = 0.1567527139081172, v = 35.28846404926169, relative error = 0.008174457490102259\n",
            "Iteration #2, m = 59.79363233296128, epsilon_s = 0.012051414622221887, v = 34.97958430179191, relative error = 0.0005836461071678833\n",
            "Iteration #3, m = 59.841260927771586, epsilon_s = 0.0007959156286461519, v = 35.00009305665517, relative error = 2.6587545072093888e-06\n",
            "Iteration #4, m = 59.841044817249376, epsilon_s = 3.611409574633968e-06, v = 35.00000002983116, relative error = 8.523189458446861e-10\n",
            "Iteration #5, m = 59.84104474794863, epsilon_s = 1.1580804722396314e-09, v = 34.99999999999996, relative error = 1.2459279639744294e-15\n",
            "Iteration #6, m = 59.84104474794873, epsilon_s = 1.692891258446255e-15, v = 35.0, relative error = 9.912705577010326e-20\n"
          ],
          "name": "stdout"
        }
      ]
    },
    {
      "cell_type": "code",
      "metadata": {
        "colab": {
          "base_uri": "https://localhost:8080/",
          "height": 416
        },
        "id": "czH3POcN0xXh",
        "outputId": "e66053df-0b35-4cea-aaec-46e46ce85043"
      },
      "source": [
        "plot_graph(err_3)"
      ],
      "execution_count": 29,
      "outputs": [
        {
          "output_type": "display_data",
          "data": {
            "image/png": "[encoded data removed]",
            "text/plain": [
              "<Figure size 1080x432 with 1 Axes>"
            ]
          },
          "metadata": {
            "tags": [],
            "needs_background": "light"
          }
        }
      ]
    },
    {
      "cell_type": "code",
      "metadata": {
        "colab": {
          "base_uri": "https://localhost:8080/",
          "height": 0
        },
        "id": "4aPCK-OpadQ2",
        "outputId": "1db7fb72-1303-4578-ee9e-6ca6f634e22c"
      },
      "source": [
        "velocity(mass_SM)"
      ],
      "execution_count": 30,
      "outputs": [
        {
          "output_type": "execute_result",
          "data": {
            "text/plain": [
              "34.999999999999999997"
            ]
          },
          "metadata": {
            "tags": []
          },
          "execution_count": 30
        }
      ]
    },
    {
      "cell_type": "markdown",
      "metadata": {
        "id": "qo3vCemidDy1"
      },
      "source": [
        "Secant method still converged faster than False-position method, but its convergence is slower than Newton-Raphson method. The Newton-Raphson real convergence occured at 4 iteration, but we approximate value of $m$ to elevel of $\\varepsilon_s<10^{-12}$. After 5 iteration Newton-Raphson with Secant method have almost the same precision."
      ]
    },
    {
      "cell_type": "code",
      "metadata": {
        "colab": {
          "base_uri": "https://localhost:8080/",
          "height": 0
        },
        "id": "SPPe3cs4dgH0",
        "outputId": "d5ff1b5b-8c8e-450a-a61e-f9512bdbddaf"
      },
      "source": [
        "err_3[-1] - err_2[-1]"
      ],
      "execution_count": 31,
      "outputs": [
        {
          "output_type": "execute_result",
          "data": {
            "text/plain": [
              "1.763241526233431262e-38"
            ]
          },
          "metadata": {
            "tags": []
          },
          "execution_count": 31
        }
      ]
    },
    {
      "cell_type": "code",
      "metadata": {
        "id": "fLvUCLV9sCPU"
      },
      "source": [
        "def show_table():\n",
        "  methods = [\"Graphical\", \"False-position\", \"Newton-Raphson\", \"Secant\"]\n",
        "  iter = [\"–\", len(err_1), len(err_2), len(err_3)]\n",
        "  conv = [\"–\", len(err_1), len(err_2)-1, len(err_3)]\n",
        "  velocities = [velocity(m) for m in masses]\n",
        "  rel_error = [relative_error(v_0, v) for v in velocities]\n",
        "  return pd.DataFrame({'Method': methods, 'Iterations' : iter, 'm, kg': masses, 'v(m), m/s' : velocities, 'Relative error': rel_error, 'Convergence rate':conv})"
      ],
      "execution_count": 33,
      "outputs": []
    },
    {
      "cell_type": "markdown",
      "metadata": {
        "id": "iSp41f4I8aTo"
      },
      "source": [
        "---\n",
        "##Conclusion\n",
        "In this experiment we have tried to approximate $m$ (mass), so that $v(m) = 35 \\ m/s$. We used graphical method to improve understanding of the function's behaviour and have initial quess about the range of possible values for $m$. Then we use these initial guesses to calculate approximate value of $m$ with False-position, Newton-Raphson and Secant Method.\n",
        "\n",
        "We can judge the accuracy of approximated mass based on value of $v(m)$, as we don't know what is a true value of $m$. In the table below you can see summative results shown by different methods."
      ]
    },
    {
      "cell_type": "code",
      "metadata": {
        "colab": {
          "base_uri": "https://localhost:8080/",
          "height": 173
        },
        "id": "CLnTEIGbujBs",
        "outputId": "69e1e0d7-c859-402a-96e4-dd7d82694a5b"
      },
      "source": [
        "show_table()"
      ],
      "execution_count": 34,
      "outputs": [
        {
          "output_type": "execute_result",
          "data": {
            "text/html": [
              "<div>\n",
              "<style scoped>\n",
              "    .dataframe tbody tr th:only-of-type {\n",
              "        vertical-align: middle;\n",
              "    }\n",
              "\n",
              "    .dataframe tbody tr th {\n",
              "        vertical-align: top;\n",
              "    }\n",
              "\n",
              "    .dataframe thead th {\n",
              "        text-align: right;\n",
              "    }\n",
              "</style>\n",
              "<table border=\"1\" class=\"dataframe\">\n",
              "  <thead>\n",
              "    <tr style=\"text-align: right;\">\n",
              "      <th></th>\n",
              "      <th>Method</th>\n",
              "      <th>Iterations</th>\n",
              "      <th>m, kg</th>\n",
              "      <th>v(m), m/s</th>\n",
              "      <th>Relative error</th>\n",
              "      <th>Convergence rate</th>\n",
              "    </tr>\n",
              "  </thead>\n",
              "  <tbody>\n",
              "    <tr>\n",
              "      <th>0</th>\n",
              "      <td>Graphical</td>\n",
              "      <td>–</td>\n",
              "      <td>60.000000</td>\n",
              "      <td>35.06835</td>\n",
              "      <td>1.952868e-03</td>\n",
              "      <td>–</td>\n",
              "    </tr>\n",
              "    <tr>\n",
              "      <th>1</th>\n",
              "      <td>False-position</td>\n",
              "      <td>10</td>\n",
              "      <td>59.841045</td>\n",
              "      <td>35.00000</td>\n",
              "      <td>1.624545e-13</td>\n",
              "      <td>10</td>\n",
              "    </tr>\n",
              "    <tr>\n",
              "      <th>2</th>\n",
              "      <td>Newton-Raphson</td>\n",
              "      <td>5</td>\n",
              "      <td>59.841045</td>\n",
              "      <td>35.00000</td>\n",
              "      <td>9.912706e-20</td>\n",
              "      <td>4</td>\n",
              "    </tr>\n",
              "    <tr>\n",
              "      <th>3</th>\n",
              "      <td>Secant</td>\n",
              "      <td>6</td>\n",
              "      <td>59.841045</td>\n",
              "      <td>35.00000</td>\n",
              "      <td>9.912706e-20</td>\n",
              "      <td>6</td>\n",
              "    </tr>\n",
              "  </tbody>\n",
              "</table>\n",
              "</div>"
            ],
            "text/plain": [
              "           Method Iterations  ...  Relative error  Convergence rate\n",
              "0       Graphical          –  ...    1.952868e-03                 –\n",
              "1  False-position         10  ...    1.624545e-13                10\n",
              "2  Newton-Raphson          5  ...    9.912706e-20                 4\n",
              "3          Secant          6  ...    9.912706e-20                 6\n",
              "\n",
              "[4 rows x 6 columns]"
            ]
          },
          "metadata": {
            "tags": []
          },
          "execution_count": 34
        }
      ]
    },
    {
      "cell_type": "markdown",
      "metadata": {
        "id": "-xFkBpJ8kwx3"
      },
      "source": [
        "From the table, we can conclude that Newton-Raphson and Secant method have shown relatively the same relative error of $\\varepsilon\\approx9.9\\cdot10^{-20}\t$ for $v(m)$. The results in the table are rounded. Newton-Raphson after 5 iterations has shown slightly smaller error than Secant Method."
      ]
    },
    {
      "cell_type": "code",
      "metadata": {
        "colab": {
          "base_uri": "https://localhost:8080/",
          "height": 0
        },
        "id": "TjieZcT8lnhH",
        "outputId": "6974a0e0-d264-4d40-856a-67ebe2079ce6"
      },
      "source": [
        "err_3[-1] - err_2[-1]"
      ],
      "execution_count": 35,
      "outputs": [
        {
          "output_type": "execute_result",
          "data": {
            "text/plain": [
              "1.763241526233431262e-38"
            ]
          },
          "metadata": {
            "tags": []
          },
          "execution_count": 35
        }
      ]
    },
    {
      "cell_type": "markdown",
      "metadata": {
        "id": "TkAtC_7xrNQk"
      },
      "source": [
        "> Note: The precion of approximated mass is also deoends on the datatype which stores our result. The precision of all three methods could be the same if I have used a standart float (I used np.float128 which is more precise).\n"
      ]
    },
    {
      "cell_type": "markdown",
      "metadata": {
        "id": "SshvvMu8l7-e"
      },
      "source": [
        "False-position method coped with the approximation much worse than Newton-Raphson and Secant methods. It approximated the mass with relative error of $\\varepsilon\\approx1.6\\cdot10^{-13}$. In this particular problem, False-position also converged much slower (it took up to 10 iterations to achief precision lower than other two methods). The realization of the alghoritms is also more complicated as it requires to conduct a test to change borders of the interval. In the beginning of the experiment, I have supposed that bracketing methods are more relible than open methods (which is usually the case), but in our problem two open methods converged successfully. So, for our equation, I do not think that False-position method is a good choice."
      ]
    },
    {
      "cell_type": "markdown",
      "metadata": {
        "id": "n7bxUgQMn1e1"
      },
      "source": [
        "As Newton-Raphson and Secant methods have shown relatively the same precision of $9.9\\cdot10^{-20}$, so I would assess them in terms of simplicity of realization, time complexity and convergence rate. Newton-Raphson method is much more difficult to code, as it requires derivation of analytical formula for derivative of function at first. Once I have derived the formula, I have noticed that it contains exponent in power (usually it takes much time to calculate). But this method have shown the smallest convergence rate for this particular problem. Secant method has shown average convergence rate. But its alghoritm was the easiest one and computational cost can be lower than of Newton-Raphson (it depend on function). The Secant method is more general and can be used with any function, while Newton-Raphson method requires new derivative function for each problem."
      ]
    },
    {
      "cell_type": "markdown",
      "metadata": {
        "id": "By954crmrz-5"
      },
      "source": [
        "The maximum precision for three methods:\n",
        "1. False-position methdod's precision $\\approx1.6\\cdot10^{-13}$\n",
        "2. Newton-Raphson's precision $\\approx9.9\\cdot10^{-20}$\n",
        "3. Secant method's precision $\\approx9.9\\cdot10^{-20}$"
      ]
    },
    {
      "cell_type": "markdown",
      "metadata": {
        "id": "wydfLZbgpHKf"
      },
      "source": [
        "Overall I think that the fastest method for our equation was Newton-Raphson method, as its convergence rate was the smallest one. In the future to make more convinient conclusion it would be better if we also compare time complexities of those methods. But if I needed to choose the most convinient method, I would probably used a Secant method. Derivation of analytical formula for derivative and its compuation takes much time. If it was a different problem that converged much slower, the difference in time execution between Secant method and Newton-Raphson method would be more obvious. "
      ]
    },
    {
      "cell_type": "markdown",
      "metadata": {
        "id": "oqNa3uBlrGqB"
      },
      "source": [
        "The conclusion of this experiment assumes that we judge perfomance of the three methods with particular equation. It does not states that the outcome of the experiment is always the case. The experiment also does not take into account the effect of choosing different initial guess, which may affect convergence rate. The fastest solution in terms of convergence (not time!, judging time complexity beyond the scope of this experiment) for our equation is Newton-Raphson method. "
      ]
    }
  ]
}