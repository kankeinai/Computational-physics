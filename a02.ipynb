{
  "nbformat": 4,
  "nbformat_minor": 0,
  "metadata": {
    "colab": {
      "name": "a02.ipynb",
      "provenance": [],
      "collapsed_sections": [],
      "toc_visible": true,
      "include_colab_link": true
    },
    "kernelspec": {
      "name": "python3",
      "display_name": "Python 3"
    }
  },
  "cells": [
    {
      "cell_type": "markdown",
      "metadata": {
        "id": "view-in-github",
        "colab_type": "text"
      },
      "source": [
        "<a href=\"https://colab.research.google.com/github/kankeinai/physics_classes/blob/main/a02.ipynb\" target=\"_parent\"><img src=\"https://colab.research.google.com/assets/colab-badge.svg\" alt=\"Open In Colab\"/></a>"
      ]
    },
    {
      "cell_type": "markdown",
      "metadata": {
        "id": "ysA45nwH37Y0"
      },
      "source": [
        "# **PHYS270 Assigmment 2: Numerical Errors**\n",
        "Student Name: Begantsova Milana"
      ]
    },
    {
      "cell_type": "markdown",
      "metadata": {
        "id": "oZJeg5s3FQq6"
      },
      "source": [
        "---\n",
        "## Abstract\n",
        "In this experiment, I examine contribution of truncation and round-off error by computing \"ideal\" values with mathematical formula and comparing them with approximated values. The result of the experiment is two graphs of relative error versus number of iterations."
      ]
    },
    {
      "cell_type": "markdown",
      "metadata": {
        "id": "tQzfqplhFSeM"
      },
      "source": [
        "---\n",
        "##Introduction\n",
        "There are\n",
        "three major sources of error in computation: ***human errors, truncation errors, and round-off\n",
        "bold text***. Human errors occur when someone makes mistakes in the formula (parenthesis), misused some operations or just forget something, for example to take absolute value. But examining of human errors is not the part of this experiment. In this work, I study the effect of truncation error and try to decrease the impact of round-off error. \n",
        "\n",
        "**Truncation error** is usually assosiated with aproximation. When it is not possible to calculate the exact answer, and we can only approximate it using constant iterations, the accuracy of our result will depend only on number of this iterations. \n",
        "\n",
        "The modern computer allow us to calculate values with high precision and accuracy, but still not perfect. The second contributor to error is **round-off error** which is directly assosoated with the way real numbers are stores in computers. The computer stores a number as a sequence of 0-s and 1-s. Datatypes determine how much bits will be allocated to store data/number. The number of significant figures of such numbers is not infinite, so while computing rounding may occur.\n",
        "\n",
        "Our role as of scientist is to take into account that **values computed with computing technology are not perfect**. Sometimes to get more actual data, we should try to avoid approximation with infinite number of terms (maybe there is some mathematical analog to this formula), or use as much terms as we can to achief needed accuracy. Or we at least can decrease round-off error by allocating more memory to storing of numbers."
      ]
    },
    {
      "cell_type": "markdown",
      "metadata": {
        "id": "7yvh2qtxFXMZ"
      },
      "source": [
        "---\n",
        "##Method\n",
        "\n"
      ]
    },
    {
      "cell_type": "markdown",
      "metadata": {
        "id": "34hYvlOkPQhw"
      },
      "source": [
        "In this experiment we will mostly examine ***truncation error*** of computing, meaning the error due to approximations. This error will be evaluated using true relatative error formula. At the begining, we will examine some function $f(x)$ and will try to mathematically compute the most accurate values using function `harmonic()` from library `mpmath`. These values then will be considered as ideal ones and will be used to calculate relative error of our approximation. \n",
        "\n",
        "While approximation, we will use \"brute force\" approach, meaning guesing until achieving the right answer. To compute value of $f(x)$, I will use `numpy arrays` as they are more efficient to use than lists and for loops when we have many terms/iterations. I will increase number of iterations/terms, until I get a relative error of $\\varepsilon=10^{-6}$. Then I will plot these graphs to see how relative error depends on number of iterations. At the graphs will be examined on existance of trends and dependencies. The experiment will be conducted twice with two similar formulas. This will allow to compare the situations and make trust-worthier conclusions.\n",
        "\n",
        "During all calculations, I will use library `mpmath` that allows to store numbers with ***round-off error*** $\\approx 1.3\\cdot10^{-26}$, so that contrimbution of round-off error can be neglected."
      ]
    },
    {
      "cell_type": "markdown",
      "metadata": {
        "id": "26VwzZhJ2Tu-"
      },
      "source": [
        "\n",
        "\n",
        "---\n",
        "\n",
        "\n",
        "##Experiment\n",
        "In this experiment, we should suggest what are the possible sources of numerical errors while computing.\n",
        "\n",
        "In the first part of the experiment, we should use formula:\n",
        "> $$f(x) = \\sum\\limits_{k=1}^{\\infty} \\frac{1}{k(k+x)} (1)$$\n",
        "\n",
        "and derive formula that will allow us to compute accurate values of $f(x)$, where $x$ can be any real number. To derive this formula, we will substitute different values of $f(x)$ and try to see any pattern. At the end, we will compute accurate values of $f(0), f(0.9), f(20)$.\n",
        "\n",
        "\n",
        "\n",
        "\n"
      ]
    },
    {
      "cell_type": "markdown",
      "metadata": {
        "id": "yOjrsaSHEsG2"
      },
      "source": [
        "In the second part, we will use formula(1) with upper-limit $n$, where $n$ will be number of terms/iterations. We will use \"brute force\" approach to calculate how many iterations will allow us to compute $f(x)$ with relative error of $\\varepsilon=10^{-6}$. To see how the realtive error changes with increasing number of iterations, we will plot a graph of $n$ versus $\\varepsilon$ for different values of $f(x)$. "
      ]
    },
    {
      "cell_type": "markdown",
      "metadata": {
        "id": "CrOnpl8kEug3"
      },
      "source": [
        "In the last part of experiment, we will do the same procedure as in the second part, but instead of convergence of $f(x)$, we will examine $f(x)-f(1)$. At first, we should prove that $f(1)=1$"
      ]
    },
    {
      "cell_type": "markdown",
      "metadata": {
        "id": "l9psjnkXEyfZ"
      },
      "source": [
        "The purpose of this experiment is to observe and examine how the relative error changes with $k\\rightarrow\\infty$. This can be done by writing a function that uses original formula for $f(x)$ and by comparing it with accurate sum.\n",
        "\n",
        "To calculate relative error, we will use next formula [1, p. 56]:\n",
        "\n",
        "> $$\\varepsilon=\\frac{measured-true}{true} (2)$$"
      ]
    },
    {
      "cell_type": "markdown",
      "metadata": {
        "id": "vum9VhDIE3wm"
      },
      "source": [
        "###Part 1"
      ]
    },
    {
      "cell_type": "markdown",
      "metadata": {
        "id": "3gWO6MbnUC8Q"
      },
      "source": [
        "At first, let me import all libraries needed while the experiment. From numpy library, I will use np.arrange(1,n) function to effective calculate formula(1). I could use for-loop and lists instead, but numpy arrays has better time efficiency. As we will use \"brute force\" approach, it could take many iterations until the series converge. \n",
        "\n",
        "In the later parts we also need to plot graphs of relative error versus number of iterations. To plot this graphs, I will use matplotlib.\n",
        "\n",
        "The use of library mpmath will be explained later.\n"
      ]
    },
    {
      "cell_type": "code",
      "metadata": {
        "id": "9B5Gt8svTTQQ"
      },
      "source": [
        "import numpy as np\n",
        "import matplotlib.pyplot as plt\n",
        "from mpmath import harmonic, mp\n",
        "from math import sqrt"
      ],
      "execution_count": 31,
      "outputs": []
    },
    {
      "cell_type": "markdown",
      "metadata": {
        "id": "kLYn_kbtGdpA"
      },
      "source": [
        "As it was stated at the begining of the experiment, we should calculate accurate values for $f(0), f(0.9), f(20)$, where $f(x)$ is formula (1).\n",
        "\n",
        "If we substitute $x=0$, we will get the formula known as Basels problem. The analytical solution of Basels problem states that value of $f(0)$ is\n",
        "\n",
        "> $$f(0) = \\sum\\limits_{k=1}^{\\infty} \\frac{1}{k^2}=\\frac{\\pi^2}{6}$$\n",
        "\n",
        "\n",
        "We can prove it mathematically, but it's not part of our experiment."
      ]
    },
    {
      "cell_type": "markdown",
      "metadata": {
        "id": "vPaMyg7DH6s1"
      },
      "source": [
        "To derive formula for $f(x)$, where $x\\neq0$, lets substitute next values $x=0.9, x=20$:\n",
        "$$f(0.9) = \\sum\\limits_{k=1}^{\\infty} \\frac{1}{k(k+0.9)}=\\frac{10}{9}\\sum\\limits_{k=1}^{\\infty} \\left[\\frac{1}{k}-\\frac{1}{k+0.9}\\right]=\\frac{10}{9}\\sum\\limits_{k=1}^{0.9}\\frac{1}{k}$$\n",
        "\n",
        "$$f(20) = \\sum\\limits_{k=1}^{\\infty} \\frac{1}{k(k+20)}=\\frac{1}{20}\\sum\\limits_{k=1}^{\\infty}\\left[ \\frac{1}{k}-\\frac{1}{k+20}\\right]=\\frac{1}{20}\\sum\\limits_{k=1}^{20}\\frac{1}{k}$$"
      ]
    },
    {
      "cell_type": "markdown",
      "metadata": {
        "id": "w9NVpyfiIQ9x"
      },
      "source": [
        "The experiment definition asks us to compute $f(x)$, where $x\\in\\mathbb{R}^{+}$. But mathematically our formula for $f(0.9)$ does not seem correct (the step of sum is usually 1, and upper limit should be greater then lower one)."
      ]
    },
    {
      "cell_type": "markdown",
      "metadata": {
        "id": "PWBNL_6f6RvL"
      },
      "source": [
        "Ignoring that fact, we can see a pattern:\n",
        "\n",
        "> $$f(x)=\\frac{1}{x}\\sum\\limits_{k=1}^{x}\\frac{1}{k}$$\n",
        "\n",
        "\n",
        "This formula is similar to definition of n-th harmonic number, except $\\frac{1}{x}$ term that can be easily calculated. n-th harmonic number is the sum of reciprocals of first $n$-natural numbers.\n"
      ]
    },
    {
      "cell_type": "markdown",
      "metadata": {
        "id": "LcM_5HPgJ0yX"
      },
      "source": [
        "As it turned out, some libraries of python has function named `harmonic(n)` to compute n-th harmonic number, where $n$ can be any real number. In this experiment, I used function `harmonic(n)` from library `mpmath`. The main feature of this library is that it has it's own datatype called `mpf` for storing floating point numbers. We can increase number of significant figures of `mpf` just by changing default settings. "
      ]
    },
    {
      "cell_type": "code",
      "metadata": {
        "colab": {
          "base_uri": "https://localhost:8080/"
        },
        "id": "A_NpYUsCL9_V",
        "outputId": "f6426787-2134-44a0-eae5-7eff652e3948"
      },
      "source": [
        "print(mp)"
      ],
      "execution_count": 3,
      "outputs": [
        {
          "output_type": "stream",
          "text": [
            "Mpmath settings:\n",
            "  mp.prec = 53                [default: 53]\n",
            "  mp.dps = 15                 [default: 15]\n",
            "  mp.trap_complex = False     [default: False]\n"
          ],
          "name": "stdout"
        }
      ]
    },
    {
      "cell_type": "markdown",
      "metadata": {
        "id": "1Q4pB9nsMDXl"
      },
      "source": [
        "By default, the `mpmath` library stores numbers with 15 significant figures. I decided to increase this value to 25, as the purpose of the first part is to calculate accurate values of $f(x)$."
      ]
    },
    {
      "cell_type": "code",
      "metadata": {
        "id": "w8KZjGZaMbRN",
        "colab": {
          "base_uri": "https://localhost:8080/"
        },
        "outputId": "721dc926-a2d4-45b0-a6d9-27cac2909c9f"
      },
      "source": [
        "mp.dps=25\n",
        "print(mp)"
      ],
      "execution_count": 50,
      "outputs": [
        {
          "output_type": "stream",
          "text": [
            "Mpmath settings:\n",
            "  mp.prec = 86                [default: 53]\n",
            "  mp.dps = 25                 [default: 15]\n",
            "  mp.trap_complex = False     [default: False]\n"
          ],
          "name": "stdout"
        }
      ]
    },
    {
      "cell_type": "markdown",
      "metadata": {
        "id": "4CRSuwrLGyuk"
      },
      "source": [
        "We can see that mp.prec (precision) insreased from 53 to 86, meaning that now 83 bits are allocated to store mantissa of a number. There is formula for computing round unit or machine precision that allows to evaluate round-off error, where $bit$ is number of bits used to store mantissa of float number."
      ]
    },
    {
      "cell_type": "markdown",
      "metadata": {
        "id": "ZIGy8hf0MSpy"
      },
      "source": [
        "$$\\eta=2^{-bit}$$"
      ]
    },
    {
      "cell_type": "code",
      "metadata": {
        "colab": {
          "base_uri": "https://localhost:8080/"
        },
        "id": "Nytc-LtnMwDS",
        "outputId": "6c3ec673-2cba-4203-9c9d-bb366634da39"
      },
      "source": [
        "print(f\"Round-off error of standart float: {2**(-53)}\\nRound-off error in our experiment {2**(-mp.prec)}\")"
      ],
      "execution_count": 5,
      "outputs": [
        {
          "output_type": "stream",
          "text": [
            "Round-off error of standart float: 1.1102230246251565e-16\n",
            "Round-off error in our experiment 1.2924697071141057e-26\n"
          ],
          "name": "stdout"
        }
      ]
    },
    {
      "cell_type": "markdown",
      "metadata": {
        "id": "zGdt1JQWcsGJ"
      },
      "source": [
        "So, you can see that mpf datatype stores values with highier accuracy:"
      ]
    },
    {
      "cell_type": "code",
      "metadata": {
        "colab": {
          "base_uri": "https://localhost:8080/"
        },
        "id": "GLuWTWTJaV8u",
        "outputId": "5da5a55d-2adf-49f5-b110-055214891065"
      },
      "source": [
        "eps=mp.convert(sqrt(2)*10**(-26))\n",
        "eps, sqrt(2)*10**(-26)"
      ],
      "execution_count": 62,
      "outputs": [
        {
          "output_type": "execute_result",
          "data": {
            "text/plain": [
              "(mpf('1.414213562373095222014256241e-26'), 1.4142135623730952e-26)"
            ]
          },
          "metadata": {
            "tags": []
          },
          "execution_count": 62
        }
      ]
    },
    {
      "cell_type": "markdown",
      "metadata": {
        "id": "ReSzn-P0L6Vf"
      },
      "source": [
        "There are other python libraries, for example `scypy`, that has similar function, but the difference is that `scypy` works with default float datatype. By using `mpmath` libary, we can at decrease contribution of round-off error in $\\approx$ 10 times.\n",
        "\n",
        "\n"
      ]
    },
    {
      "cell_type": "markdown",
      "metadata": {
        "id": "7iYPAMxzNoSe"
      },
      "source": [
        "The mathematical formula for $n$-th harmonic number works only for natural numbers. As you can see at the Figure 1, the graph is dicrete.\n",
        "<center>\n",
        "<img src=\"https://mathworld.wolfram.com/images/eps-gif/HarmonicNumber_1000.gif\"></br>\n",
        "Figure 1 - The graph of $H_n$ versus $n$\n",
        "</center>\n",
        "\n",
        "So, I wondered if a `harmonic(n)` works for real numbers."
      ]
    },
    {
      "cell_type": "code",
      "metadata": {
        "colab": {
          "base_uri": "https://localhost:8080/"
        },
        "id": "O17d6BZtPzhc",
        "outputId": "81a89eda-1a04-4dfa-d798-cd9a2bf80aa9"
      },
      "source": [
        "print(\"harmonic(0.9) = \", harmonic(0.9))"
      ],
      "execution_count": 6,
      "outputs": [
        {
          "output_type": "stream",
          "text": [
            "harmonic(0.9) =  0.9333998260655925951072876\n"
          ],
          "name": "stdout"
        }
      ]
    },
    {
      "cell_type": "markdown",
      "metadata": {
        "id": "eoxfdPN5QAWn"
      },
      "source": [
        "It seems that function works correct for real numbers too . If we look at the Figure 1, we will see that $f(0.9)\\approx 1$. \n",
        "\n",
        "To be sure, I have looked at the documentation of `mpmath` library. As it turned out, the `harmonic(n)` computes the value of harmonic number using approximation not by summing terms as in the mathematical formula. As a result, this function works fine even for real numbers.\n",
        "\n",
        "The final formula for accurate value of $f(x), x\\geq 0$:\n",
        "\n",
        "> $$f(x)=\\frac{1}{x} \\cdot harmonic(x), x\\in\\mathbb{R}^{+}, f(0)=\\frac{\\pi^2}{6}$$\n",
        "\n",
        "\n"
      ]
    },
    {
      "cell_type": "markdown",
      "metadata": {
        "id": "Dyn9KQ2URXL3"
      },
      "source": [
        "Python implementation:"
      ]
    },
    {
      "cell_type": "code",
      "metadata": {
        "id": "Y0lxqakqP4x8"
      },
      "source": [
        "def accurate_sum(x):\n",
        "  if x==0:\n",
        "     return mp.pi**2/6\n",
        "  elif x>0:\n",
        "     return 1/x*harmonic(x)\n",
        "  else:\n",
        "      return \"error\""
      ],
      "execution_count": 7,
      "outputs": []
    },
    {
      "cell_type": "markdown",
      "metadata": {
        "id": "SWwkjs7pSiFq"
      },
      "source": [
        "Now, lets compute accurate values for $x=0, x=0.9$ and $x=20$ using our function `accurate_sum(x)`."
      ]
    },
    {
      "cell_type": "code",
      "metadata": {
        "colab": {
          "base_uri": "https://localhost:8080/"
        },
        "id": "yC_9WnuWSyBH",
        "outputId": "dbcfa517-93c4-4b06-ee23-683cb0fd40bb"
      },
      "source": [
        "x_val=[0, 0.9, 20]\n",
        "\n",
        "sums=[accurate_sum(x) for x in x_val]\n",
        "\n",
        "for x, sum in zip(x_val,sums):\n",
        "  print(f\"f({x}) = {sum} with {mp.dps} significant figures.\")"
      ],
      "execution_count": 8,
      "outputs": [
        {
          "output_type": "stream",
          "text": [
            "f(0) = 1.644934066848226436472415 with 25 significant figures.\n",
            "f(0.9) = 1.037110917850658485065074 with 25 significant figures.\n",
            "f(20) = 0.179886982857184105559922 with 25 significant figures.\n"
          ],
          "name": "stdout"
        }
      ]
    },
    {
      "cell_type": "markdown",
      "metadata": {
        "id": "vedUPFQkV0sq"
      },
      "source": [
        "###Part 2\n",
        "Now, we need try to approximate value of $f(x)$ using original formula(1). I defined function `sum_series(x, n)`, which takes `x` – value of $x$, `n` – number of terms and then returns approximate $f(x)$. I predict that the accuracy of approximated $f(x)$ will increase with number of terms `n`.\n",
        "\n"
      ]
    },
    {
      "cell_type": "code",
      "metadata": {
        "id": "WjxT3PSDW9hd"
      },
      "source": [
        "def sum_series(x, n, part_1=True):\n",
        "  k = np.arange(1,n) # create array with values (1, 2, 3 ... n)\n",
        "  return np.sum(1/(k*(k+x))) # substitute each k from array to formula and sum them all\n"
      ],
      "execution_count": 9,
      "outputs": []
    },
    {
      "cell_type": "markdown",
      "metadata": {
        "id": "8Lpx1w5VX4_t"
      },
      "source": [
        "To evaluate the accuracy of our function, I will use relative error formula. The function `relative_error(measured, true)` takes `measured` – approximated value of $f(x)$, `true` – the accurate value from Part 1, and returns relative error calculated with formula (2)."
      ]
    },
    {
      "cell_type": "code",
      "metadata": {
        "id": "S03b53xJT2WY"
      },
      "source": [
        "def relative_error(measured, true):\n",
        "  return abs((measured-true)/true) # formula for relative error, abs is used as error should be positive"
      ],
      "execution_count": 10,
      "outputs": []
    },
    {
      "cell_type": "markdown",
      "metadata": {
        "id": "zeCvYR73YmGn"
      },
      "source": [
        "The experiment definition ask us to compute how many iterations are needed to compute approximated value of $f(x)$ with relative error of $\\varepsilon=10^{-6}$. I expect that series' convergence will take long time, so I will check relative error every 100 terms (`step=100`)."
      ]
    },
    {
      "cell_type": "code",
      "metadata": {
        "id": "_8VGMf0vBI7E"
      },
      "source": [
        "needed_iter = [] # will store how many iterations are needed for each value of x \n",
        "epsilon = 10e-6 # stores needed relative error\n",
        "step = 100 "
      ],
      "execution_count": 11,
      "outputs": []
    },
    {
      "cell_type": "markdown",
      "metadata": {
        "id": "LbGeVYksZqFy"
      },
      "source": [
        "We need to identify with \"brute force\" approach how many iterations are needed to achief defined relative error. The loop will continue until needed error is achieved. If our function `sum_series(x, n)` works incorrectly, the loop will be infinite and we should recheck it. I will use the same function `find_iter()` to calculate number of iterations in the Part 3. So when I call this function in Part 3, I should set `part_2 = False ` (by default it is set to `True`). The difference between Part 2 and 3 is the function to compute."
      ]
    },
    {
      "cell_type": "code",
      "metadata": {
        "id": "kY7nHYTdHB2w"
      },
      "source": [
        "def find_iter(x, true, step, part_2=True):\n",
        "  k=0\n",
        "  while True:\n",
        "    \n",
        "    if part_2:\n",
        "      # sum_series(x,n) will return approximated with n-terms value of f(x)\n",
        "      measured = sum_series(x,k) \n",
        "    else:\n",
        "      # sum_series_new(x,n) will return approximated with n-terms value of f(x)-f(1), used in part 3\n",
        "      measured = sum_series_new(x,k) \n",
        "    \n",
        "    if relative_error(measured, true)>epsilon: \n",
        "      k+=step # each time our error > 10e-6, increase number of iteration by 100\n",
        "    else: \n",
        "      break # if our error <= 10e-6, stop while loop\n",
        "  \n",
        "  return k, float(relative_error(true, measured)) # return number of iteration, error (to print it later)\n"
      ],
      "execution_count": 12,
      "outputs": []
    },
    {
      "cell_type": "markdown",
      "metadata": {
        "id": "lPzDf9i_bUl7"
      },
      "source": [
        "Now, we have all functions needed to calculate how many iterations are needed to approximate $f(0), f(0.9), f(20)$.\n",
        "\n",
        "> Note: `x_val` stores values of $x$, `sums` stores accurate values of $f(x)$\n",
        "\n"
      ]
    },
    {
      "cell_type": "code",
      "metadata": {
        "colab": {
          "base_uri": "https://localhost:8080/"
        },
        "id": "RybWyQoSE_Cf",
        "outputId": "dc4c870a-1f64-47ee-9d60-00a1c3ffe9cb"
      },
      "source": [
        "for x, true in zip(x_val, sums):\n",
        "  k, err = find_iter(x, true, step) # store number of iterations and error\n",
        "  needed_iter.append(k) # store number of iterations (we will need it later)\n",
        "  print(f\"To have f({x}) with relative error = {err:.4e} <= {epsilon}, we need {k} iterations\")"
      ],
      "execution_count": 13,
      "outputs": [
        {
          "output_type": "stream",
          "text": [
            "To have f(0) with relative error = 9.9990e-06 <= 1e-05, we need 60800 iterations\n",
            "To have f(0.9) with relative error = 9.9920e-06 <= 1e-05, we need 96500 iterations\n",
            "To have f(20) with relative error = 1.0000e-05 <= 1e-05, we need 555900 iterations\n"
          ],
          "name": "stdout"
        }
      ]
    },
    {
      "cell_type": "markdown",
      "metadata": {
        "id": "_5Ffzyw8N5IK"
      },
      "source": [
        "We identified number of iterations, now we need to plot graph of number of iterations versus relative error. We will graph similar plot in Part 3, so I wrote a function `plot_graph(iter, error)`. We plot three graphs at the same plot, so `iter` and `error` store x, y data for all graphs."
      ]
    },
    {
      "cell_type": "code",
      "metadata": {
        "id": "oLXkdMQYfy7F"
      },
      "source": [
        "def plot_graph(x_val, iter, error):\n",
        "  fig, ax = plt.subplots(figsize=(15, 6))\n",
        "  plt.rcParams.update({'font.size': 14})\n",
        "  labels = [f\"f({x})\" for x in x_val]\n",
        "  for x, y in zip(iter, error):\n",
        "    ax.plot(x, y)\n",
        "  ax.legend(labels)\n",
        "  ax.set(title='Relative error vs number of terms')\n",
        "  plt.yscale('log')\n",
        "  plt.xlabel('k, terms',fontsize=14)\n",
        "  plt.ylabel('e, value of error',fontsize=14)\n",
        "  plt.show()"
      ],
      "execution_count": 26,
      "outputs": []
    },
    {
      "cell_type": "markdown",
      "metadata": {
        "id": "WSaz2_vojVTM"
      },
      "source": [
        "For each value of $x$ we generate ordered list `x_values` of elements between 0 and $k+1$ with `step=100` (so that the graph will be smooth), where k is number of iterations computed earlier.\n",
        "Then we generate list `y_values` that stores relative error for each number of iterations for each element in `x_values`."
      ]
    },
    {
      "cell_type": "code",
      "metadata": {
        "colab": {
          "base_uri": "https://localhost:8080/"
        },
        "id": "ksrTzbHeSEqC",
        "outputId": "62b91dcb-af0e-4009-a229-a461cbf803db"
      },
      "source": [
        "iterations = [] \n",
        "errors = []\n",
        "\n",
        "for x, true, iter in zip(x_val, sums, needed_iter):\n",
        "\n",
        "    x_values=range(0, iter+1, step)\n",
        "    y_values =[relative_error(sum_series(x, n), true) for n in x_values]\n",
        "    \n",
        "    iterations.append(x_values)\n",
        "    errors.append(y_values)\n",
        "    print(f\"Values for x = {x} are ready\")"
      ],
      "execution_count": 15,
      "outputs": [
        {
          "output_type": "stream",
          "text": [
            "Values for x = 0 are ready\n",
            "Values for x = 0.9 are ready\n",
            "Values for x = 20 are ready\n"
          ],
          "name": "stdout"
        }
      ]
    },
    {
      "cell_type": "markdown",
      "metadata": {
        "id": "pf6417sboO3F"
      },
      "source": [
        "Now, we have data for all needed values of $f(x)$, and it is time to plot it."
      ]
    },
    {
      "cell_type": "code",
      "metadata": {
        "colab": {
          "base_uri": "https://localhost:8080/",
          "height": 416
        },
        "id": "gwiMTY1pfwfk",
        "outputId": "cee2678e-9a24-48d4-c811-fd0bbd0ca3b5"
      },
      "source": [
        "plot_graph(x_val, iterations, errors)"
      ],
      "execution_count": 27,
      "outputs": [
        {
          "output_type": "display_data",
          "data": {
            "image/png": "[encoded data removed]",
            "text/plain": [
              "<Figure size 1080x432 with 1 Axes>"
            ]
          },
          "metadata": {
            "tags": [],
            "needs_background": "light"
          }
        }
      ]
    },
    {
      "cell_type": "markdown",
      "metadata": {
        "id": "sH-f67kjUXiO"
      },
      "source": [
        "We see there that as number or iteration increases, the relative error, thus truncative error, decreases. At first it decreases dramatically, but then the absolute value gradient value decreases. With big value of $x$, it takes much more terms to approximate it. "
      ]
    },
    {
      "cell_type": "markdown",
      "metadata": {
        "id": "h8yWsDdvfHrk"
      },
      "source": [
        "###Part 3\n",
        "In this part we will do relatively the same procedure as in Part 2, but we will examine convergence of $f(x)-f(1)$. As, we again need accurate values for $f(x)-f(1)$, we at first should examine value of f(1)."
      ]
    },
    {
      "cell_type": "markdown",
      "metadata": {
        "id": "MarWnsNoa3gj"
      },
      "source": [
        "> Note that: $$\\frac{1}{k(k+1)}=\\frac{1}{k}-\\frac{1}{k+1}$$\n",
        "\n",
        "Then if we substitute this expression to the initial formula, we will get:\n",
        "$$f(1) = \\sum\\limits_{k=1}^{\\infty} \\frac{1}{k(k+1)}= \\sum\\limits_{k=1}^{\\infty}\\left[\\frac{1}{k}-\\frac{1}{k+1}\\right]=\\sum\\limits_{k=1}^{1}\\frac{1}{k}=1$$\n",
        "Which is the same, as our formula for $f(x)$ in Part 1, so our function `accurate_sum(x)` should work for $f(1)$:"
      ]
    },
    {
      "cell_type": "code",
      "metadata": {
        "colab": {
          "base_uri": "https://localhost:8080/"
        },
        "id": "ez7ho7HOVipV",
        "outputId": "cc7bc2bc-a328-423b-f0b4-067b10955c83"
      },
      "source": [
        "print(\"f(1)=\", accurate_sum(1))"
      ],
      "execution_count": 17,
      "outputs": [
        {
          "output_type": "stream",
          "text": [
            "f(1)= 1.0\n"
          ],
          "name": "stdout"
        }
      ]
    },
    {
      "cell_type": "markdown",
      "metadata": {
        "id": "_r8GVjcDfWv5"
      },
      "source": [
        "Now, we should compute how many iterations we will need for function:\n",
        "$$f(x)-f(1) = \\sum\\limits_{k=1}^{\\infty}\\left[\\frac{1}{k(k+x)}-\\frac{1}{k}+\\frac{1}{k+1}\\right]$$\n",
        "to converge."
      ]
    },
    {
      "cell_type": "markdown",
      "metadata": {
        "id": "YwF0y2HffPzH"
      },
      "source": [
        "Lets compute new values for $f(x)-f(1)$ with $x=0$, $x=0.9$, $x=20$"
      ]
    },
    {
      "cell_type": "code",
      "metadata": {
        "id": "pqqa81vHfPMG",
        "colab": {
          "base_uri": "https://localhost:8080/"
        },
        "outputId": "c85fc5d4-4389-4cc4-e7c6-e0c3f17399c4"
      },
      "source": [
        "sums_new=[sum-accurate_sum(1) for sum in sums]\n",
        "\n",
        "for x, sum in zip(x_val,sums_new):\n",
        "  print(f\"f({x}) - f(1) = {sum} with {mp.dps} significant figures.\")"
      ],
      "execution_count": 18,
      "outputs": [
        {
          "output_type": "stream",
          "text": [
            "f(0) - f(1) = 0.6449340668482264364724152 with 25 significant figures.\n",
            "f(0.9) - f(1) = 0.03711091785065848506507408 with 25 significant figures.\n",
            "f(20) - f(1) = -0.820113017142815894440078 with 25 significant figures.\n"
          ],
          "name": "stdout"
        }
      ]
    },
    {
      "cell_type": "markdown",
      "metadata": {
        "id": "6xPnKSv3g82j"
      },
      "source": [
        "And modify already existing function for computing sum, as now we have additional term:"
      ]
    },
    {
      "cell_type": "code",
      "metadata": {
        "id": "T0b3ui5Ox19o"
      },
      "source": [
        "def sum_series_new(x, n):\n",
        "  k = np.arange(1,n) # create array with values (1, 2, 3 ... n)\n",
        "  return np.sum(1/(k*(k+x))-1/k+1/(k+1)) # substitute each k from array to formula and sum them all"
      ],
      "execution_count": 19,
      "outputs": []
    },
    {
      "cell_type": "markdown",
      "metadata": {
        "id": "NSzMti3mBZuq"
      },
      "source": [
        "At this time, I predict that series will converge faster, so I decreased `step` from 100 to 25, namely I will compute relative error every 25 term."
      ]
    },
    {
      "cell_type": "code",
      "metadata": {
        "id": "cClUGtOYuuD3"
      },
      "source": [
        "step = 25"
      ],
      "execution_count": 20,
      "outputs": []
    },
    {
      "cell_type": "markdown",
      "metadata": {
        "id": "fjTFEZCfBsWE"
      },
      "source": [
        "We already have ready function for computing number of needed terms to approximate $f(x)$ with relative error of $\\varepsilon=10^{-6}$, we just need pass additional parameter `part_2=False` to function `find_iter()`"
      ]
    },
    {
      "cell_type": "code",
      "metadata": {
        "colab": {
          "base_uri": "https://localhost:8080/"
        },
        "id": "NX1OPfZchQWn",
        "outputId": "6523bcdb-ed00-48c0-8aa8-31330b839097"
      },
      "source": [
        "needed_iter_new = []\n",
        "for x, true_value in zip(x_val, sums_new):\n",
        "  \n",
        "  k, err = find_iter(x, true_value, step, part_2=False)\n",
        "  needed_iter_new.append(k)\n",
        "  \n",
        "  print(f\"To have f({x}) - f(1) with relative error = {err:.3e} < {epsilon}, we need {k} iterations\")"
      ],
      "execution_count": 21,
      "outputs": [
        {
          "output_type": "stream",
          "text": [
            "To have f(0) - f(1) with relative error = 8.624e-06 < 1e-05, we need 300 iterations\n",
            "To have f(0.9) - f(1) with relative error = 9.574e-06 < 1e-05, we need 375 iterations\n",
            "To have f(20) - f(1) with relative error = 9.904e-06 < 1e-05, we need 1075 iterations\n"
          ],
          "name": "stdout"
        }
      ]
    },
    {
      "cell_type": "markdown",
      "metadata": {
        "id": "Ss60o6GgCK4m"
      },
      "source": [
        "The values for $f(x)-f(1)$ indeed converged faster than for $f(x)$.\n",
        "\n",
        "In the same manner as in Part 2, we should compute values for our relative error versus number of terms graph. "
      ]
    },
    {
      "cell_type": "code",
      "metadata": {
        "colab": {
          "base_uri": "https://localhost:8080/"
        },
        "id": "kq2uPGgQkIQl",
        "outputId": "d4cca38c-3785-4abd-fd64-6f45d7010240"
      },
      "source": [
        "iterations_new = [] \n",
        "errors_new = []\n",
        "\n",
        "for x, true_value, iter in zip(x_val, sums_new, needed_iter_new):\n",
        "  \n",
        "    x_values = range(0, iter+1, step)\n",
        "    y_values = [relative_error(sum_series_new(x, k), true_value) for k in x_values]\n",
        "\n",
        "    iterations_new.append(x_values)\n",
        "    errors_new.append(y_values)\n",
        "    \n",
        "    print(f\"Values for x={x} are ready\")\n"
      ],
      "execution_count": 22,
      "outputs": [
        {
          "output_type": "stream",
          "text": [
            "Values for x=0 are ready\n",
            "Values for x=0.9 are ready\n",
            "Values for x=20 are ready\n"
          ],
          "name": "stdout"
        }
      ]
    },
    {
      "cell_type": "markdown",
      "metadata": {
        "id": "fC2Bk4z-Cpey"
      },
      "source": [
        "In Part 2, we have already written function `plot_graph()`, lets use it."
      ]
    },
    {
      "cell_type": "code",
      "metadata": {
        "colab": {
          "base_uri": "https://localhost:8080/",
          "height": 416
        },
        "id": "t0jA5X1Uh3C-",
        "outputId": "853f5713-3abf-4006-a82a-d21b8664e3ce"
      },
      "source": [
        "plot_graph(x_val, iterations_new, errors_new)"
      ],
      "execution_count": 28,
      "outputs": [
        {
          "output_type": "display_data",
          "data": {
            "image/png": "[encoded data removed]",
            "text/plain": [
              "<Figure size 1080x432 with 1 Axes>"
            ]
          },
          "metadata": {
            "tags": [],
            "needs_background": "light"
          }
        }
      ]
    },
    {
      "cell_type": "markdown",
      "metadata": {
        "id": "I4d9_X_6USq0"
      },
      "source": [
        "We see there similar behaviour as in Part 2, except function itself converges much faster. So, we work with smaller numbers, and it takes smaller number of terms to approximate it to needed relative error."
      ]
    },
    {
      "cell_type": "markdown",
      "metadata": {
        "id": "BZ_-kSDEehhD"
      },
      "source": [
        "\n",
        "\n",
        "---\n",
        "\n",
        "\n",
        "##Conclusion"
      ]
    },
    {
      "cell_type": "markdown",
      "metadata": {
        "id": "u_StUimS-6ZX"
      },
      "source": [
        "By looking at both graphs, I can conclude that greater number of iterations, the less error. And the relative error of $\\varepsilon=10^{-6}$ is not a limit, as graphs does not seem to converge. As long as number of iterations will approach infinity, the error will approach zero. One more conclusion is that the bigger value of $x$ in $f(x)$, the greater number of iterations are needed to compute more or less accurate sum.\n",
        "\n",
        "Table 1 – Number of terms needed to approximate $f(x)$ with relative error of $\\varepsilon=10^{-6}$\n",
        "\n",
        "$f(0)$ | $f(0.9)$ | $f(20)$\n",
        "--- | --- | ---\n",
        "$60800\\pm100$ | $96500\\pm100$ | $555900\\pm100$"
      ]
    },
    {
      "cell_type": "code",
      "metadata": {
        "colab": {
          "base_uri": "https://localhost:8080/",
          "height": 394
        },
        "id": "eQphpRTqUE0c",
        "outputId": "9ce2ffba-3e8b-4b3e-d8d7-6a4c8ecd251a"
      },
      "source": [
        "plot_graph(x_val, iterations, errors)"
      ],
      "execution_count": 24,
      "outputs": [
        {
          "output_type": "display_data",
          "data": {
            "image/png": "[encoded data removed]",
            "text/plain": [
              "<Figure size 1296x432 with 1 Axes>"
            ]
          },
          "metadata": {
            "tags": [],
            "needs_background": "light"
          }
        }
      ]
    },
    {
      "cell_type": "markdown",
      "metadata": {
        "id": "v89bZBUN-7SK"
      },
      "source": [
        "The second graph even more confirms my assumptions. As mathematically $f(x)-f(1)$ converges far more faster.\n",
        "\n",
        "Table 2 – Number of terms needed to approximate $f(x)-f(1)$ with relative error of $\\varepsilon=10^{-6}$\n",
        "\n",
        "$f(0)-f(1)$ | $f(0.9)-f(1)$ | $f(20)-f(1)$\n",
        "--- | --- | ---\n",
        "$300\\pm25$ | $375\\pm25$ | $1075\\pm25$"
      ]
    },
    {
      "cell_type": "code",
      "metadata": {
        "colab": {
          "base_uri": "https://localhost:8080/",
          "height": 394
        },
        "id": "A_P7Se6VUHYg",
        "outputId": "94dd46f9-dcbc-4b6a-b80d-cd3952b3dfc2"
      },
      "source": [
        "plot_graph(x_val, iterations_new, errors_new)"
      ],
      "execution_count": 25,
      "outputs": [
        {
          "output_type": "display_data",
          "data": {
            "image/png": "[encoded data removed]",
            "text/plain": [
              "<Figure size 1296x432 with 1 Axes>"
            ]
          },
          "metadata": {
            "tags": [],
            "needs_background": "light"
          }
        }
      ]
    },
    {
      "cell_type": "markdown",
      "metadata": {
        "id": "fmoPFHvKW9xV"
      },
      "source": [
        "This experiment has shown the significance of evaluating numerical error of computing. In future studies and researches that require high precision and accuracy, this skill will be crucial as it can directly affect the result. In physics and chemistry, we usually work with very small amount of substances (or oposite). So, we should always take into account this kind of errors."
      ]
    },
    {
      "cell_type": "markdown",
      "metadata": {
        "id": "hw8MEIkOYWaW"
      },
      "source": [
        "To improve this experiment in the future, I would suggest to use one formula to approximate but with more values for $x$. For each value of $x$, we could calculate needed number of iterations and plot the graph of iterations versus $x$. This will confirm assumption that numerically for python it is more costly to approximate $f(x)$, for big $x$. "
      ]
    }
  ]
}